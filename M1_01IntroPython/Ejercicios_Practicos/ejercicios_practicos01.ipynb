{
 "cells": [
  {
   "cell_type": "markdown",
   "metadata": {},
   "source": [
    "# Ejercicios de Tipos de Datos Simples"
   ]
  },
  {
   "cell_type": "markdown",
   "metadata": {},
   "source": [
    "## Ejercicio 1\n",
    "\n",
    "Escribir un programa que muestre por pantalla la cadena `¡Hola Mundo!`.\n",
    "\n",
    "## Ejercicio 2\n",
    "\n",
    "Escribir un programa que almacene la cadena `¡Hola Mundo!` en una variable y luego muestre por pantalla el contenido de la variable.\n",
    "\n",
    "## Ejercicio 3\n",
    "\n",
    "Escribir un programa que pregunte el nombre del usuario en una caja de texto y después de que el usuario lo introduzca muestre por pantalla la cadena `¡Hola <nombre>!`, donde <nombre> es el nombre que el usuario haya introducido.\n",
    "\n",
    "## Ejercicio 4\n",
    "\n",
    "Escribir un programa que muestre por pantalla el resultado de la siguiente operación aritmética:\n",
    "\n",
    "$ \\frac{(3 + 2)}{2 * 5}^2$\n",
    "\n",
    "## Ejercicio 5\n",
    "\n",
    "Escribir un programa que pregunte al usuario por el número de horas trabajadas y el coste por hora. Después debe mostrar por pantalla la paga que le corresponde.\n",
    "\n",
    "## Ejercicio 6\n",
    "\n",
    "Escribir un programa que lea un entero positivo $n$ introducido por el usuario y después muestre en pantalla la suma de todos los enteros desde 1 hasta $n$. La suma de los primeros enteros positivos puede ser calculada de la siguiente forma:\n",
    "\n",
    "$\\text{suma} = \\frac{n(n + 1)}{2}$\n",
    "\n",
    "## Ejercicio 7\n",
    "\n",
    "Escribir un programa que pida al usuario su peso (en kg) y estatura (en metros), calcule el índice de masa corporal y lo almacene en una variable, y muestre por pantalla la frase `Tu índice de masa corporal es: <imc>` donde `imc` es el índice de masa corporal calculado redondeado con dos decimales.\n",
    "\n",
    "## Ejercicio 8\n",
    "\n",
    "Escribir un programa que pida al usuario dos números enteros y muestre por pantalla la division `n` entre `m` que da como resultado el cociente `c` y un residuo `r` donde `n` y `m` son los números introducidos por el usuario, y `c` y `r` son el cociente y el residuo de la división entera respectivamente.\n",
    "Ej:\n",
    "`La division <n> / <m> = <c> con residuo <r>`\n",
    "\n",
    "## Ejercicio 9\n",
    "\n",
    "Escribir un programa que pregunte al usuario una cantidad a invertir, el interés anual y el número de años, y muestre por pantalla el capital obtenido en la inversión.\n",
    "\n",
    "## Ejercicio 10\n",
    "\n",
    "Una juguetería tiene mucho éxito en dos de sus productos: payasos y muñecas. Suele hacer venta por correo y la empresa de logística les cobra por peso de cada paquete así que deben calcular el peso de los payasos y muñecas que saldrán en cada paquete a demanda. Cada payaso pesa 112 g y cada muñeca 75 g. Escribir un programa que lea el número de payasos y muñecas vendidos en el último pedido y calcule el peso total del paquete que será enviado.\n",
    "\n",
    "## Ejercicio 11\n",
    "\n",
    "Imagina que acabas de abrir una nueva cuenta de ahorros que te ofrece el 4% de interés al año. Estos ahorros debido a intereses, que no se cobran hasta finales de año, se te añaden al balance final de tu cuenta de ahorros. Escribir un programa que comience leyendo la cantidad de dinero depositada en la cuenta de ahorros, introducida por el usuario. Después el programa debe calcular y mostrar por pantalla la cantidad de ahorros tras el primer, segundo y tercer años. Redondear cada cantidad a dos decimales.\n",
    "\n",
    "## Ejercicio 12\n",
    "\n",
    "Una panadería vende barras de pan a 3.49€ cada una. El pan que no es el día tiene un descuento del 60%. Escribir un programa que comience leyendo el número de barras vendidas que no son del día. Después el programa debe mostrar el precio habitual de una barra de pan, el descuento que se le hace por no ser fresca y el coste final total.\n",
    "\n"
   ]
  },
  {
   "cell_type": "code",
   "execution_count": null,
   "metadata": {},
   "outputs": [],
   "source": [
    "Ejerccio 12\n",
    "\n"
   ]
  },
  {
   "cell_type": "code",
   "execution_count": null,
   "metadata": {},
   "outputs": [
    {
     "name": "stdout",
     "output_type": "stream",
     "text": [
      "El precio habitual de una barra de pan es: $3.49\n",
      "El descuento por no ser pan fresco es: $2.094\n",
      "El coste final es 20.94\n"
     ]
    }
   ],
   "source": [
    "# Barras de pan 3.49\n",
    "# Descuento del 60% con panes que no son del dia\n",
    "\n",
    "panes_no_dia = int(input(\"Ingrese el  numero de panes vendididos que no son del dia: \\n\"))\n",
    "print(\"El precio habitual de una barra de pan es: $3.49\")\n",
    "descuento = 3.49 * 0.6\n",
    "print(f\"El descuento por no ser pan fresco es: ${descuento}\")\n",
    "coste_final = panes_no_dia * descuento\n",
    "print(f\"El coste final es {round(coste_final, 2)}\")"
   ]
  }
 ],
 "metadata": {
  "kernelspec": {
   "display_name": "Python 3",
   "language": "python",
   "name": "python3"
  },
  "language_info": {
   "codemirror_mode": {
    "name": "ipython",
    "version": 3
   },
   "file_extension": ".py",
   "mimetype": "text/x-python",
   "name": "python",
   "nbconvert_exporter": "python",
   "pygments_lexer": "ipython3",
   "version": "3.12.9"
  }
 },
 "nbformat": 4,
 "nbformat_minor": 2
}
