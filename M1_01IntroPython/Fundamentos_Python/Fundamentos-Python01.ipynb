{
 "cells": [
  {
   "cell_type": "markdown",
   "metadata": {
    "toc": true
   },
   "source": [
    "<h1>Tabla de Contenidos<span class=\"tocSkip\"></span></h1>\n",
    "<div class=\"toc\"><ul class=\"toc-item\"><li><span><a href=\"#Introducción\" data-toc-modified-id=\"Introducción-1\"><span class=\"toc-item-num\">1&nbsp;&nbsp;</span>Introducción</a></span></li><li><span><a href=\"#Ingresando-expresiones-en-el-Shell-Interactivo\" data-toc-modified-id=\"Ingresando-expresiones-en-el-Shell-Interactivo-2\"><span class=\"toc-item-num\">2&nbsp;&nbsp;</span>Ingresando expresiones en el Shell Interactivo</a></span><ul class=\"toc-item\"><li><ul class=\"toc-item\"><li><span><a href=\"#No-se-preocupen-por-los-errores\" data-toc-modified-id=\"No-se-preocupen-por-los-errores-2.0.1\"><span class=\"toc-item-num\">2.0.1&nbsp;&nbsp;</span>No se preocupen por los errores</a></span></li></ul></li><li><span><a href=\"#Precedencia\" data-toc-modified-id=\"Precedencia-2.1\"><span class=\"toc-item-num\">2.1&nbsp;&nbsp;</span>Precedencia</a></span></li></ul></li><li><span><a href=\"#Tipos-de-Datos:-Enteros,-de-punto-flotante,-y-cadena-de-caracteres\" data-toc-modified-id=\"Tipos-de-Datos:-Enteros,-de-punto-flotante,-y-cadena-de-caracteres-3\"><span class=\"toc-item-num\">3&nbsp;&nbsp;</span>Tipos de Datos: Enteros, de punto flotante, y cadena de caracteres</a></span><ul class=\"toc-item\"><li><span><a href=\"#Concatenación-de-Cadenas-de-Caracteres-y-Replicación\" data-toc-modified-id=\"Concatenación-de-Cadenas-de-Caracteres-y-Replicación-3.1\"><span class=\"toc-item-num\">3.1&nbsp;&nbsp;</span>Concatenación de Cadenas de Caracteres y Replicación</a></span></li></ul></li><li><span><a href=\"#Almacenando-Valores-en-Variables\" data-toc-modified-id=\"Almacenando-Valores-en-Variables-4\"><span class=\"toc-item-num\">4&nbsp;&nbsp;</span>Almacenando Valores en Variables</a></span><ul class=\"toc-item\"><li><span><a href=\"#Estamentos-de-Asignación\" data-toc-modified-id=\"Estamentos-de-Asignación-4.1\"><span class=\"toc-item-num\">4.1&nbsp;&nbsp;</span>Estamentos de Asignación</a></span></li><li><span><a href=\"#Nombres-de-Variables\" data-toc-modified-id=\"Nombres-de-Variables-4.2\"><span class=\"toc-item-num\">4.2&nbsp;&nbsp;</span>Nombres de Variables</a></span></li></ul></li><li><span><a href=\"#Mi-Primer-Programa\" data-toc-modified-id=\"Mi-Primer-Programa-5\"><span class=\"toc-item-num\">5&nbsp;&nbsp;</span>Mi Primer Programa</a></span><ul class=\"toc-item\"><li><span><a href=\"#Entendiendo-el-Programa\" data-toc-modified-id=\"Entendiendo-el-Programa-5.1\"><span class=\"toc-item-num\">5.1&nbsp;&nbsp;</span>Entendiendo el Programa</a></span><ul class=\"toc-item\"><li><span><a href=\"#Comentarios\" data-toc-modified-id=\"Comentarios-5.1.1\"><span class=\"toc-item-num\">5.1.1&nbsp;&nbsp;</span>Comentarios</a></span></li><li><span><a href=\"#La-función-print()\" data-toc-modified-id=\"La-función-print()-5.1.2\"><span class=\"toc-item-num\">5.1.2&nbsp;&nbsp;</span>La función <code>print()</code></a></span></li><li><span><a href=\"#La-función-input()\" data-toc-modified-id=\"La-función-input()-5.1.3\"><span class=\"toc-item-num\">5.1.3&nbsp;&nbsp;</span>La función <code>input()</code></a></span></li><li><span><a href=\"#Imprimiendo-el-nombre-de-ususario\" data-toc-modified-id=\"Imprimiendo-el-nombre-de-ususario-5.1.4\"><span class=\"toc-item-num\">5.1.4&nbsp;&nbsp;</span>Imprimiendo el nombre de ususario</a></span></li><li><span><a href=\"#La-función-len()\" data-toc-modified-id=\"La-función-len()-5.1.5\"><span class=\"toc-item-num\">5.1.5&nbsp;&nbsp;</span>La función <code>len()</code></a></span></li><li><span><a href=\"#Las-funciones-str(),-int()-y-float()\" data-toc-modified-id=\"Las-funciones-str(),-int()-y-float()-5.1.6\"><span class=\"toc-item-num\">5.1.6&nbsp;&nbsp;</span>Las funciones <code>str()</code>, <code>int()</code> y <code>float()</code></a></span></li></ul></li></ul></li></ul></div>"
   ]
  },
  {
   "cell_type": "markdown",
   "metadata": {
    "slideshow": {
     "slide_type": "slide"
    }
   },
   "source": [
    "# Introducción"
   ]
  },
  {
   "cell_type": "markdown",
   "metadata": {},
   "source": [
    "Probablemente, Python sea uno de los lenguajes de programación más simples y poderosos que existan, esto es un punto a favor no sólo para principiantes sino también para expertos y lo mejor de todo es que es divertido programar en él. En este Jupiter Notebook , estudiaremos los principios básicos de Python, haremos nuestro primer programa, lo examinaremos y entenderemos, en aras de, eventualmente, automatizar las tareas aburridas de la cotidianidad."
   ]
  },
  {
   "cell_type": "markdown",
   "metadata": {},
   "source": [
    "# Ingresando expresiones en la celda de código\n",
    "\n",
    "En la celda que se muestra a continuación, se visualiza el terminal donde se pueden ingresar todo tipo de instrucciones. Ingerese  `2 + 2`"
   ]
  },
  {
   "cell_type": "code",
   "execution_count": 1,
   "metadata": {},
   "outputs": [
    {
     "data": {
      "text/plain": [
       "4"
      ]
     },
     "execution_count": 1,
     "metadata": {},
     "output_type": "execute_result"
    }
   ],
   "source": [
    "2 + 2"
   ]
  },
  {
   "cell_type": "markdown",
   "metadata": {},
   "source": [
    "En Python, `2 + 2` es una **expresión**, es la expresión más básica que existe. Las expresiones estan compuestas por ***valores*** (como `2`) y ***operadores*** (como el signo `+`); éstas siempre se evalúan para obtener una versión reducida y más simple de la misma. Esto significa que puedes usar expresiones en tu codigo cada vez que necesites un valor."
   ]
  },
  {
   "cell_type": "markdown",
   "metadata": {},
   "source": [
    "En el ejemplo previo, `2 + 2`, es evaluada, obteniendo el valor de `4`. Un valor único sin operadores, es considerado también una expresión, aunque se evalúe sólo él mismo. "
   ]
  },
  {
   "cell_type": "code",
   "execution_count": 2,
   "metadata": {},
   "outputs": [
    {
     "data": {
      "text/plain": [
       "5"
      ]
     },
     "execution_count": 2,
     "metadata": {},
     "output_type": "execute_result"
    }
   ],
   "source": [
    "5"
   ]
  },
  {
   "cell_type": "markdown",
   "metadata": {},
   "source": [
    "### No se preocupen por los errores\n",
    "\n",
    "Los programas pueden fallar en medio de la ejecución si contiene código que el computador no entiende. Esto puede causar que Python muestre un mensaje de error. El mensaje de error no afectará el computador donde haya ocurrido, así que no hay porque temer a los errores. Un fallo en un programa, significa que éste terminó inesperadamente."
   ]
  },
  {
   "cell_type": "markdown",
   "metadata": {},
   "source": [
    "## Precedencia"
   ]
  },
  {
   "cell_type": "markdown",
   "metadata": {},
   "source": [
    "<img src=\"https://i.imgur.com/qHSd4gv.png\" width=\"500\">"
   ]
  },
  {
   "cell_type": "markdown",
   "metadata": {},
   "source": [
    "El orden de las operaciones es llamada **precedencia** y es similar al de las operaciones matemáticas. El Operador `**` es evaluado primero, `*`, `/`, `//`, y `%` son evaluados después respectivamente, por último se evalúa el `+` y el `-`  (de izquierda a derecha). Se pueden usar paréntesis para forzar el orden de las operaciones, en caso de necesitarlo. Ingrese las siguientes expresiones en el Shell interactivo."
   ]
  },
  {
   "cell_type": "code",
   "execution_count": 3,
   "metadata": {},
   "outputs": [
    {
     "data": {
      "text/plain": [
       "20"
      ]
     },
     "execution_count": 3,
     "metadata": {},
     "output_type": "execute_result"
    }
   ],
   "source": [
    "2 + 3 * 6"
   ]
  },
  {
   "cell_type": "code",
   "execution_count": 4,
   "metadata": {},
   "outputs": [
    {
     "data": {
      "text/plain": [
       "30"
      ]
     },
     "execution_count": 4,
     "metadata": {},
     "output_type": "execute_result"
    }
   ],
   "source": [
    "(2 + 3) * 6"
   ]
  },
  {
   "cell_type": "code",
   "execution_count": 5,
   "metadata": {},
   "outputs": [
    {
     "data": {
      "text/plain": [
       "165234211152"
      ]
     },
     "execution_count": 5,
     "metadata": {},
     "output_type": "execute_result"
    }
   ],
   "source": [
    "6986352 * 23651"
   ]
  },
  {
   "cell_type": "code",
   "execution_count": 6,
   "metadata": {},
   "outputs": [
    {
     "data": {
      "text/plain": [
       "256"
      ]
     },
     "execution_count": 6,
     "metadata": {},
     "output_type": "execute_result"
    }
   ],
   "source": [
    "2 ** 8"
   ]
  },
  {
   "cell_type": "code",
   "execution_count": 7,
   "metadata": {},
   "outputs": [
    {
     "data": {
      "text/plain": [
       "2"
      ]
     },
     "execution_count": 7,
     "metadata": {},
     "output_type": "execute_result"
    }
   ],
   "source": [
    "23 % 7"
   ]
  },
  {
   "cell_type": "code",
   "execution_count": 8,
   "metadata": {},
   "outputs": [
    {
     "data": {
      "text/plain": [
       "4"
      ]
     },
     "execution_count": 8,
     "metadata": {},
     "output_type": "execute_result"
    }
   ],
   "source": [
    "2           +              2"
   ]
  },
  {
   "cell_type": "code",
   "execution_count": 9,
   "metadata": {},
   "outputs": [
    {
     "data": {
      "text/plain": [
       "16.0"
      ]
     },
     "execution_count": 9,
     "metadata": {},
     "output_type": "execute_result"
    }
   ],
   "source": [
    "(5 - 1) * ((7 + 1) / (3 - 1))"
   ]
  },
  {
   "cell_type": "markdown",
   "metadata": {},
   "source": [
    "En cada caso, usted como programador, ingresó las expresiones, pero Python hace la parte complicada de evaluarlas para obtener un único valor, como se muestra a continuación."
   ]
  },
  {
   "cell_type": "markdown",
   "metadata": {},
   "source": [
    "<img src=\"https://i.imgur.com/glP6hGO.png?1\" width=\"200\">"
   ]
  },
  {
   "cell_type": "markdown",
   "metadata": {},
   "source": [
    "Estas reglas para construir expresiones poniendo ***operadores*** y ***valores*** juntos, son una parte fundamental de Python como lenguaje de programación; de la misma manera funciona el lenguaje español con sus reglas gramaticales. "
   ]
  },
  {
   "cell_type": "markdown",
   "metadata": {},
   "source": [
    "**Esta es una oración gramaticalmente correcta**"
   ]
  },
  {
   "cell_type": "markdown",
   "metadata": {},
   "source": [
    "**Gramaticalmente una oración esta correcta es** "
   ]
  },
  {
   "cell_type": "markdown",
   "metadata": {},
   "source": [
    "La segunda oración es difícil de entender porque no obedece a las reglas gramaticales del idioma español. Si se ingresa una mala instrucción en Python, éste mostrará un error de sintaxis. "
   ]
  },
  {
   "cell_type": "code",
   "execution_count": 10,
   "metadata": {},
   "outputs": [
    {
     "ename": "SyntaxError",
     "evalue": "invalid syntax (3142945653.py, line 1)",
     "output_type": "error",
     "traceback": [
      "  \u001b[36mCell\u001b[39m\u001b[36m \u001b[39m\u001b[32mIn[10]\u001b[39m\u001b[32m, line 1\u001b[39m\n\u001b[31m    \u001b[39m\u001b[31m5 +\u001b[39m\n       ^\n\u001b[31mSyntaxError\u001b[39m\u001b[31m:\u001b[39m invalid syntax\n"
     ]
    }
   ],
   "source": [
    "5 +"
   ]
  },
  {
   "cell_type": "code",
   "execution_count": 11,
   "metadata": {
    "scrolled": true
   },
   "outputs": [
    {
     "ename": "SyntaxError",
     "evalue": "invalid syntax (3854472213.py, line 1)",
     "output_type": "error",
     "traceback": [
      "  \u001b[36mCell\u001b[39m\u001b[36m \u001b[39m\u001b[32mIn[11]\u001b[39m\u001b[32m, line 1\u001b[39m\n\u001b[31m    \u001b[39m\u001b[31m42 + 5 + * 2\u001b[39m\n             ^\n\u001b[31mSyntaxError\u001b[39m\u001b[31m:\u001b[39m invalid syntax\n"
     ]
    }
   ],
   "source": [
    "42 + 5 + * 2"
   ]
  },
  {
   "cell_type": "markdown",
   "metadata": {},
   "source": [
    "Siempre se puede verificar si una expresión es correcta al ingresarla primero en la celda de código."
   ]
  },
  {
   "cell_type": "markdown",
   "metadata": {},
   "source": [
    "# Tipos de Datos: Enteros, de punto flotante, y cadena de caracteres"
   ]
  },
  {
   "cell_type": "markdown",
   "metadata": {},
   "source": [
    "Recordemos que las expresiones son valores combinados con operadores que se evalúan para obtener un valor único. Un **tipo de dato**  es una categoría para los valores, teniendo en cuenta que cada valor pertenece a, exactamente, un tipo de dato. Los tipos de datos más comunes en Python, se muestran en la siguiente tabla."
   ]
  },
  {
   "cell_type": "markdown",
   "metadata": {},
   "source": [
    "<img src=\"https://i.imgur.com/b8WN6co.png\" width=\"500\">"
   ]
  },
  {
   "cell_type": "markdown",
   "metadata": {},
   "source": [
    "Los programas en Python también pueden tener valores representados por cadenas de caracteres llamados ***strings*** o ***strs***. Siempre encierre sus cadenas de caracteres en comillas simples `'` por ejemplo: `'Hola Mundo!'` o `'Adiós mundo cruel'`, de esta manera, Python sabrá donde empieza y donde termina. También pueden existir cadenas de caracteres vacías `''`, llamadas cadenas en blanco. No terminar una cadena de caracteres con comillas producirá el siguiente error:"
   ]
  },
  {
   "cell_type": "code",
   "execution_count": 12,
   "metadata": {},
   "outputs": [
    {
     "ename": "SyntaxError",
     "evalue": "unterminated string literal (detected at line 1) (3559363755.py, line 1)",
     "output_type": "error",
     "traceback": [
      "  \u001b[36mCell\u001b[39m\u001b[36m \u001b[39m\u001b[32mIn[12]\u001b[39m\u001b[32m, line 1\u001b[39m\n\u001b[31m    \u001b[39m\u001b[31m'Hola Mundo\u001b[39m\n    ^\n\u001b[31mSyntaxError\u001b[39m\u001b[31m:\u001b[39m unterminated string literal (detected at line 1)\n"
     ]
    }
   ],
   "source": [
    "'Hola Mundo"
   ]
  },
  {
   "cell_type": "markdown",
   "metadata": {},
   "source": [
    "## Concatenación de Cadenas de Caracteres y Replicación"
   ]
  },
  {
   "cell_type": "markdown",
   "metadata": {},
   "source": [
    "El significado de un operador puede cambiar de acuerdo al tipo de dato de los valores a operar. Por ejemplo, `+` es la adición siempre y cuando los valores sean enteros o de punto flotante. Sin embargo, cuando se usa `+` en dos cadenas de caracteres, el resultado es la unión de ambas. A este proceso se le conoce como concatenación. Ingrese la siguiente expresión en el Shell interactivo."
   ]
  },
  {
   "cell_type": "code",
   "execution_count": 13,
   "metadata": {},
   "outputs": [
    {
     "data": {
      "text/plain": [
       "'AliciaBob'"
      ]
     },
     "execution_count": 13,
     "metadata": {},
     "output_type": "execute_result"
    }
   ],
   "source": [
    "'Alicia' + 'Bob'"
   ]
  },
  {
   "cell_type": "markdown",
   "metadata": {},
   "source": [
    "La expresión se evalúa a un único valor, siendo este, una nueva cadena de caracteres que une el texto de ambas cadenas previas. Sin embargo, si se trata de una cadena de caracteres y un número entero , Python no sabrá como manejar esto y mostrará un mensaje de error."
   ]
  },
  {
   "cell_type": "code",
   "execution_count": 14,
   "metadata": {},
   "outputs": [
    {
     "ename": "TypeError",
     "evalue": "can only concatenate str (not \"int\") to str",
     "output_type": "error",
     "traceback": [
      "\u001b[31m---------------------------------------------------------------------------\u001b[39m",
      "\u001b[31mTypeError\u001b[39m                                 Traceback (most recent call last)",
      "\u001b[36mCell\u001b[39m\u001b[36m \u001b[39m\u001b[32mIn[14]\u001b[39m\u001b[32m, line 1\u001b[39m\n\u001b[32m----> \u001b[39m\u001b[32m1\u001b[39m \u001b[33;43m'\u001b[39;49m\u001b[33;43mAlicia\u001b[39;49m\u001b[33;43m'\u001b[39;49m\u001b[43m \u001b[49m\u001b[43m+\u001b[49m\u001b[43m \u001b[49m\u001b[32;43m42\u001b[39;49m\n",
      "\u001b[31mTypeError\u001b[39m: can only concatenate str (not \"int\") to str"
     ]
    }
   ],
   "source": [
    "'Alicia' + 42"
   ]
  },
  {
   "cell_type": "markdown",
   "metadata": {},
   "source": [
    "El error: `TypeError: can only concatenate str (not \"int\") to str` significa que el segundo operador debe ser de tipo *string* para poderlo concatenar con la cadena `'Alicia'`. El código debe convertir explícitamente el entero a cadena de caracteres ya que Python no es capaz de hacer esto automaticamente."
   ]
  },
  {
   "cell_type": "markdown",
   "metadata": {},
   "source": [
    "El operador `*` es usado para multiplicación cuando aparece en enteros o números de punto flotante. Pero cuando el operador es usado sobre una cadena y un número entero, se convierte en el operador *replicación de la cadena* . Ingrese una cadena en el shell interactivo y multiplíquela por un entero para ver esto en acción."
   ]
  },
  {
   "cell_type": "code",
   "execution_count": 15,
   "metadata": {},
   "outputs": [
    {
     "data": {
      "text/plain": [
       "'AliciaAliciaAliciaAliciaAlicia'"
      ]
     },
     "execution_count": 15,
     "metadata": {},
     "output_type": "execute_result"
    }
   ],
   "source": [
    "'Alicia' * 5"
   ]
  },
  {
   "cell_type": "markdown",
   "metadata": {},
   "source": [
    "La expresión se evalúa a un único valor que repite la cadena original el número de veces indicado por el número entero. La replicación de cadenas es un truco útil pero no es tan usado como la concatenación de cadenas. El operador `*` puede ser usado entre número entero o de punto flotante, así como en cadena de caracteres y número entero. Sin embargo, si se usa de cualquier otra forma, Python mostrará un mensaje de error."
   ]
  },
  {
   "cell_type": "code",
   "execution_count": 16,
   "metadata": {},
   "outputs": [
    {
     "ename": "TypeError",
     "evalue": "can't multiply sequence by non-int of type 'str'",
     "output_type": "error",
     "traceback": [
      "\u001b[31m---------------------------------------------------------------------------\u001b[39m",
      "\u001b[31mTypeError\u001b[39m                                 Traceback (most recent call last)",
      "\u001b[36mCell\u001b[39m\u001b[36m \u001b[39m\u001b[32mIn[16]\u001b[39m\u001b[32m, line 1\u001b[39m\n\u001b[32m----> \u001b[39m\u001b[32m1\u001b[39m \u001b[33;43m'\u001b[39;49m\u001b[33;43mAlicia\u001b[39;49m\u001b[33;43m'\u001b[39;49m\u001b[43m \u001b[49m\u001b[43m*\u001b[49m\u001b[43m \u001b[49m\u001b[33;43m'\u001b[39;49m\u001b[33;43mBob\u001b[39;49m\u001b[33;43m'\u001b[39;49m\n",
      "\u001b[31mTypeError\u001b[39m: can't multiply sequence by non-int of type 'str'"
     ]
    }
   ],
   "source": [
    "'Alicia' * 'Bob'"
   ]
  },
  {
   "cell_type": "code",
   "execution_count": 17,
   "metadata": {},
   "outputs": [
    {
     "ename": "TypeError",
     "evalue": "can't multiply sequence by non-int of type 'float'",
     "output_type": "error",
     "traceback": [
      "\u001b[31m---------------------------------------------------------------------------\u001b[39m",
      "\u001b[31mTypeError\u001b[39m                                 Traceback (most recent call last)",
      "\u001b[36mCell\u001b[39m\u001b[36m \u001b[39m\u001b[32mIn[17]\u001b[39m\u001b[32m, line 1\u001b[39m\n\u001b[32m----> \u001b[39m\u001b[32m1\u001b[39m \u001b[33;43m'\u001b[39;49m\u001b[33;43mAlicia\u001b[39;49m\u001b[33;43m'\u001b[39;49m\u001b[43m \u001b[49m\u001b[43m*\u001b[49m\u001b[43m \u001b[49m\u001b[32;43m5.0\u001b[39;49m\n",
      "\u001b[31mTypeError\u001b[39m: can't multiply sequence by non-int of type 'float'"
     ]
    }
   ],
   "source": [
    "'Alicia' * 5.0"
   ]
  },
  {
   "cell_type": "markdown",
   "metadata": {},
   "source": [
    "Tiene sentido que Python no entienda esta instrucción, uno no puede multiplicar dos palabras o replicar una cadena de caracteres un número fraccionario de veces. "
   ]
  },
  {
   "cell_type": "markdown",
   "metadata": {},
   "source": [
    "# Almacenando Valores en Variables"
   ]
  },
  {
   "cell_type": "markdown",
   "metadata": {},
   "source": [
    "Una ***variable*** es como una caja en la memoria de un computador donde se puede almacenar un valor único. Si se desea usar el resultado de una expresión previamente evaluada, para ser trabajarla posteriormente, se debe almacenar en una variable. "
   ]
  },
  {
   "cell_type": "markdown",
   "metadata": {},
   "source": [
    "## Estamentos de Asignación"
   ]
  },
  {
   "cell_type": "markdown",
   "metadata": {},
   "source": [
    "Para almacenar valores en variables se debe usar un **estamento de asignación** . Un estamento de asignación se compone del nombre o identificador de la variable, un signo de igual (llamado **woperador de asignación**) y el valor a almacenar. Si se ingresa el estamento de asignación `spam = 42`, una variable llamada `spam` almacenará el valor `42`. Piense en una variable como una caja etiquetada que contiene un valor."
   ]
  },
  {
   "cell_type": "markdown",
   "metadata": {},
   "source": [
    "<img src=\"https://i.imgur.com/XYOb4FN.png?1\" width=\"200\">"
   ]
  },
  {
   "cell_type": "code",
   "execution_count": 18,
   "metadata": {},
   "outputs": [
    {
     "data": {
      "text/plain": [
       "42"
      ]
     },
     "execution_count": 18,
     "metadata": {},
     "output_type": "execute_result"
    }
   ],
   "source": [
    "# Celda 1\n",
    "spam = 42 \n",
    "spam"
   ]
  },
  {
   "cell_type": "code",
   "execution_count": 19,
   "metadata": {},
   "outputs": [
    {
     "data": {
      "text/plain": [
       "44"
      ]
     },
     "execution_count": 19,
     "metadata": {},
     "output_type": "execute_result"
    }
   ],
   "source": [
    "# Celda 2\n",
    "eggs = 2\n",
    "spam + eggs"
   ]
  },
  {
   "cell_type": "code",
   "execution_count": 20,
   "metadata": {},
   "outputs": [
    {
     "data": {
      "text/plain": [
       "86"
      ]
     },
     "execution_count": 20,
     "metadata": {},
     "output_type": "execute_result"
    }
   ],
   "source": [
    "spam + eggs + spam"
   ]
  },
  {
   "cell_type": "code",
   "execution_count": 21,
   "metadata": {},
   "outputs": [
    {
     "data": {
      "text/plain": [
       "44"
      ]
     },
     "execution_count": 21,
     "metadata": {},
     "output_type": "execute_result"
    }
   ],
   "source": [
    "# Celda 3\n",
    "spam = spam + 2\n",
    "spam"
   ]
  },
  {
   "cell_type": "markdown",
   "metadata": {},
   "source": [
    "Una variable es inicializada (o creada) por primera vez, cuando se almacena un valor en ella (Celda 1). Luego puede ser usada en expresiones con otros valores de variables (Celda 2). Cuando se le asigna un nuevo valor a una variable (Celda 3), el antiguo valor es olvidado, por ese motivo spam es evaluado a `44` en lugar de `42`. A este proceso se le llama *sobreescribir* una variable. Ingrese el siguiente codigo en shell interactivo para tratar de sobreescribir una cadena."
   ]
  },
  {
   "cell_type": "code",
   "execution_count": 22,
   "metadata": {},
   "outputs": [
    {
     "data": {
      "text/plain": [
       "'Hello'"
      ]
     },
     "execution_count": 22,
     "metadata": {},
     "output_type": "execute_result"
    }
   ],
   "source": [
    "spam = 'Hello'\n",
    "spam"
   ]
  },
  {
   "cell_type": "code",
   "execution_count": 23,
   "metadata": {},
   "outputs": [
    {
     "data": {
      "text/plain": [
       "'Goodbye'"
      ]
     },
     "execution_count": 23,
     "metadata": {},
     "output_type": "execute_result"
    }
   ],
   "source": [
    "spam = 'Goodbye'\n",
    "spam"
   ]
  },
  {
   "cell_type": "markdown",
   "metadata": {},
   "source": [
    "Así como en el ejemplo anterior, la caja inicialmente almacena la cadena `Hello` para ser sobreescrita posteriormente por la cadena `Goodbye`."
   ]
  },
  {
   "cell_type": "markdown",
   "metadata": {},
   "source": [
    "<img src=\"https://i.imgur.com/i71fBCj.png\" width=\"250\">"
   ]
  },
  {
   "cell_type": "markdown",
   "metadata": {},
   "source": [
    "## Nombres de Variables"
   ]
  },
  {
   "cell_type": "markdown",
   "metadata": {},
   "source": [
    "En la tabla mostrada a continuación, se observan ejemplos de nombres de variables legales. Se puede nombrar una variable como desee siempre y cuando se cumplan con las siguientes reglas:"
   ]
  },
  {
   "cell_type": "markdown",
   "metadata": {},
   "source": [
    "+ Debe contener una sola palabra\n",
    "+ Sólo se puede usar letras, números y guión bajo\n",
    "+ No puede empezar con un número"
   ]
  },
  {
   "cell_type": "markdown",
   "metadata": {},
   "source": [
    "<img src=\"https://i.imgur.com/JufX987.png\" width=\"550\">"
   ]
  },
  {
   "cell_type": "markdown",
   "metadata": {},
   "source": [
    "Los nombres de las variables distinguen entre mayúsculas y minúsculas , esto indica que, `spam`, `SPAM`, `Spam` y `SpAm`, son cuatro tipos de variables diferentes. Es una convención de Python el iniciar sus variables con letra minúscula. Un buen nombre para una variable debe describir la información en ella contenida. "
   ]
  },
  {
   "cell_type": "markdown",
   "metadata": {},
   "source": [
    "# Mi Primer Programa "
   ]
  },
  {
   "cell_type": "markdown",
   "metadata": {},
   "source": [
    "Es el momento de crear el primer programa en Python. Ingrese las siguientes instrucciones en la celda de código."
   ]
  },
  {
   "cell_type": "code",
   "execution_count": 25,
   "metadata": {},
   "outputs": [
    {
     "name": "stdout",
     "output_type": "stream",
     "text": [
      "¡Hola Mundo!\n",
      "¿Cual es su nombre?\n",
      "Mucho gusto, Thomas\n",
      "La cantidad de letras en su nombre es: \n",
      "6\n",
      "¿Qué edad tienes?\n",
      "Tendrás 41 en un año.\n"
     ]
    }
   ],
   "source": [
    "# Este programa dice Hola Mundo y pregunta por mi nombre.\n",
    "\n",
    "print('¡Hola Mundo!')\n",
    "print ('¿Cual es su nombre?') #Pregunta por mi nombre\n",
    "miNombre = input()\n",
    "print('Mucho gusto, ' + miNombre)\n",
    "print('La cantidad de letras en su nombre es: ')\n",
    "print(len(miNombre))\n",
    "print('¿Qué edad tienes?') # Pregunta por mi edad\n",
    "miEdad = input()\n",
    "print('Tendrás ' + str(int(miEdad) + 1) + ' en un año.')"
   ]
  },
  {
   "cell_type": "markdown",
   "metadata": {},
   "source": [
    "## Entendiendo el Programa"
   ]
  },
  {
   "cell_type": "markdown",
   "metadata": {},
   "source": [
    "Las líneas de código ingresadas previamente para crear nuestro primer programa se conocen como **código fuente** . Una vez ingresado el código fuente, veamos las instrucciones para saber qué hace cada línea."
   ]
  },
  {
   "cell_type": "markdown",
   "metadata": {},
   "source": [
    "### Comentarios"
   ]
  },
  {
   "cell_type": "markdown",
   "metadata": {},
   "source": [
    "La línea `1` es llamada **comentario**. Python ignora los comentarios, éstos tienen como finalidad el crear notas a manera de descripción o explicación de lo que se está haciendo. Cualquier texto que vaya después de el símbolo `#` hace parte del comentario. De manera similar, Python también ignora la línea en blanco que aparece luego del comentario. Se pueden agregar tantas líneas en blanco como se desee, esta práctica hace que el código sea más fácil de leer."
   ]
  },
  {
   "cell_type": "markdown",
   "metadata": {},
   "source": [
    "### La función `print()`"
   ]
  },
  {
   "cell_type": "markdown",
   "metadata": {},
   "source": [
    "La función `print()` muestra el valor de la cadena caracteres especificado dentro de los paréntesis. La línea `print('¡Hola Mundo!')` significa: \"*Imprima en pantalla la cadena '¡Hola Mundo!'*\". Cuando Python ejecuta esta línea, Python está haciendo un llamado a la función `print()` y el valor de la cadena a imprimir es **pasado** en forma de cadena de caracteres. Los valores que son pasados en la llamada de una función se conocen como **argumentos**. Nótese que las comillas no son imprimidas en pantalla, éstas solo indican dónde empieza y dónde termina la cadena; no hacen parte del valor de la misma."
   ]
  },
  {
   "cell_type": "markdown",
   "metadata": {},
   "source": [
    "**Nota:** Esta función también puede ser usada para poner una línea en blanco en el programa, simplemente haciendo un llamado a la función, de la siguiente manera: `print()`"
   ]
  },
  {
   "cell_type": "markdown",
   "metadata": {},
   "source": [
    "Cuando se escribe el nombre de una función, los paréntesis que se abren y se cierran al final, identifican el nombre como una función."
   ]
  },
  {
   "cell_type": "markdown",
   "metadata": {},
   "source": [
    "### La función `input()`"
   ]
  },
  {
   "cell_type": "markdown",
   "metadata": {},
   "source": [
    "La función `input()` espera a que el usuario ingrese algún texto y presione `ENTER`. En la línea `5`, el llamado a la función `input()`  evalúa una cadena igual al texto ingresado por el usuario y la asigna a la variable `miNombre`."
   ]
  },
  {
   "cell_type": "markdown",
   "metadata": {},
   "source": [
    "### Imprimiendo el nombre de ususario"
   ]
  },
  {
   "cell_type": "markdown",
   "metadata": {},
   "source": [
    "En la línea `5`, el llamado a la función `print()`, contiene la expresión: `'Mucho gusto, ' + miNombre` entre paréntesis. Recordemos que las expresiones siempre se evalúan a un valor único, Por ejemplo si `Thomas` es el valor almacenado en la variable `miNombre`, la expresión evaluada quedaría: `'Mucho gusto, Thomas'`. Este valor constituido por una cadena de caracteres es luego pasado a la función `print()`, que la muestra en pantalla."
   ]
  },
  {
   "cell_type": "markdown",
   "metadata": {},
   "source": [
    "### La función `len()`"
   ]
  },
  {
   "cell_type": "markdown",
   "metadata": {},
   "source": [
    "Se puede pasar a la función `len()` un valor de cadena de caracteres (o una variable que contiene una cadena de caracteres), y la función se evaluara a un número entero, siendo éste, el tamaño de la cadena. Ingrese en el shell interactivo las siguientes expresiones:"
   ]
  },
  {
   "cell_type": "code",
   "execution_count": 26,
   "metadata": {},
   "outputs": [
    {
     "data": {
      "text/plain": [
       "4"
      ]
     },
     "execution_count": 26,
     "metadata": {},
     "output_type": "execute_result"
    }
   ],
   "source": [
    "len('Hola')"
   ]
  },
  {
   "cell_type": "code",
   "execution_count": 27,
   "metadata": {},
   "outputs": [
    {
     "data": {
      "text/plain": [
       "26"
      ]
     },
     "execution_count": 27,
     "metadata": {},
     "output_type": "execute_result"
    }
   ],
   "source": [
    "len('Este es un curso de Python')"
   ]
  },
  {
   "cell_type": "code",
   "execution_count": 28,
   "metadata": {},
   "outputs": [
    {
     "data": {
      "text/plain": [
       "0"
      ]
     },
     "execution_count": 28,
     "metadata": {},
     "output_type": "execute_result"
    }
   ],
   "source": [
    "len('')"
   ]
  },
  {
   "cell_type": "markdown",
   "metadata": {},
   "source": [
    "Observese que en los ejemplos anteriores, la función `len()` se evalúa a un número entero. Por otro lado la función `print()` permite que números enteros y cadenas de caracteres sean pasados por parámetro. Observemos lo que sucede en el siguiente ejemplo:"
   ]
  },
  {
   "cell_type": "code",
   "execution_count": 29,
   "metadata": {},
   "outputs": [
    {
     "ename": "TypeError",
     "evalue": "can only concatenate str (not \"int\") to str",
     "output_type": "error",
     "traceback": [
      "\u001b[31m---------------------------------------------------------------------------\u001b[39m",
      "\u001b[31mTypeError\u001b[39m                                 Traceback (most recent call last)",
      "\u001b[36mCell\u001b[39m\u001b[36m \u001b[39m\u001b[32mIn[29]\u001b[39m\u001b[32m, line 1\u001b[39m\n\u001b[32m----> \u001b[39m\u001b[32m1\u001b[39m \u001b[38;5;28mprint\u001b[39m(\u001b[33;43m'\u001b[39;49m\u001b[33;43mYo tengo \u001b[39;49m\u001b[33;43m'\u001b[39;49m\u001b[43m \u001b[49m\u001b[43m+\u001b[49m\u001b[43m \u001b[49m\u001b[32;43m29\u001b[39;49m + \u001b[33m'\u001b[39m\u001b[33maños\u001b[39m\u001b[33m'\u001b[39m)\n",
      "\u001b[31mTypeError\u001b[39m: can only concatenate str (not \"int\") to str"
     ]
    }
   ],
   "source": [
    "print('Yo tengo ' + 29 + 'años')"
   ]
  },
  {
   "cell_type": "markdown",
   "metadata": {},
   "source": [
    "La función `print()` por sí sola, no está causando el error, si ingresamos la expresión como tal en el shell interactivo, obtentremos el mismo error."
   ]
  },
  {
   "cell_type": "code",
   "execution_count": 30,
   "metadata": {},
   "outputs": [
    {
     "ename": "TypeError",
     "evalue": "can only concatenate str (not \"int\") to str",
     "output_type": "error",
     "traceback": [
      "\u001b[31m---------------------------------------------------------------------------\u001b[39m",
      "\u001b[31mTypeError\u001b[39m                                 Traceback (most recent call last)",
      "\u001b[36mCell\u001b[39m\u001b[36m \u001b[39m\u001b[32mIn[30]\u001b[39m\u001b[32m, line 1\u001b[39m\n\u001b[32m----> \u001b[39m\u001b[32m1\u001b[39m \u001b[33;43m'\u001b[39;49m\u001b[33;43mYo tengo \u001b[39;49m\u001b[33;43m'\u001b[39;49m\u001b[43m \u001b[49m\u001b[43m+\u001b[49m\u001b[43m \u001b[49m\u001b[32;43m29\u001b[39;49m + \u001b[33m'\u001b[39m\u001b[33maños\u001b[39m\u001b[33m'\u001b[39m\n",
      "\u001b[31mTypeError\u001b[39m: can only concatenate str (not \"int\") to str"
     ]
    }
   ],
   "source": [
    "'Yo tengo ' + 29 + 'años'"
   ]
  },
  {
   "cell_type": "markdown",
   "metadata": {},
   "source": [
    "Esto se debe a que el operador `+` solo se puede usar entre números enteros para sumarlos o cadenas de caracteres para concatenarlas. En Python no se puede sumar un número entero con una cadena de caracteres. Esto se puede solucionar al ingresar la versión cadena del número `29` como se explica a continuación."
   ]
  },
  {
   "cell_type": "markdown",
   "metadata": {},
   "source": [
    "### Las funciones `str()`, `int()` y `float()`"
   ]
  },
  {
   "cell_type": "markdown",
   "metadata": {},
   "source": [
    "Si se desea concatenar un entero como `29` con una cadena como argunento para pasarlo a la función `print()`, se necesita, primero, obtener el valor `'29'`, el cual es la cadena de caracteres de `29`. A la función `str()` se le puede pasar un valor entero y esta se evaluará a la versión cadena de dicho número."
   ]
  },
  {
   "cell_type": "code",
   "execution_count": 31,
   "metadata": {},
   "outputs": [
    {
     "data": {
      "text/plain": [
       "'29'"
      ]
     },
     "execution_count": 31,
     "metadata": {},
     "output_type": "execute_result"
    }
   ],
   "source": [
    "str(29)"
   ]
  },
  {
   "cell_type": "code",
   "execution_count": 32,
   "metadata": {},
   "outputs": [
    {
     "name": "stdout",
     "output_type": "stream",
     "text": [
      "Yo tengo 29 años\n"
     ]
    }
   ],
   "source": [
    "print('Yo tengo ' + str(29) + ' años')"
   ]
  },
  {
   "cell_type": "markdown",
   "metadata": {},
   "source": [
    "Como `str(29)` se evalúa a `'29'`, la expresión `'Yo tengo ' + str(29) + ' años'` quedará de la siguiente manera al momento de evaluarla y pasarla a la función `print()``'Yo tengo 29 años'`."
   ]
  },
  {
   "cell_type": "markdown",
   "metadata": {},
   "source": [
    "Las funciones `str()`, `int()` y `float()` evaluaran el argumento que se les ingrese y retornan la versión cadena, entero y número de punto flotamte, respectivamente. Intenta convertir algunos valores ingresando las siguientes expresiones en el shell interactivo."
   ]
  },
  {
   "cell_type": "code",
   "execution_count": 33,
   "metadata": {},
   "outputs": [
    {
     "data": {
      "text/plain": [
       "'0'"
      ]
     },
     "execution_count": 33,
     "metadata": {},
     "output_type": "execute_result"
    }
   ],
   "source": [
    "str(0)"
   ]
  },
  {
   "cell_type": "code",
   "execution_count": 34,
   "metadata": {},
   "outputs": [
    {
     "data": {
      "text/plain": [
       "'-3.14'"
      ]
     },
     "execution_count": 34,
     "metadata": {},
     "output_type": "execute_result"
    }
   ],
   "source": [
    "str(-3.14)"
   ]
  },
  {
   "cell_type": "code",
   "execution_count": 35,
   "metadata": {},
   "outputs": [
    {
     "data": {
      "text/plain": [
       "42"
      ]
     },
     "execution_count": 35,
     "metadata": {},
     "output_type": "execute_result"
    }
   ],
   "source": [
    "int('42')"
   ]
  },
  {
   "cell_type": "code",
   "execution_count": 36,
   "metadata": {},
   "outputs": [
    {
     "data": {
      "text/plain": [
       "-99"
      ]
     },
     "execution_count": 36,
     "metadata": {},
     "output_type": "execute_result"
    }
   ],
   "source": [
    "int('-99')"
   ]
  },
  {
   "cell_type": "code",
   "execution_count": 37,
   "metadata": {},
   "outputs": [
    {
     "data": {
      "text/plain": [
       "1"
      ]
     },
     "execution_count": 37,
     "metadata": {},
     "output_type": "execute_result"
    }
   ],
   "source": [
    "int(1.25)"
   ]
  },
  {
   "cell_type": "code",
   "execution_count": 38,
   "metadata": {},
   "outputs": [
    {
     "data": {
      "text/plain": [
       "3.14"
      ]
     },
     "execution_count": 38,
     "metadata": {},
     "output_type": "execute_result"
    }
   ],
   "source": [
    "float('3.14')"
   ]
  },
  {
   "cell_type": "code",
   "execution_count": 39,
   "metadata": {},
   "outputs": [
    {
     "data": {
      "text/plain": [
       "10.0"
      ]
     },
     "execution_count": 39,
     "metadata": {},
     "output_type": "execute_result"
    }
   ],
   "source": [
    "float(10)"
   ]
  },
  {
   "cell_type": "markdown",
   "metadata": {},
   "source": [
    "Los ejemplos anteriores llaman a las funciones`str()`, `int()` y `float()` y les pasan valores de los otros tipos de datos para obtener una cadena de caracteres, un entero y un número de punto flotante, respectivamente. De la misma manera, la función `input()` siempre retorna una cadena, incluso sí el usuario ingresa un número. Ingrese la siguiente expresión en el shell interactivo e ingrese el valor `101`."
   ]
  },
  {
   "cell_type": "code",
   "execution_count": 40,
   "metadata": {},
   "outputs": [],
   "source": [
    "spam = input()"
   ]
  },
  {
   "cell_type": "code",
   "execution_count": 41,
   "metadata": {},
   "outputs": [
    {
     "data": {
      "text/plain": [
       "'101'"
      ]
     },
     "execution_count": 41,
     "metadata": {},
     "output_type": "execute_result"
    }
   ],
   "source": [
    "spam"
   ]
  },
  {
   "cell_type": "markdown",
   "metadata": {},
   "source": [
    "El valor almacenado en spam, no es el número entero `101`, si se desea realizar operaciones matemáticas con el valor almacenado en `spam`, se debe usar la función `int()` para obtener la representación entera del valor almacenado en `spam` y almacenarlo como un nuevo valor en `spam`."
   ]
  },
  {
   "cell_type": "code",
   "execution_count": 42,
   "metadata": {},
   "outputs": [
    {
     "data": {
      "text/plain": [
       "101"
      ]
     },
     "execution_count": 42,
     "metadata": {},
     "output_type": "execute_result"
    }
   ],
   "source": [
    "spam = int(spam)\n",
    "spam"
   ]
  },
  {
   "cell_type": "markdown",
   "metadata": {},
   "source": [
    "Ahora ya podemos realizar operaciones matemáticas con este valor."
   ]
  },
  {
   "cell_type": "code",
   "execution_count": 43,
   "metadata": {},
   "outputs": [
    {
     "data": {
      "text/plain": [
       "202.0"
      ]
     },
     "execution_count": 43,
     "metadata": {},
     "output_type": "execute_result"
    }
   ],
   "source": [
    "spam * 10 / 5"
   ]
  },
  {
   "cell_type": "markdown",
   "metadata": {},
   "source": [
    "Nótese que si se ingresa a la función `int()` un valor que no puede ser evaluado a un número entero, Python devolverá un mensaje de error."
   ]
  },
  {
   "cell_type": "code",
   "execution_count": 44,
   "metadata": {},
   "outputs": [
    {
     "ename": "ValueError",
     "evalue": "invalid literal for int() with base 10: '99.99'",
     "output_type": "error",
     "traceback": [
      "\u001b[31m---------------------------------------------------------------------------\u001b[39m",
      "\u001b[31mValueError\u001b[39m                                Traceback (most recent call last)",
      "\u001b[36mCell\u001b[39m\u001b[36m \u001b[39m\u001b[32mIn[44]\u001b[39m\u001b[32m, line 1\u001b[39m\n\u001b[32m----> \u001b[39m\u001b[32m1\u001b[39m \u001b[38;5;28;43mint\u001b[39;49m\u001b[43m(\u001b[49m\u001b[33;43m'\u001b[39;49m\u001b[33;43m99.99\u001b[39;49m\u001b[33;43m'\u001b[39;49m\u001b[43m)\u001b[49m\n",
      "\u001b[31mValueError\u001b[39m: invalid literal for int() with base 10: '99.99'"
     ]
    }
   ],
   "source": [
    "int('99.99')"
   ]
  },
  {
   "cell_type": "code",
   "execution_count": 45,
   "metadata": {},
   "outputs": [
    {
     "ename": "ValueError",
     "evalue": "invalid literal for int() with base 10: 'twelve'",
     "output_type": "error",
     "traceback": [
      "\u001b[31m---------------------------------------------------------------------------\u001b[39m",
      "\u001b[31mValueError\u001b[39m                                Traceback (most recent call last)",
      "\u001b[36mCell\u001b[39m\u001b[36m \u001b[39m\u001b[32mIn[45]\u001b[39m\u001b[32m, line 1\u001b[39m\n\u001b[32m----> \u001b[39m\u001b[32m1\u001b[39m \u001b[38;5;28;43mint\u001b[39;49m\u001b[43m(\u001b[49m\u001b[33;43m'\u001b[39;49m\u001b[33;43mtwelve\u001b[39;49m\u001b[33;43m'\u001b[39;49m\u001b[43m)\u001b[49m\n",
      "\u001b[31mValueError\u001b[39m: invalid literal for int() with base 10: 'twelve'"
     ]
    }
   ],
   "source": [
    "int('twelve')"
   ]
  },
  {
   "cell_type": "markdown",
   "metadata": {},
   "source": [
    "En el programa que acabamos de escribir, se usaron las funciones `int()` y `str()` en las tres últimas líneas de código para obtener el tipo de dato adecuado. Primero se ingresa el valor que almacenará la variable `miEdad`, dado que la función `input()` convierte lo que se ingrese en cadena, se debe realizar una conversión forzada al valor ingresado para operarlo matemáticamente con `1` como dos enteros. Luego se convierte en cadena nuevamente con el objetivo de imprimirla en pantalla a través de la función `print()`."
   ]
  },
  {
   "cell_type": "code",
   "execution_count": 46,
   "metadata": {},
   "outputs": [
    {
     "name": "stdout",
     "output_type": "stream",
     "text": [
      "¿Qué edad tienes?\n",
      "Tendrás 41 en un año.\n"
     ]
    }
   ],
   "source": [
    "print('¿Qué edad tienes?') # Pregunta por mi edad\n",
    "miEdad = input()\n",
    "print('Tendrás ' +str(int(miEdad) + 1) + ' en un año.')"
   ]
  },
  {
   "cell_type": "code",
   "execution_count": null,
   "metadata": {},
   "outputs": [],
   "source": []
  }
 ],
 "metadata": {
  "kernelspec": {
   "display_name": "venvai",
   "language": "python",
   "name": "python3"
  },
  "language_info": {
   "codemirror_mode": {
    "name": "ipython",
    "version": 3
   },
   "file_extension": ".py",
   "mimetype": "text/x-python",
   "name": "python",
   "nbconvert_exporter": "python",
   "pygments_lexer": "ipython3",
   "version": "3.12.9"
  },
  "toc": {
   "base_numbering": 1,
   "nav_menu": {},
   "number_sections": true,
   "sideBar": true,
   "skip_h1_title": false,
   "title_cell": "Tabla de Contenidos",
   "title_sidebar": "Contenidos",
   "toc_cell": true,
   "toc_position": {
    "height": "calc(100% - 180px)",
    "left": "10px",
    "top": "150px",
    "width": "454px"
   },
   "toc_section_display": true,
   "toc_window_display": true
  }
 },
 "nbformat": 4,
 "nbformat_minor": 2
}
