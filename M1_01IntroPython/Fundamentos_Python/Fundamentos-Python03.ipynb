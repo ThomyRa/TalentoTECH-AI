{
 "cells": [
  {
   "cell_type": "markdown",
   "metadata": {
    "toc": true
   },
   "source": [
    "<h1>Funciones<span class=\"tocSkip\"></span></h1>\n",
    "<div class=\"toc\"><ul class=\"toc-item\"><li><span><a href=\"#Estamentos-def-con-parámetros\" data-toc-modified-id=\"Estamentos-def-con-parámetros-1\"><span class=\"toc-item-num\">1&nbsp;&nbsp;</span>Estamentos <code>def</code> con parámetros</a></span></li><li><span><a href=\"#Retornar-valores-y-el-estamento-return\" data-toc-modified-id=\"Retornar-valores-y-el-estamento-return-2\"><span class=\"toc-item-num\">2&nbsp;&nbsp;</span>Retornar valores y el estamento <code>return</code></a></span></li><li><span><a href=\"#El-valor-None\" data-toc-modified-id=\"El-valor-None-3\"><span class=\"toc-item-num\">3&nbsp;&nbsp;</span>El valor <code>None</code></a></span></li><li><span><a href=\"#Alcance-Local-y-Global\" data-toc-modified-id=\"Alcance-Local-y-Global-4\"><span class=\"toc-item-num\">4&nbsp;&nbsp;</span>Alcance Local y Global</a></span><ul class=\"toc-item\"><li><span><a href=\"#Las-variables-locales-no-pueden-ser-usadas-en-un-ámbito-global\" data-toc-modified-id=\"Las-variables-locales-no-pueden-ser-usadas-en-un-ámbito-global-4.1\"><span class=\"toc-item-num\">4.1&nbsp;&nbsp;</span>Las variables locales no pueden ser usadas en un ámbito global</a></span></li><li><span><a href=\"#Los-ámbitos-locales-no-pueden-usar-variables-de-otros-ámbitos-locales\" data-toc-modified-id=\"Los-ámbitos-locales-no-pueden-usar-variables-de-otros-ámbitos-locales-4.2\"><span class=\"toc-item-num\">4.2&nbsp;&nbsp;</span>Los ámbitos locales no pueden usar variables de otros ámbitos locales</a></span></li><li><span><a href=\"#Las-variables-globales-pueden-ser-leídas-desde-un-ámbito-local\" data-toc-modified-id=\"Las-variables-globales-pueden-ser-leídas-desde-un-ámbito-local-4.3\"><span class=\"toc-item-num\">4.3&nbsp;&nbsp;</span>Las variables globales pueden ser leídas desde un ámbito local</a></span></li><li><span><a href=\"#Variables-locales-y-variables-globales-con-el-mismo-nombre.\" data-toc-modified-id=\"Variables-locales-y-variables-globales-con-el-mismo-nombre.-4.4\"><span class=\"toc-item-num\">4.4&nbsp;&nbsp;</span>Variables locales y variables globales con el mismo nombre.</a></span></li></ul></li><li><span><a href=\"#El-estamento-global\" data-toc-modified-id=\"El-estamento-global-5\"><span class=\"toc-item-num\">5&nbsp;&nbsp;</span>El estamento <code>global</code></a></span></li><li><span><a href=\"#Manejo-de-Excepciones\" data-toc-modified-id=\"Manejo-de-Excepciones-6\"><span class=\"toc-item-num\">6&nbsp;&nbsp;</span>Manejo de Excepciones</a></span></li><li><span><a href=\"#Un-pequeño-programa:-Juego-adivina-el-número\" data-toc-modified-id=\"Un-pequeño-programa:-Juego-adivina-el-número-7\"><span class=\"toc-item-num\">7&nbsp;&nbsp;</span>Un pequeño programa: Juego adivina el número</a></span></li></ul></div>"
   ]
  },
  {
   "cell_type": "markdown",
   "metadata": {},
   "source": [
    "# Funciones"
   ]
  },
  {
   "cell_type": "markdown",
   "metadata": {},
   "source": [
    "Ya estamos familiarizados con las funciones `print()`, `input()` y `len()` con las que hemos trabajado previamente. Python suministra una gran cantidad de funciones incorporadas como estas. Pero nosotros también podemos hacer nuestras propias funciones. Una *función* es como un mini programa dentro de un programa. Para entender mejor cómo trabajan las funciones, vamos a crear una en el siguiente ejemplo."
   ]
  },
  {
   "cell_type": "code",
   "execution_count": 1,
   "metadata": {},
   "outputs": [
    {
     "name": "stdout",
     "output_type": "stream",
     "text": [
      "Howdy!\n",
      "Howdy!!\n",
      "Hello there.\n",
      "Howdy!\n",
      "Howdy!!\n",
      "Hello there.\n",
      "Howdy!\n",
      "Howdy!!\n",
      "Hello there.\n"
     ]
    }
   ],
   "source": [
    "def hello():\n",
    "    print('Howdy!')\n",
    "    print('Howdy!!')\n",
    "    print('Hello there.')\n",
    "    \n",
    "hello()\n",
    "hello()\n",
    "hello()"
   ]
  },
  {
   "cell_type": "markdown",
   "metadata": {},
   "source": [
    "La primera línea es un estamento `def`, el cual **define** una función llamada `hello()`. El bloque de código de la definición se le denomina el cuerpo de la función. El cuerpo se ejecuta siempre que la función sea llamada, NO cuando la función es definida. Las líneas de `hello()` después de la función, son llamados. Para realizar un llamado a una función, se debe escribir el nombre de la función seguida de paréntesis, posiblemente con algunos números o parámetros dentro de los paréntesis. Cuando la ejecución del programa llega al llamado de una función, este salta al inicio de la definición de dicha función y ejecuta el cuerpo de esta. Cuando alcanza el final de la función, la ejecución del programa retorna a la línea que hizo el llamado a la función y continúa desde allí. Dado que se llama la función `hello()` tres veces, el código dentro de esta función, se ejecuta 3 veces."
   ]
  },
  {
   "cell_type": "markdown",
   "metadata": {},
   "source": [
    "Uno de los propósito de usar funciones es el reusar código que se debe ejecutar varias veces, sin la definición de la función, nos hubiese tocado copiar y pegar este código cada vez y el programa luciría de la siguiente manera:"
   ]
  },
  {
   "cell_type": "code",
   "execution_count": 2,
   "metadata": {},
   "outputs": [
    {
     "name": "stdout",
     "output_type": "stream",
     "text": [
      "Howdy!\n",
      "Howdy!!\n",
      "Hello there.\n",
      "Howdy!\n",
      "Howdy!!\n",
      "Hello there.\n",
      "Howdy!\n",
      "Howdy!!\n",
      "Hello there.\n"
     ]
    }
   ],
   "source": [
    "print('Howdy!')\n",
    "print('Howdy!!')\n",
    "print('Hello there.')\n",
    "print('Howdy!')\n",
    "print('Howdy!!')\n",
    "print('Hello there.')\n",
    "print('Howdy!')\n",
    "print('Howdy!!')\n",
    "print('Hello there.')"
   ]
  },
  {
   "cell_type": "markdown",
   "metadata": {},
   "source": [
    "## Estamentos `def` con parámetros"
   ]
  },
  {
   "cell_type": "markdown",
   "metadata": {},
   "source": [
    "Cuando llamamos a las funciones `print()` y `len`, les pasamos valores llamados *argumentos* dentro de los paréntesis. Nosotros también podemos crear funciones que reciban argumentos. Veamos el siguiente ejemplo."
   ]
  },
  {
   "cell_type": "code",
   "execution_count": 3,
   "metadata": {},
   "outputs": [
    {
     "name": "stdout",
     "output_type": "stream",
     "text": [
      "Hello Allice\n",
      "Hello Bob\n"
     ]
    }
   ],
   "source": [
    "def hello(name):\n",
    "    print('Hello ' + name)\n",
    "    \n",
    "hello('Allice')\n",
    "hello('Bob')"
   ]
  },
  {
   "cell_type": "markdown",
   "metadata": {},
   "source": [
    "La definición de la función `hello()` en nuestro programa recibe el parámetro `name`. Un *parámertro* es una variable en la cual se almacena un argumento cuando la función es llamada. La primera vez que la función es llamada, se hace con el argumento `’Alice’`. La ejecución del programa entra a la función y la variable `name` es automáticamente asignado como `’Alice’`, el cual es imprimido por el estamento `print()`."
   ]
  },
  {
   "cell_type": "markdown",
   "metadata": {},
   "source": [
    "Una característica especial acerca de los parámetros es que, los valores almacenados, son olvidados cuando se llama la función nuevamente, como lo vimos al momento de llamar la función `hello()` con el parámetro `’Bob’`. Por otro lado, si agregamos la línea `print(name)` después de `hello(‘Bob’)` en el programa anterior, producirá un error de `NameError` ya que no existe una variable llamada `name`; esta variable es destruída una vez se haya terminado la ejecución de la función `hello()`, de esta forma, cuando usamos `print(name)`, estamos haciendo referencia a una variable que no existe."
   ]
  },
  {
   "cell_type": "markdown",
   "metadata": {},
   "source": [
    "## Retornar valores y el estamento `return`"
   ]
  },
  {
   "cell_type": "markdown",
   "metadata": {},
   "source": [
    "Cuando llamamos a la función `len()` y le pasamos un argumento como `’Hello’`, ésta retorna el valor entero `5`, el cual corresponde al tamaño de la cadena ingresada como parámetro. En general, a este valor se le conoce como el *valor retornado* de la función. Cuando creamos una función usando el estamento `def`, podemos especificar cual puede ser el valor retornado a través del estamento `return`. El estamento `return` está compuesto por:"
   ]
  },
  {
   "cell_type": "markdown",
   "metadata": {},
   "source": [
    "* La palabra clave `return`\n",
    "* El valor o la expresión que la función va a retornar."
   ]
  },
  {
   "cell_type": "markdown",
   "metadata": {},
   "source": [
    "Cuando una expresión es usada con un estamento `return` el valor retornado es el resultado de evaluar dicha expresión. Por ejemplo, el siguiente programa define una función que retorna una cadena diferente dependiendo del número pasado como argumento."
   ]
  },
  {
   "cell_type": "code",
   "execution_count": 5,
   "metadata": {},
   "outputs": [
    {
     "name": "stdout",
     "output_type": "stream",
     "text": [
      "It is decidedly so\n"
     ]
    }
   ],
   "source": [
    "import random\n",
    "\n",
    "def getAnswer(answerNumer):\n",
    "    if answerNumer == 1:\n",
    "        return 'It is certain'\n",
    "    elif answerNumer == 2:\n",
    "        return 'It is decidedly so'\n",
    "    elif answerNumer == 3:\n",
    "        return 'Yes'\n",
    "    elif answerNumer == 4:\n",
    "        return 'Reply hazy try again'\n",
    "    elif answerNumer == 5:\n",
    "        return 'Ask again later'\n",
    "    elif answerNumer == 6:\n",
    "        return 'Concentrate and ask again'\n",
    "    elif answerNumer == 7:\n",
    "        return 'My reply is no'\n",
    "    elif answerNumer == 8:\n",
    "        return 'Outlook not so good'\n",
    "    elif answerNumer == 9:\n",
    "        return 'Very doubtful'\n",
    "    \n",
    "r = random.randint(1, 9)\n",
    "fortune = getAnswer(r)\n",
    "print(fortune)"
   ]
  },
  {
   "cell_type": "markdown",
   "metadata": {},
   "source": [
    "Cuando este programa comienza, lo primero que hace Python es importar el módulo `random`. Luego se define la función `getAnswer()`, dado que la función es definida y no es llamada, el programa salta a la línea donde se llama la función`random.randint()` con los argumentos `1` y `9`, ésta retorna un valor aleatorio entre 1 y 9 (incluídos el 1 y el 9) y el resultado es almacenado en la variable `r`."
   ]
  },
  {
   "cell_type": "markdown",
   "metadata": {},
   "source": [
    "La función `getAnswer()` es llamada con la variable `r` pasada como argumento. La ejecución del programa salta al inicio de `getAnswer()` y el valor de `r` es almacenado en el parámetro `answerNumber`. Luego, dependiendo del valor de `answerNumber`, la función retornará una de los posibles valores de las cadenas. Por último, el programa saltará a la línea donde fue hecho el llamado a la función `getAnswer()` que le asignará la cadena obtenida a la variable `fortune`, la cual será pasada como argumento a la función `print()` que la imprimirá en pantalla."
   ]
  },
  {
   "cell_type": "markdown",
   "metadata": {},
   "source": [
    "Nótese que como se pueden pasar valores retornados como argumentos a otros llamados de funciones, se podría acortar las siguientes tres líneas:"
   ]
  },
  {
   "cell_type": "code",
   "execution_count": null,
   "metadata": {},
   "outputs": [],
   "source": [
    "r = random.randint(1, 9)\n",
    "fortune = getAnswer(r)\n",
    "print(fortune)"
   ]
  },
  {
   "cell_type": "markdown",
   "metadata": {},
   "source": [
    "En una sóla línea que es equivalente:"
   ]
  },
  {
   "cell_type": "code",
   "execution_count": null,
   "metadata": {},
   "outputs": [],
   "source": [
    "print(getAnswer(random.randint(1, 9)))"
   ]
  },
  {
   "cell_type": "markdown",
   "metadata": {},
   "source": [
    "Recordemos que, las expresiones están compuestas de valores y operadores. El llamado de una función puede ser usado en una expresión dado que ésta será evaluada al valor que retorna."
   ]
  },
  {
   "cell_type": "markdown",
   "metadata": {},
   "source": [
    "## El valor `None`"
   ]
  },
  {
   "cell_type": "markdown",
   "metadata": {},
   "source": [
    "En Python existe un valor llamado `None`, el cual representa la ausencia de un valor. `None` es el único valor del tipo de dato `NoneType`. Tal como los valores Booleanos `True` y `False`, se debe escribir con la letra mayúscula *N*."
   ]
  },
  {
   "cell_type": "markdown",
   "metadata": {},
   "source": [
    "Este valor-sin-valor puede ser útil cuando necesitamos almacenar algo en una variable para que no sea confundido con un valor real de una variable. Un buen lugar dónde el  `None` puede ser utilizado es en el `return()`, es la función `print()`. La función `print()` muestra un texto en pantalla, pero no necesita retornar nada como si lo hacen las funciones `len()` o `input()`. Sin embargo, dado que todas las funciones deben evaluarse a algo o retornar algún valor, `print()`, retorna `None`. Veamos un ejemplo de esto."
   ]
  },
  {
   "cell_type": "code",
   "execution_count": 8,
   "metadata": {},
   "outputs": [
    {
     "name": "stdout",
     "output_type": "stream",
     "text": [
      "Hello!\n"
     ]
    }
   ],
   "source": [
    "spam = print('Hello!')"
   ]
  },
  {
   "cell_type": "code",
   "execution_count": 9,
   "metadata": {},
   "outputs": [
    {
     "data": {
      "text/plain": [
       "True"
      ]
     },
     "execution_count": 9,
     "metadata": {},
     "output_type": "execute_result"
    }
   ],
   "source": [
    "None == spam"
   ]
  },
  {
   "cell_type": "markdown",
   "metadata": {},
   "source": [
    "Trás bambalinas, Python agrega una línea de `return None` al final de cualquier función que no tenga estamento `return`. De la misma manera, si usamos un estamento `return` sin ningún valor, es decir, sólo la palabra clave `return`, `None` es retornado."
   ]
  },
  {
   "cell_type": "markdown",
   "metadata": {},
   "source": [
    "## Alcance Local y Global"
   ]
  },
  {
   "cell_type": "markdown",
   "metadata": {},
   "source": [
    "Los Parámetros y variables que son asignados en el llamado de una función, se dice que existen en el *alcance local* de tal función. Las variables que sean asignadas por fuera de todas las funciones, se dicen que existen en el *alcance global*. Una variable que existe en el alcance local, se llama *variable local*, mientras que las variables que existen en el alcance global, se llaman *variables globales*. Una variable debe ser de un tipo o del otro, no puede ser ambas, local y global."
   ]
  },
  {
   "cell_type": "markdown",
   "metadata": {},
   "source": [
    "Se puede pensar en el alcance de una variable como un contenedor para ellas. Cuando un alcance es destruído, todas las variables son olvidadas. De lo contrario, la próxima vez que *corramos* nuestro programa recordará los últimos valores almacenados. Un alcance local es creado cada vez llamamos una función. Cualquier variable que sea usada mediante la asignación o un cálculo, existe dentro de este alcance local. Cuando el llamado a la función termina y retorna a la ejecución del programa, el alcance local es destruído y estas variables son olvidadas. "
   ]
  },
  {
   "cell_type": "markdown",
   "metadata": {},
   "source": [
    "Los alcances de las variables son de importancia para nosotros por varias razones.\n",
    "\n",
    "* El código en el alcance global no puede usar ninguna variable local.\n",
    "* Sin embargo, un alcance local puede acceder a las variables globales.\n",
    "* El código en el alcance local de una función no puede usar variables de ningún otro alcance local.\n",
    "* Podemos usar el mismo nombre para diferentes variables siempre y cuando éstas se encuentren en diferentes alcances. Esto significa que pueden existir una variable local llamada `spam` y otra llamada también `spam`."
   ]
  },
  {
   "cell_type": "markdown",
   "metadata": {},
   "source": [
    "### Las variables locales no pueden ser usadas en un ámbito global"
   ]
  },
  {
   "cell_type": "markdown",
   "metadata": {},
   "source": [
    "Veamos el siguiente ejemplo:"
   ]
  },
  {
   "cell_type": "code",
   "execution_count": 1,
   "metadata": {},
   "outputs": [
    {
     "ename": "NameError",
     "evalue": "name 'eggs' is not defined",
     "output_type": "error",
     "traceback": [
      "\u001b[0;31m---------------------------------------------------------------------------\u001b[0m",
      "\u001b[0;31mNameError\u001b[0m                                 Traceback (most recent call last)",
      "\u001b[0;32m<ipython-input-1-5d5d7146e63d>\u001b[0m in \u001b[0;36m<module>\u001b[0;34m()\u001b[0m\n\u001b[1;32m      3\u001b[0m \u001b[0;34m\u001b[0m\u001b[0m\n\u001b[1;32m      4\u001b[0m \u001b[0mspam\u001b[0m\u001b[0;34m(\u001b[0m\u001b[0;34m)\u001b[0m\u001b[0;34m\u001b[0m\u001b[0m\n\u001b[0;32m----> 5\u001b[0;31m \u001b[0mprint\u001b[0m\u001b[0;34m(\u001b[0m\u001b[0meggs\u001b[0m\u001b[0;34m)\u001b[0m\u001b[0;34m\u001b[0m\u001b[0m\n\u001b[0m",
      "\u001b[0;31mNameError\u001b[0m: name 'eggs' is not defined"
     ]
    }
   ],
   "source": [
    "def spam():\n",
    "    eggs = 31337\n",
    "    \n",
    "spam()\n",
    "print(eggs)"
   ]
  },
  {
   "cell_type": "markdown",
   "metadata": {},
   "source": [
    "Este error sucede porque la variable `eggs` sólo existe en el ámbito local creado cuando la función `spam` es llamada. Cuando la ejecución del programa retorna desde `spem`, el ámbito local es destruído y ya no existe una variable llamada `eggs`. Así, cuando Python trata de correr la instrucción `print(eggs)`, Python retorna un error dado que `eggs` no está definida. Esto tiene sentido si lo pensamos bien, cuando la ejecución del programa se encuentra en el ámbito global, no existen ámbitos locales, por lo tanto no existen variables locales. Por esta razón sólo las variables globales existen en el ámbito global."
   ]
  },
  {
   "cell_type": "markdown",
   "metadata": {},
   "source": [
    "### Los ámbitos locales no pueden usar variables de otros ámbitos locales "
   ]
  },
  {
   "cell_type": "markdown",
   "metadata": {},
   "source": [
    "Un nuevo ámbito local es creado cuando se llama a una función, incluso cuando el llamado sae hace desde otra función. Veamos el siguiente ejemplo:"
   ]
  },
  {
   "cell_type": "code",
   "execution_count": 1,
   "metadata": {},
   "outputs": [
    {
     "name": "stdout",
     "output_type": "stream",
     "text": [
      "99\n"
     ]
    }
   ],
   "source": [
    "def spam():\n",
    "    eggs = 99\n",
    "    bacon()\n",
    "    print(eggs)\n",
    "    \n",
    "def bacon():\n",
    "    ham = 101\n",
    "    eggs = 0\n",
    "    \n",
    "spam()"
   ]
  },
  {
   "cell_type": "markdown",
   "metadata": {},
   "source": [
    "Cuando el programa empieza, la función `spam()` es llamada y se crea el ámbito local. A la variable local `eggs` se le asigna el valor de `99`. Luego la función `bacon()` es llamada y el segundo ámbito local es creado. Múltiples ámbitos locales pueden existir simultáneamente. En este nuevo ámbito local, a la variable local `ham` se le asigna el valor de `101` y una variable local `eggs` (la cual es diferente a aquella dentro del ámbito local de `spam()`), también es creada y se le asigna un valor de `0 `."
   ]
  },
  {
   "cell_type": "markdown",
   "metadata": {},
   "source": [
    "Cuando volvemos de `bacon()`, el ámbito local de ese llamado es destruido. La ejecución del programa continúa en la función `spam()` e imprime el valor de `eggs`. Dado que el ámbito local del llamado a `spam()` todavía existe aquí, la variable `eggs` contiene el valor de `99`. Finalmente, el programa imprime este valor. Nótese que las variables locales dentro de una función son completamente diferentes a las variables locales de otra función."
   ]
  },
  {
   "cell_type": "markdown",
   "metadata": {},
   "source": [
    "### Las variables globales pueden ser leídas desde un ámbito local"
   ]
  },
  {
   "cell_type": "markdown",
   "metadata": {},
   "source": [
    "Consideremos el siguiente programa:"
   ]
  },
  {
   "cell_type": "code",
   "execution_count": 2,
   "metadata": {},
   "outputs": [
    {
     "name": "stdout",
     "output_type": "stream",
     "text": [
      "42\n",
      "42\n"
     ]
    }
   ],
   "source": [
    "def spam():\n",
    "    print(eggs)\n",
    "    \n",
    "eggs = 42\n",
    "spam()\n",
    "print(eggs)"
   ]
  },
  {
   "cell_type": "markdown",
   "metadata": {},
   "source": [
    "Dado que no existe ningún parámetro llamado `eggs` o ninguna instrucción que le asigne un valor a `eggs` dentro de la función `spam()`, cuando `eggs` es usado en `spam()`, Python lo considera como una referencia a la variable global `eggs`.  Por esta razón se imprime el valor `42` cuando se corre el programa anterior."
   ]
  },
  {
   "cell_type": "markdown",
   "metadata": {},
   "source": [
    "### Variables locales y variables globales con el mismo nombre."
   ]
  },
  {
   "cell_type": "markdown",
   "metadata": {},
   "source": [
    "Para simplificar nuestra vida, evitemos el uso de variables que tengan el mismo nombre de una variable global u otra variable local. Sin embargo, técnicamente hablando, es perfectamente legal hacerlo en Python. Veamos qué sucede en el siguiente programa:"
   ]
  },
  {
   "cell_type": "code",
   "execution_count": 3,
   "metadata": {},
   "outputs": [
    {
     "name": "stdout",
     "output_type": "stream",
     "text": [
      "bacon local\n",
      "spam local\n",
      "bacon local\n",
      "global\n"
     ]
    }
   ],
   "source": [
    "def spam():\n",
    "    eggs = 'spam local'\n",
    "    print(eggs) # Imprime 'spam local'\n",
    "    \n",
    "def bacon():\n",
    "    eggs = 'bacon local'\n",
    "    print(eggs) # Imprime 'bacon local'\n",
    "    spam()\n",
    "    print(eggs) # Imnprime 'bacon local'\n",
    "    \n",
    "eggs = 'global'\n",
    "bacon()\n",
    "print(eggs) # Imprime 'global'"
   ]
  },
  {
   "cell_type": "markdown",
   "metadata": {},
   "source": [
    "En el programa anterior, existen en realidad tres variables diferentes pero todas con el mismo nombre. Las variables son las siguientes:"
   ]
  },
  {
   "cell_type": "markdown",
   "metadata": {},
   "source": [
    "* Una variable llamada `eggs` que existe en un ámbito local cuando `spam()` es llamada.\n",
    "* Una variable llamada `eggs` que existe en un ámbito local cuando `bacon` es llamada.\n",
    "* Una variable llamada `eggs` que existe en el ámbito global."
   ]
  },
  {
   "cell_type": "markdown",
   "metadata": {},
   "source": [
    "Debido a que estas tres variables completamente diferentes e independientes una de la otra, tienen el mismo nombre, se puede prestar para confusiones al momento de seguir el programa y cuándo éstas son usadas. Por está razón, es preferible evitar usar el mismo nombre para diferentes variables en diferentes ámbitos."
   ]
  },
  {
   "cell_type": "markdown",
   "metadata": {},
   "source": [
    "## El estamento `global`"
   ]
  },
  {
   "cell_type": "markdown",
   "metadata": {},
   "source": [
    "En caso de necesitar modificar una variable global dentro de una función, se puede usar el estamento `global`. Si ponemos una línea al principio de una función como: `global eggs`, ésta le dirá a Python que en esta función, la variable `eggs` hace referencia a la variable global para que no cree una variable local con este nombre. Veamos el siguiente ejemplo:"
   ]
  },
  {
   "cell_type": "code",
   "execution_count": 4,
   "metadata": {},
   "outputs": [
    {
     "name": "stdout",
     "output_type": "stream",
     "text": [
      "spam\n"
     ]
    }
   ],
   "source": [
    "def spam():\n",
    "    global eggs\n",
    "    eggs = 'spam'\n",
    "    \n",
    "eggs = 'global'\n",
    "spam()\n",
    "print(eggs)"
   ]
  },
  {
   "cell_type": "markdown",
   "metadata": {},
   "source": [
    "En el momento en que `eggs` es declarado `global` al principio de la función `spam()`, las asignaciones que se hagan dentro de `spam()` a `eggs` serán realizadas en el ámbito global; de este modo no se crea una variable local `eggs`. Existen cuatro reglas que me indican si una variable pertenece a un ámbito local o uno global."
   ]
  },
  {
   "cell_type": "markdown",
   "metadata": {},
   "source": [
    "1. Si la variable es usada en un ámbito global, es decir, por fuera de todas las funciones, entonces siempre es una variable global.\n",
    "2. Si hay un estamento `global` para esa variable dentro de una función, entonces es una variable global.\n",
    "3. De lo contrario, si una variable es usada en un estamento de asignación dentro de una función, entonces es una variable local.\n",
    "4. Pero si la variable no es usada en un estamento de asignación, es una variable global."
   ]
  },
  {
   "cell_type": "markdown",
   "metadata": {},
   "source": [
    "Para tener un mejor entendimiento de las reglas anteriores, veamos el siguiente programa:"
   ]
  },
  {
   "cell_type": "code",
   "execution_count": 6,
   "metadata": {},
   "outputs": [
    {
     "name": "stdout",
     "output_type": "stream",
     "text": [
      "spam\n"
     ]
    }
   ],
   "source": [
    "def spam():\n",
    "    global eggs\n",
    "    eggs = 'spam' # Esta es global\n",
    "    \n",
    "def bacon():\n",
    "    eggs = 'bacon' # Esta es local\n",
    "    \n",
    "def ham():\n",
    "    print(eggs) # Esta es global\n",
    "    \n",
    "eggs = 42 # Esta es global\n",
    "spam()\n",
    "print(eggs)"
   ]
  },
  {
   "cell_type": "markdown",
   "metadata": {},
   "source": [
    "En la función `spam()`, `eggs` es global porque hay un estamento `global` al principio de la función. En la función `bacon()`, `eggs` es una variable local porque hay un estamento de asignación en tal función. En la función `ham()`, `eggs` es la variable global porque no hay estamento de asignación o estamento `global`."
   ]
  },
  {
   "cell_type": "markdown",
   "metadata": {},
   "source": [
    "Si tratamos de usar una variable local en una función antes de asignarle un valor, Python arrojará un error. Veamos el siguiente ejemplo:"
   ]
  },
  {
   "cell_type": "code",
   "execution_count": 2,
   "metadata": {},
   "outputs": [
    {
     "ename": "UnboundLocalError",
     "evalue": "local variable 'eggs' referenced before assignment",
     "output_type": "error",
     "traceback": [
      "\u001b[0;31m---------------------------------------------------------------------------\u001b[0m",
      "\u001b[0;31mUnboundLocalError\u001b[0m                         Traceback (most recent call last)",
      "\u001b[0;32m<ipython-input-2-ea3ac42818ad>\u001b[0m in \u001b[0;36m<module>\u001b[0;34m()\u001b[0m\n\u001b[1;32m      4\u001b[0m \u001b[0;34m\u001b[0m\u001b[0m\n\u001b[1;32m      5\u001b[0m \u001b[0meggs\u001b[0m \u001b[0;34m=\u001b[0m \u001b[0;34m'global'\u001b[0m\u001b[0;34m\u001b[0m\u001b[0m\n\u001b[0;32m----> 6\u001b[0;31m \u001b[0mspam\u001b[0m\u001b[0;34m(\u001b[0m\u001b[0;34m)\u001b[0m\u001b[0;34m\u001b[0m\u001b[0m\n\u001b[0m",
      "\u001b[0;32m<ipython-input-2-ea3ac42818ad>\u001b[0m in \u001b[0;36mspam\u001b[0;34m()\u001b[0m\n\u001b[1;32m      1\u001b[0m \u001b[0;32mdef\u001b[0m \u001b[0mspam\u001b[0m\u001b[0;34m(\u001b[0m\u001b[0;34m)\u001b[0m\u001b[0;34m:\u001b[0m\u001b[0;34m\u001b[0m\u001b[0m\n\u001b[0;32m----> 2\u001b[0;31m     \u001b[0mprint\u001b[0m\u001b[0;34m(\u001b[0m\u001b[0meggs\u001b[0m\u001b[0;34m)\u001b[0m \u001b[0;31m# ERROR!\u001b[0m\u001b[0;34m\u001b[0m\u001b[0m\n\u001b[0m\u001b[1;32m      3\u001b[0m     \u001b[0meggs\u001b[0m \u001b[0;34m=\u001b[0m \u001b[0;34m'spamn local'\u001b[0m\u001b[0;34m\u001b[0m\u001b[0m\n\u001b[1;32m      4\u001b[0m \u001b[0;34m\u001b[0m\u001b[0m\n\u001b[1;32m      5\u001b[0m \u001b[0meggs\u001b[0m \u001b[0;34m=\u001b[0m \u001b[0;34m'global'\u001b[0m\u001b[0;34m\u001b[0m\u001b[0m\n",
      "\u001b[0;31mUnboundLocalError\u001b[0m: local variable 'eggs' referenced before assignment"
     ]
    }
   ],
   "source": [
    "def spam():\n",
    "    print(eggs) # ERROR!\n",
    "    eggs = 'spamn local'\n",
    "    \n",
    "eggs = 'global'\n",
    "spam()"
   ]
  },
  {
   "cell_type": "markdown",
   "metadata": {},
   "source": [
    "Este error sucede porque Python ve que existe un estamento de asignación para `eggs` en la función `spam()` y en consecuencia la considera local. Pero, como `print(eggs)` es ejecutada antes de que se le haya asignado un valor a `eggs`, la variable local `eggs` no existe. Python no puede *devolverse* para usar el valor global."
   ]
  },
  {
   "cell_type": "markdown",
   "metadata": {},
   "source": [
    "## Manejo de Excepciones"
   ]
  },
  {
   "cell_type": "markdown",
   "metadata": {},
   "source": [
    "En estos momentos, los errores arrojados por Pytrhon o las *excepciones* en nuestros programas implican que nuestros programas han fallado. Nosotros no queremos esto en nuestros programas, lo que deseamos es que el programa detecte los errores, les de manejo y continúe su ejecución. "
   ]
  },
  {
   "cell_type": "markdown",
   "metadata": {},
   "source": [
    "Por ejemplo,  consideremos el siguiente programa el cual tiene un error de división entre cero."
   ]
  },
  {
   "cell_type": "code",
   "execution_count": 5,
   "metadata": {},
   "outputs": [
    {
     "name": "stdout",
     "output_type": "stream",
     "text": [
      "21.0\n",
      "3.5\n"
     ]
    },
    {
     "ename": "ZeroDivisionError",
     "evalue": "division by zero",
     "output_type": "error",
     "traceback": [
      "\u001b[0;31m---------------------------------------------------------------------------\u001b[0m",
      "\u001b[0;31mZeroDivisionError\u001b[0m                         Traceback (most recent call last)",
      "\u001b[0;32m<ipython-input-5-80b1906aadcc>\u001b[0m in \u001b[0;36m<module>\u001b[0;34m()\u001b[0m\n\u001b[1;32m      4\u001b[0m \u001b[0mprint\u001b[0m\u001b[0;34m(\u001b[0m\u001b[0mspam\u001b[0m\u001b[0;34m(\u001b[0m\u001b[0;36m2\u001b[0m\u001b[0;34m)\u001b[0m\u001b[0;34m)\u001b[0m\u001b[0;34m\u001b[0m\u001b[0m\n\u001b[1;32m      5\u001b[0m \u001b[0mprint\u001b[0m\u001b[0;34m(\u001b[0m\u001b[0mspam\u001b[0m\u001b[0;34m(\u001b[0m\u001b[0;36m12\u001b[0m\u001b[0;34m)\u001b[0m\u001b[0;34m)\u001b[0m\u001b[0;34m\u001b[0m\u001b[0m\n\u001b[0;32m----> 6\u001b[0;31m \u001b[0mprint\u001b[0m\u001b[0;34m(\u001b[0m\u001b[0mspam\u001b[0m\u001b[0;34m(\u001b[0m\u001b[0;36m0\u001b[0m\u001b[0;34m)\u001b[0m\u001b[0;34m)\u001b[0m\u001b[0;34m\u001b[0m\u001b[0m\n\u001b[0m\u001b[1;32m      7\u001b[0m \u001b[0mprint\u001b[0m\u001b[0;34m(\u001b[0m\u001b[0mspam\u001b[0m\u001b[0;34m(\u001b[0m\u001b[0;36m1\u001b[0m\u001b[0;34m)\u001b[0m\u001b[0;34m)\u001b[0m\u001b[0;34m\u001b[0m\u001b[0m\n",
      "\u001b[0;32m<ipython-input-5-80b1906aadcc>\u001b[0m in \u001b[0;36mspam\u001b[0;34m(dividedBy)\u001b[0m\n\u001b[1;32m      1\u001b[0m \u001b[0;32mdef\u001b[0m \u001b[0mspam\u001b[0m\u001b[0;34m(\u001b[0m\u001b[0mdividedBy\u001b[0m\u001b[0;34m)\u001b[0m\u001b[0;34m:\u001b[0m\u001b[0;34m\u001b[0m\u001b[0m\n\u001b[0;32m----> 2\u001b[0;31m     \u001b[0;32mreturn\u001b[0m \u001b[0;36m42\u001b[0m \u001b[0;34m/\u001b[0m \u001b[0mdividedBy\u001b[0m\u001b[0;34m\u001b[0m\u001b[0m\n\u001b[0m\u001b[1;32m      3\u001b[0m \u001b[0;34m\u001b[0m\u001b[0m\n\u001b[1;32m      4\u001b[0m \u001b[0mprint\u001b[0m\u001b[0;34m(\u001b[0m\u001b[0mspam\u001b[0m\u001b[0;34m(\u001b[0m\u001b[0;36m2\u001b[0m\u001b[0;34m)\u001b[0m\u001b[0;34m)\u001b[0m\u001b[0;34m\u001b[0m\u001b[0m\n\u001b[1;32m      5\u001b[0m \u001b[0mprint\u001b[0m\u001b[0;34m(\u001b[0m\u001b[0mspam\u001b[0m\u001b[0;34m(\u001b[0m\u001b[0;36m12\u001b[0m\u001b[0;34m)\u001b[0m\u001b[0;34m)\u001b[0m\u001b[0;34m\u001b[0m\u001b[0m\n",
      "\u001b[0;31mZeroDivisionError\u001b[0m: division by zero"
     ]
    }
   ],
   "source": [
    "def spam(dividedBy):\n",
    "    return 42 / dividedBy\n",
    "\n",
    "print(spam(2))\n",
    "print(spam(12))\n",
    "print(spam(0))\n",
    "print(spam(1))"
   ]
  },
  {
   "cell_type": "markdown",
   "metadata": {},
   "source": [
    "El resultado obtenido: `ZeroDivisionError`, es consecuencia de tratar de dividir un valor entre cero, esto se puede observar revisando las líneas donde Python marca erl error. De aquí que es estamento `return` dentro de la función `spam()` esté causando el error."
   ]
  },
  {
   "cell_type": "markdown",
   "metadata": {},
   "source": [
    "Los errores se pueden manejar con los estamentos `try` y `except`. El código que potencialmente pueda causar errores, se mete dentro del bloque de código de un `try`. Si Python devuelve un error, la ejecución del programa salta al siguiente `except`. Veamos qué pasa en el ejemplo anterior cuando usamos los estamentos `try` y `except`."
   ]
  },
  {
   "cell_type": "code",
   "execution_count": 6,
   "metadata": {},
   "outputs": [
    {
     "name": "stdout",
     "output_type": "stream",
     "text": [
      "21.0\n",
      "3.5\n",
      "Error: Invalid argument.\n",
      "None\n",
      "42.0\n"
     ]
    }
   ],
   "source": [
    "def spam(dividedBy):\n",
    "    try:\n",
    "        return 42 / dividedBy\n",
    "    except ZeroDivisionError:\n",
    "        print('Error: Invalid argument.')\n",
    "        \n",
    "print(spam(2))\n",
    "print(spam(12))\n",
    "print(spam(0))\n",
    "print(spam(1))"
   ]
  },
  {
   "cell_type": "markdown",
   "metadata": {},
   "source": [
    "Los estamentos `try` and `except` también se pueden usar en llamados de funciones como se puede apreciar en el siguiente ejemplo."
   ]
  },
  {
   "cell_type": "code",
   "execution_count": 7,
   "metadata": {},
   "outputs": [
    {
     "name": "stdout",
     "output_type": "stream",
     "text": [
      "21.0\n",
      "3.5\n",
      "Error: Invalid argument.\n"
     ]
    }
   ],
   "source": [
    "def spam(dividedBy):\n",
    "    return 42 / dividedBy\n",
    "\n",
    "try:\n",
    "    print(spam(2))\n",
    "    print(spam(12))\n",
    "    print(spam(0))\n",
    "    print(spam(1))\n",
    "except ZeroDivisionError:\n",
    "    print('Error: Invalid argument.')"
   ]
  },
  {
   "cell_type": "markdown",
   "metadata": {},
   "source": [
    "La razón por la cual `print(spam(1))` no se ejecuta nunca, se debe a que cuando la ejecución salta al código dentro del `except`, éste continúa su ejecución desde allí y no se devuelve al estamento `try`"
   ]
  },
  {
   "cell_type": "markdown",
   "metadata": {},
   "source": [
    "## Un pequeño programa: Juego adivina el número"
   ]
  },
  {
   "cell_type": "markdown",
   "metadata": {},
   "source": [
    "Los ejemplos que hemos visto hasta ahora, nos ayudaron a entender conceptos básicos sobre Python. Veamos ahora cómo encaja todo junto. A continuación haremos un pequeño programa para jugar a adivinar un número. Escribamos el siguiente programa y veamos qué pasa."
   ]
  },
  {
   "cell_type": "code",
   "execution_count": 12,
   "metadata": {},
   "outputs": [
    {
     "name": "stdout",
     "output_type": "stream",
     "text": [
      "Estoy pensando en un número entre 1 y 20.\n",
      "Adivina mi número\n",
      "10\n",
      "Felicidades! Ha acertado correctamente el número en el intento 1\n"
     ]
    }
   ],
   "source": [
    "# Este es el juego: adivina el número\n",
    "\n",
    "import random\n",
    "\n",
    "numeroSecreto = random.randint(1, 20)\n",
    "print('Estoy pensando en un número entre 1 y 20.')\n",
    "\n",
    "# Pidamosle al usuario que adivine 6 veces\n",
    "for intentos in range(1, 7):\n",
    "    print('Adivina mi número')\n",
    "    intentoAdivinar = int(input())\n",
    "    \n",
    "    if intentoAdivinar < numeroSecreto:\n",
    "        print('El número ingresado es muy bajo.')\n",
    "    elif intentoAdivinar > numeroSecreto:\n",
    "        print('El número ingresado es muy alto.')\n",
    "    else: \n",
    "        break # Esta condición es el número correcto\n",
    "    \n",
    "if intentoAdivinar == numeroSecreto:\n",
    "    print('Felicidades! Ha acertado correctamente el número en el intento ' + str(intentos))\n",
    "else:\n",
    "    print('Mala suerte, el número que estaba pensando era: ' + str(numeroSecreto))"
   ]
  },
  {
   "cell_type": "markdown",
   "metadata": {},
   "source": [
    "Veamos qué hace este código línea por línea empezando desde el principio."
   ]
  },
  {
   "cell_type": "code",
   "execution_count": null,
   "metadata": {},
   "outputs": [],
   "source": [
    "# Este es el juego: adivina el número\n",
    "import random\n",
    "numeroSecreto = random.randint(1, 20)"
   ]
  },
  {
   "cell_type": "markdown",
   "metadata": {},
   "source": [
    "La primera línea es un comentario que describe lo que hace el programa. Luego, el programa importa el módulo `random` para poder usar la función `random.dandint()` y así generar un número para que el usuario lo adivine. El valor retornado por dicha función es un número aleatorio entre `1` y `20` y es almacenado en la variable `numeroSecreto`."
   ]
  },
  {
   "cell_type": "code",
   "execution_count": null,
   "metadata": {},
   "outputs": [],
   "source": [
    "# Pidamosle al usuario que adivine 6 veces\n",
    "for intentos in range(1, 7):\n",
    "    print('Adivina mi número')\n",
    "    intentoAdivinar = int(input())"
   ]
  },
  {
   "cell_type": "markdown",
   "metadata": {},
   "source": [
    "El programa le dice al usuario que tiene un número secreto para que el usuario lo adivine en 6 intentos. El código que permite al jugador ingresar un número y revisar si es correcto o no, está dentro del ciclo `for` que se puede repetir hasta 6 veces. Lo primero que sucede dentro del ciclo `for` es que el usuario ingresa su número. Dado que `input()` retorna una cadena, este valor es pasado a la función `int()` que convierte la cadena en número entero. Luego, este valor es almacenado en la variable `intentoAdivinar`."
   ]
  },
  {
   "cell_type": "code",
   "execution_count": null,
   "metadata": {},
   "outputs": [],
   "source": [
    "    if intentoAdivinar < numeroSecreto:\n",
    "        print('El número ingresado es muy bajo.')\n",
    "    elif intentoAdivinar > numeroSecreto:\n",
    "        print('El número ingresado es muy alto.')\n",
    "    else: \n",
    "        break # Esta condición es el número correcto"
   ]
  },
  {
   "cell_type": "markdown",
   "metadata": {},
   "source": [
    "Estas pocas líneas de código verifican si el número ingresado por el usuario es menor o mayor al número secreto. En cada caso una pista es imprimida en pantalla. Si el intento del usuario no es mayor ni menor que el número secreto, entonces, éste debe ser igual y en consecuencia queremos que la ejecución del programa salga del ciclo de repetición."
   ]
  },
  {
   "cell_type": "code",
   "execution_count": null,
   "metadata": {},
   "outputs": [],
   "source": [
    "if intentoAdivinar == numeroSecreto:\n",
    "    print('Felicidades! Ha acertado correctamente el número en el intento ' + str(intentos))\n",
    "else:\n",
    "    print('Mala suerte, el número que estaba pensando era: ' + str(numeroSecreto))"
   ]
  },
  {
   "cell_type": "markdown",
   "metadata": {},
   "source": [
    "En ambos casos el programa muestra una variable que contiene un valor entero (`intentos` y `numeroSecreto`), dado que debemos concatenar estos valores enteros con cadenas de caracteres, pasamos estos valores a la función `str()` quien retorna una cadena de caracteres, permitiendo la concatenación mediante el operador `+`."
   ]
  }
 ],
 "metadata": {
  "kernelspec": {
   "display_name": "Python 3",
   "language": "python",
   "name": "python3"
  },
  "language_info": {
   "codemirror_mode": {
    "name": "ipython",
    "version": 3
   },
   "file_extension": ".py",
   "mimetype": "text/x-python",
   "name": "python",
   "nbconvert_exporter": "python",
   "pygments_lexer": "ipython3",
   "version": "3.6.6"
  },
  "toc": {
   "base_numbering": 1,
   "nav_menu": {},
   "number_sections": true,
   "sideBar": true,
   "skip_h1_title": true,
   "title_cell": "Funciones",
   "title_sidebar": "Contenidos",
   "toc_cell": true,
   "toc_position": {},
   "toc_section_display": true,
   "toc_window_display": true
  }
 },
 "nbformat": 4,
 "nbformat_minor": 2
}
