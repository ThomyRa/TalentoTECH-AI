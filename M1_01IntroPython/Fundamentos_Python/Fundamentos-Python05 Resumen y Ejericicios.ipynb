{
 "cells": [
  {
   "cell_type": "markdown",
   "metadata": {
    "toc": true
   },
   "source": [
    "<h1>Tabla de Contenidos<span class=\"tocSkip\"></span></h1>\n",
    "<div class=\"toc\"><ul class=\"toc-item\"><li><span><a href=\"#Resumen\" data-toc-modified-id=\"Resumen-1\"><span class=\"toc-item-num\">1&nbsp;&nbsp;</span>Resumen</a></span></li><li><span><a href=\"#Preguntas-Prácticas\" data-toc-modified-id=\"Preguntas-Prácticas-2\"><span class=\"toc-item-num\">2&nbsp;&nbsp;</span>Preguntas Prácticas</a></span></li><li><span><a href=\"#Proyectos-de-Práctica\" data-toc-modified-id=\"Proyectos-de-Práctica-3\"><span class=\"toc-item-num\">3&nbsp;&nbsp;</span>Proyectos de Práctica</a></span><ul class=\"toc-item\"><li><span><a href=\"#Inventario-de-juego-de-fantasía\" data-toc-modified-id=\"Inventario-de-juego-de-fantasía-3.1\"><span class=\"toc-item-num\">3.1&nbsp;&nbsp;</span>Inventario de juego de fantasía</a></span></li><li><span><a href=\"#Convirtiendo-lista-a-diicionario-para-el-inventario-del-juego-de-fanatasía\" data-toc-modified-id=\"Convirtiendo-lista-a-diicionario-para-el-inventario-del-juego-de-fanatasía-3.2\"><span class=\"toc-item-num\">3.2&nbsp;&nbsp;</span>Convirtiendo lista a diicionario para el inventario del juego de fanatasía</a></span></li></ul></li></ul></div>"
   ]
  },
  {
   "cell_type": "markdown",
   "metadata": {},
   "source": [
    "## Resumen"
   ]
  },
  {
   "cell_type": "markdown",
   "metadata": {},
   "source": [
    "Aprendimos todo acerca de los diccionarios en este capítulo. Las listas y los diccionarios son valores que pueden contener múltiples valores, incluyendo otras listas y diccionarios. Los diccionarios son útiles porque podemos mapear un ítem (la llave) con otro (el valor). A diferencia de las listas, en las que simplemente en estas se almacenan series de valores ordenados. Los valores dentro de un diccionario son accedidos usando corchetes `[` y `]` como en las listas. En lugar de usar un índice entero, los diccionarios tienen llaves que pueden ser diferentes tipos de datos, como: enteros, números de punto flotante, cadenas o tuplas. Al organizar los valores de nuestros programas en estructuras de datos, podemos crear representaciones de objetos del mundo real. Vimos un ejemplo de esto con el tablero de “triqui”."
   ]
  },
  {
   "cell_type": "markdown",
   "metadata": {},
   "source": [
    "## Preguntas Prácticas"
   ]
  },
  {
   "cell_type": "markdown",
   "metadata": {},
   "source": [
    "1. ¿Cómo luce el código de un diccionario vacío?\n",
    "2. ¿Cómo luce el código de un diccionario con la llave `'foo'` y el valor 42?\n",
    "3. ¿Cuál es la principal diferencia entre un diccionario y una lista?\n",
    "4. ¿Qué pasa si tratamos de acceder a `spam['foo']` si `spam` es `{'bar': 100}`\n",
    "5. Si un diccionario es almacenado en `spam`, ¿cuál es la diferencia entre las expresiones `'cat' in spam` y `'cat' in spam.keys()`?\n",
    "6. Si un diccionario es almacenado en `spam`, ¿cuál es la diferencia entre las expresiones `cat in spam` y `cat in spam.values()`?\n",
    "7. ¿Cuál es la forma abreviada para el siguiente fragmento de código?"
   ]
  },
  {
   "cell_type": "code",
   "execution_count": null,
   "metadata": {},
   "outputs": [],
   "source": [
    "if 'color' not in spam:\n",
    "    spam['color'] = 'black'"
   ]
  },
  {
   "cell_type": "markdown",
   "metadata": {},
   "source": [
    "8. ¿Cuál módulo o función es usado para imprimir estéticamente?"
   ]
  },
  {
   "cell_type": "markdown",
   "metadata": {},
   "source": [
    "## Proyectos de Práctica"
   ]
  },
  {
   "cell_type": "markdown",
   "metadata": {},
   "source": [
    "A manera de práctica, implementmos los siguientes proyectos escribiendo programas que lleven a cabo sus diferentes tareas"
   ]
  },
  {
   "cell_type": "markdown",
   "metadata": {},
   "source": [
    "### Inventario de juego de fantasía"
   ]
  },
  {
   "cell_type": "markdown",
   "metadata": {},
   "source": [
    "Usted está creando un videojuego de fantasía. La estructura de datos para modelar el inventario del jugador será un diccionario donde las llaves serán cadenas de caracteres que describen el item en el inventario y las llaves, será un número entero que detalla la cantidad de items de este tipo tiene el jugador. Por ejemplo, el valor de diccionario `{'rope': 1, 'torch': 6, 'gold coin': 42, 'dagger': 1, 'arrow': 12}` significa que el jugador tiene 1 cuerda, 6 antorchas, 42 monedas de oro, una daga y 12 flechas"
   ]
  },
  {
   "cell_type": "markdown",
   "metadata": {},
   "source": [
    "Cree una función llamada `displayInventory()` que tome cualquier posible inventario y la muestre de la siguiente manera."
   ]
  },
  {
   "cell_type": "markdown",
   "metadata": {},
   "source": [
    "<img src=\"https://i.imgur.com/q2M8R2Q.png\" width=\"300\">"
   ]
  },
  {
   "cell_type": "code",
   "execution_count": null,
   "metadata": {},
   "outputs": [],
   "source": [
    "# inventory.py\n",
    "stuff = {'rope': 1, 'torch': 6, 'gold coin': 42, 'dagger': 1, 'arrow': 12}\n",
    "\n",
    "def displayInventory(inventory):\n",
    "    print(\"Inventory:\")\n",
    "    item_total = 0\n",
    "    for k, v in inventory.items():\n",
    "        # COMPLEMENTE EL FRAGMENTO DE CÓDIGO AQUI\n",
    "    print(\"Total number of items: \" + str(item_total))\n",
    "    \n",
    "displayInventory(stuff)"
   ]
  },
  {
   "cell_type": "markdown",
   "metadata": {},
   "source": [
    "**Pista:** Puede usar un ciclo `for` para iterar por todas las llaves en el diccionario."
   ]
  },
  {
   "cell_type": "markdown",
   "metadata": {},
   "source": [
    "### Convirtiendo lista a diicionario para el inventario del juego de fanatasía"
   ]
  },
  {
   "cell_type": "markdown",
   "metadata": {},
   "source": [
    "Imaginemos que el tesoro de un dragón eliminado es representado como una lista de cadenas de caracteres de la siguiente manera:"
   ]
  },
  {
   "cell_type": "code",
   "execution_count": null,
   "metadata": {},
   "outputs": [],
   "source": [
    "dragonLoot = ['gold coin', 'dagger', 'gold coin', 'gold coin', 'ruby']"
   ]
  },
  {
   "cell_type": "markdown",
   "metadata": {},
   "source": [
    "Escriba una función llamada `addToInventory(inventory, addedItems)`, donde el parámetro `inventory` es un diccionario representado por inventario del jugador (como el del proyecto anterior) y el parámetro `addedItems` es una lista como `dragonLoot`. La función `addToInventory()` deberá retornar un diccionario que represente el inventario del jugador actualizado. Nótese que las lista `addedItems` puede contener múltiples entradas del mismo item. Su código deberá lucir de la siguiente manera:"
   ]
  },
  {
   "cell_type": "code",
   "execution_count": null,
   "metadata": {},
   "outputs": [],
   "source": [
    "def addToInventory(inventory, addedItems):\n",
    "    # su código va aquí\n",
    "\n",
    "inv = {'gold coin': 42, 'rope': 1}\n",
    "dragonLoot = ['gold coin', 'dagger', 'gold coin', 'gold coin', 'ruby']\n",
    "inv = addToInventory(inv, dragonLoot)\n",
    "displayInventory(inv)"
   ]
  },
  {
   "cell_type": "markdown",
   "metadata": {},
   "source": [
    "El programa anterior (con la función `displayInventory()` del proyecto anterior), deberá tener como salida lo siguiente:"
   ]
  },
  {
   "cell_type": "markdown",
   "metadata": {},
   "source": [
    "<img src=\"https://i.imgur.com/2jc7Y8D.png\" width=\"300\">"
   ]
  }
 ],
 "metadata": {
  "kernelspec": {
   "display_name": "Python 3",
   "language": "python",
   "name": "python3"
  },
  "language_info": {
   "codemirror_mode": {
    "name": "ipython",
    "version": 3
   },
   "file_extension": ".py",
   "mimetype": "text/x-python",
   "name": "python",
   "nbconvert_exporter": "python",
   "pygments_lexer": "ipython3",
   "version": "3.6.6"
  },
  "toc": {
   "base_numbering": 1,
   "nav_menu": {},
   "number_sections": true,
   "sideBar": true,
   "skip_h1_title": false,
   "title_cell": "Tabla de Contenidos",
   "title_sidebar": "Contenidos",
   "toc_cell": true,
   "toc_position": {},
   "toc_section_display": true,
   "toc_window_display": false
  }
 },
 "nbformat": 4,
 "nbformat_minor": 2
}
