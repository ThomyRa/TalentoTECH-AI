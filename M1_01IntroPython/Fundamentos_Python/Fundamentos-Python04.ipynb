{
 "cells": [
  {
   "cell_type": "markdown",
   "metadata": {
    "toc": true
   },
   "source": [
    "<h1>Listas<span class=\"tocSkip\"></span></h1>\n",
    "<div class=\"toc\"><ul class=\"toc-item\"><li><span><a href=\"#Introducción\" data-toc-modified-id=\"Introducción-1\"><span class=\"toc-item-num\">1&nbsp;&nbsp;</span>Introducción</a></span></li><li><span><a href=\"#El-tipo-de-dato-list\" data-toc-modified-id=\"El-tipo-de-dato-list-2\"><span class=\"toc-item-num\">2&nbsp;&nbsp;</span>El tipo de dato <code>list</code></a></span><ul class=\"toc-item\"><li><span><a href=\"#Obteniendo-valores-individuales-en-una-lista-usando-índices\" data-toc-modified-id=\"Obteniendo-valores-individuales-en-una-lista-usando-índices-2.1\"><span class=\"toc-item-num\">2.1&nbsp;&nbsp;</span>Obteniendo valores individuales en una lista usando índices</a></span></li><li><span><a href=\"#Índices-negativos\" data-toc-modified-id=\"Índices-negativos-2.2\"><span class=\"toc-item-num\">2.2&nbsp;&nbsp;</span>Índices negativos</a></span></li><li><span><a href=\"#Obteniendo-sublistas-con-porciones\" data-toc-modified-id=\"Obteniendo-sublistas-con-porciones-2.3\"><span class=\"toc-item-num\">2.3&nbsp;&nbsp;</span>Obteniendo sublistas con <em>porciones</em></a></span></li><li><span><a href=\"#Obteniendo-el-tamaño-de-la-lista-usando-len()\" data-toc-modified-id=\"Obteniendo-el-tamaño-de-la-lista-usando-len()-2.4\"><span class=\"toc-item-num\">2.4&nbsp;&nbsp;</span>Obteniendo el tamaño de la lista usando <code>len()</code></a></span></li><li><span><a href=\"#Cambiando-valores-en-una-lista-usando-índices\" data-toc-modified-id=\"Cambiando-valores-en-una-lista-usando-índices-2.5\"><span class=\"toc-item-num\">2.5&nbsp;&nbsp;</span>Cambiando valores en una lista usando índices</a></span></li><li><span><a href=\"#Concatenación-y-replicación-de-listas\" data-toc-modified-id=\"Concatenación-y-replicación-de-listas-2.6\"><span class=\"toc-item-num\">2.6&nbsp;&nbsp;</span>Concatenación y replicación de listas</a></span></li><li><span><a href=\"#Removiendo-valores-de-una-lista-usando-el-estamento-del\" data-toc-modified-id=\"Removiendo-valores-de-una-lista-usando-el-estamento-del-2.7\"><span class=\"toc-item-num\">2.7&nbsp;&nbsp;</span>Removiendo valores de una lista usando el estamento <code>del</code></a></span></li></ul></li><li><span><a href=\"#Trabajando-con-listas\" data-toc-modified-id=\"Trabajando-con-listas-3\"><span class=\"toc-item-num\">3&nbsp;&nbsp;</span>Trabajando con listas</a></span><ul class=\"toc-item\"><li><span><a href=\"#Usando-ciclos-for-en-nustras-listas\" data-toc-modified-id=\"Usando-ciclos-for-en-nustras-listas-3.1\"><span class=\"toc-item-num\">3.1&nbsp;&nbsp;</span>Usando ciclos <code>for</code> en nustras listas</a></span></li><li><span><a href=\"#Los-operadores-in-y-not-in\" data-toc-modified-id=\"Los-operadores-in-y-not-in-3.2\"><span class=\"toc-item-num\">3.2&nbsp;&nbsp;</span>Los operadores <code>in</code> y <code>not in</code></a></span></li><li><span><a href=\"#Truco-para-asignación-multiple\" data-toc-modified-id=\"Truco-para-asignación-multiple-3.3\"><span class=\"toc-item-num\">3.3&nbsp;&nbsp;</span>Truco para asignación multiple</a></span></li></ul></li><li><span><a href=\"#Operadores-de-asignación-compuesta\" data-toc-modified-id=\"Operadores-de-asignación-compuesta-4\"><span class=\"toc-item-num\">4&nbsp;&nbsp;</span>Operadores de asignación compuesta</a></span></li><li><span><a href=\"#Métodos\" data-toc-modified-id=\"Métodos-5\"><span class=\"toc-item-num\">5&nbsp;&nbsp;</span>Métodos</a></span><ul class=\"toc-item\"><li><span><a href=\"#Encontrando-un-valor-en-una-lista-mediante-el-método-index()\" data-toc-modified-id=\"Encontrando-un-valor-en-una-lista-mediante-el-método-index()-5.1\"><span class=\"toc-item-num\">5.1&nbsp;&nbsp;</span>Encontrando un valor en una lista mediante el método <code>index()</code></a></span></li><li><span><a href=\"#Agregando-valores-a-una-lista-usando-los-métodos-append()-e-insert()\" data-toc-modified-id=\"Agregando-valores-a-una-lista-usando-los-métodos-append()-e-insert()-5.2\"><span class=\"toc-item-num\">5.2&nbsp;&nbsp;</span>Agregando valores a una lista usando los métodos <code>append()</code> e <code>insert()</code></a></span></li><li><span><a href=\"#Removiendo-valores-de-listas-usando-el-método-remove()\" data-toc-modified-id=\"Removiendo-valores-de-listas-usando-el-método-remove()-5.3\"><span class=\"toc-item-num\">5.3&nbsp;&nbsp;</span>Removiendo valores de listas usando el método <code>remove()</code></a></span></li><li><span><a href=\"#Organizando-valores-en-una-lista-usando-el-método-sort()\" data-toc-modified-id=\"Organizando-valores-en-una-lista-usando-el-método-sort()-5.4\"><span class=\"toc-item-num\">5.4&nbsp;&nbsp;</span>Organizando valores en una lista usando el método <code>sort()</code></a></span></li></ul></li><li><span><a href=\"#Programa-de-ejemplo:-Bola-mágica-8-con-listas\" data-toc-modified-id=\"Programa-de-ejemplo:-Bola-mágica-8-con-listas-6\"><span class=\"toc-item-num\">6&nbsp;&nbsp;</span>Programa de ejemplo: Bola mágica 8 con listas</a></span></li><li><span><a href=\"#Tipos-de-datos-semejantes-a-las-listas:-Strings-y-Tuplas\" data-toc-modified-id=\"Tipos-de-datos-semejantes-a-las-listas:-Strings-y-Tuplas-7\"><span class=\"toc-item-num\">7&nbsp;&nbsp;</span>Tipos de datos semejantes a las listas: Strings y Tuplas</a></span><ul class=\"toc-item\"><li><span><a href=\"#Tipos-de-datos-mutables-e-inmutables\" data-toc-modified-id=\"Tipos-de-datos-mutables-e-inmutables-7.1\"><span class=\"toc-item-num\">7.1&nbsp;&nbsp;</span>Tipos de datos mutables e inmutables</a></span></li><li><span><a href=\"#El-tipo-de-dato-tupla-(tuple)\" data-toc-modified-id=\"El-tipo-de-dato-tupla-(tuple)-7.2\"><span class=\"toc-item-num\">7.2&nbsp;&nbsp;</span>El tipo de dato tupla (<code>tuple</code>)</a></span></li></ul></li><li><span><a href=\"#Referencias\" data-toc-modified-id=\"Referencias-8\"><span class=\"toc-item-num\">8&nbsp;&nbsp;</span>Referencias</a></span><ul class=\"toc-item\"><li><span><a href=\"#Pasando-valores-por-referencia\" data-toc-modified-id=\"Pasando-valores-por-referencia-8.1\"><span class=\"toc-item-num\">8.1&nbsp;&nbsp;</span>Pasando valores por referencia</a></span></li><li><span><a href=\"#El-módulo-copy-y-las-funciones-copy()-y-deepcopy()\" data-toc-modified-id=\"El-módulo-copy-y-las-funciones-copy()-y-deepcopy()-8.2\"><span class=\"toc-item-num\">8.2&nbsp;&nbsp;</span>El módulo <code>copy</code> y las funciones <code>copy()</code> y <code>deepcopy()</code></a></span></li></ul></li></ul></div>"
   ]
  },
  {
   "cell_type": "markdown",
   "metadata": {},
   "source": [
    "## Introducción"
   ]
  },
  {
   "cell_type": "markdown",
   "metadata": {},
   "source": [
    "Un concepto adicional que debemos ver antes de empezar a escribir programas, son las **listas** y las **tuplas**. Las listas y las tuplas pueden almacenar múltiples valores, lo cual es útil para manejar grandes cantidades de datos. Adicionalmente, las listas en sí mismas puedan almacenar otras listas que nos permiten organizar datos en estructuras jerárquicas. "
   ]
  },
  {
   "cell_type": "markdown",
   "metadata": {},
   "source": [
    "## El tipo de dato `list`"
   ]
  },
  {
   "cell_type": "markdown",
   "metadata": {},
   "source": [
    "Una lista es un valor que contiene múltiples valores en una secuencia ordenada. El término *valor de lista* se refiere a la lista en sí (el cual puede ser almacenado en una variable o pasado a una función como cualquier otro valor), no a los valores dentro del valor de lista. Un valor de lista luce así: `['cat', 'bat', 'rat', 'elephant']`."
   ]
  },
  {
   "cell_type": "markdown",
   "metadata": {},
   "source": [
    "Tal como las cadena de caracteres que se escriben con comillas para indicar dónde empiezan y dónde terminan, las listas empiezan con `[` y terminan con `]` Los valores dentro de la ista se denominan *elementos*. Los elementos deben ir separados por coma. Veamos algunos ejemplos:"
   ]
  },
  {
   "cell_type": "code",
   "execution_count": 3,
   "metadata": {},
   "outputs": [
    {
     "data": {
      "text/plain": [
       "[1, 2, 3]"
      ]
     },
     "execution_count": 3,
     "metadata": {},
     "output_type": "execute_result"
    }
   ],
   "source": [
    "[1, 2, 3]"
   ]
  },
  {
   "cell_type": "code",
   "execution_count": 2,
   "metadata": {},
   "outputs": [
    {
     "data": {
      "text/plain": [
       "['cat', 'bat', 'rat', 'elephant']"
      ]
     },
     "execution_count": 2,
     "metadata": {},
     "output_type": "execute_result"
    }
   ],
   "source": [
    "['cat', 'bat', 'rat', 'elephant']"
   ]
  },
  {
   "cell_type": "code",
   "execution_count": 4,
   "metadata": {},
   "outputs": [
    {
     "data": {
      "text/plain": [
       "['hello', 3.1415, True, None, 42]"
      ]
     },
     "execution_count": 4,
     "metadata": {},
     "output_type": "execute_result"
    }
   ],
   "source": [
    "['hello', 3.1415, True, None, 42]"
   ]
  },
  {
   "cell_type": "code",
   "execution_count": 5,
   "metadata": {},
   "outputs": [
    {
     "data": {
      "text/plain": [
       "['cat', 'bat', 'rat', 'elephant']"
      ]
     },
     "execution_count": 5,
     "metadata": {},
     "output_type": "execute_result"
    }
   ],
   "source": [
    "spam = ['cat', 'bat', 'rat', 'elephant']\n",
    "spam"
   ]
  },
  {
   "cell_type": "markdown",
   "metadata": {},
   "source": [
    "A la variable `spam` se le asignan un sólo valor. El valor de lista, pero en sí la lista, tiene otros valores. El valor `[]` es una lista vacía que no contiene valores. Similar a `''` las cadenas de caracteres vacías."
   ]
  },
  {
   "cell_type": "markdown",
   "metadata": {},
   "source": [
    "### Obteniendo valores individuales en una lista usando índices"
   ]
  },
  {
   "cell_type": "markdown",
   "metadata": {},
   "source": [
    "Supongamos que tenemos la siguiente lista `['cat', 'bat', 'rat', 'elephant']` almacenada en una variable llamada `spam`. La expresión `spam[0]` retornará el valor `'cat'`, `spam[1]`, retornará `'bat'` y así sucesivamente. El número entero dentro de los corchetes se denomina *índice*. El primer elemento de la lista tiene índice `0`, el segundo `1`, el tercero `2` y así sucesivamente. La siguiente figura muestra una lista asignada a `spam` junto con las expresiones para acceder a cada elemento de la lista."
   ]
  },
  {
   "cell_type": "markdown",
   "metadata": {},
   "source": [
    "<img src=\"https://i.imgur.com/9OKoXX2.png\" width=\"300\">"
   ]
  },
  {
   "cell_type": "markdown",
   "metadata": {},
   "source": [
    "Ingresemos las siguientes expresiones en el shell interactivo. Empecemos por asignarle a la variable `spam` una lista."
   ]
  },
  {
   "cell_type": "code",
   "execution_count": 8,
   "metadata": {},
   "outputs": [
    {
     "data": {
      "text/plain": [
       "'cat'"
      ]
     },
     "execution_count": 8,
     "metadata": {},
     "output_type": "execute_result"
    }
   ],
   "source": [
    "spam = ['cat', 'bat', 'rat', 'elephant']\n",
    "spam[0]"
   ]
  },
  {
   "cell_type": "code",
   "execution_count": 9,
   "metadata": {},
   "outputs": [
    {
     "data": {
      "text/plain": [
       "'bat'"
      ]
     },
     "execution_count": 9,
     "metadata": {},
     "output_type": "execute_result"
    }
   ],
   "source": [
    "spam[1]"
   ]
  },
  {
   "cell_type": "code",
   "execution_count": 10,
   "metadata": {},
   "outputs": [
    {
     "data": {
      "text/plain": [
       "'rat'"
      ]
     },
     "execution_count": 10,
     "metadata": {},
     "output_type": "execute_result"
    }
   ],
   "source": [
    "spam[2]"
   ]
  },
  {
   "cell_type": "code",
   "execution_count": 11,
   "metadata": {},
   "outputs": [
    {
     "data": {
      "text/plain": [
       "'elephant'"
      ]
     },
     "execution_count": 11,
     "metadata": {},
     "output_type": "execute_result"
    }
   ],
   "source": [
    "spam[3]"
   ]
  },
  {
   "cell_type": "code",
   "execution_count": 12,
   "metadata": {},
   "outputs": [
    {
     "data": {
      "text/plain": [
       "'elephant'"
      ]
     },
     "execution_count": 12,
     "metadata": {},
     "output_type": "execute_result"
    }
   ],
   "source": [
    "['cat', 'bat', 'rat', 'elephant'][3]"
   ]
  },
  {
   "cell_type": "code",
   "execution_count": 14,
   "metadata": {},
   "outputs": [
    {
     "data": {
      "text/plain": [
       "'Hello cat'"
      ]
     },
     "execution_count": 14,
     "metadata": {},
     "output_type": "execute_result"
    }
   ],
   "source": [
    "'Hello ' + spam[0]"
   ]
  },
  {
   "cell_type": "code",
   "execution_count": 16,
   "metadata": {},
   "outputs": [
    {
     "data": {
      "text/plain": [
       "'The cat ate the rat.'"
      ]
     },
     "execution_count": 16,
     "metadata": {},
     "output_type": "execute_result"
    }
   ],
   "source": [
    "'The ' + spam[0] + ' ate the ' + spam[2] + '.'"
   ]
  },
  {
   "cell_type": "markdown",
   "metadata": {},
   "source": [
    "Nótese que la expresión `'Hello ' + spam[0]` se evalúa a `'Hello ' + 'cat'` porque `'spam[0]'` se evalúa a `'cat'`. La expresión completa se evalúa a `'Hello cat'`"
   ]
  },
  {
   "cell_type": "markdown",
   "metadata": {},
   "source": [
    "Si usamos un índice que excede el número de elementos de en una lista, Python nos arrojará un mensaje de error `IndexError`."
   ]
  },
  {
   "cell_type": "code",
   "execution_count": 17,
   "metadata": {},
   "outputs": [
    {
     "ename": "IndexError",
     "evalue": "list index out of range",
     "output_type": "error",
     "traceback": [
      "\u001b[0;31m---------------------------------------------------------------------------\u001b[0m",
      "\u001b[0;31mIndexError\u001b[0m                                Traceback (most recent call last)",
      "\u001b[0;32m<ipython-input-17-ca92db358474>\u001b[0m in \u001b[0;36m<module>\u001b[0;34m()\u001b[0m\n\u001b[1;32m      1\u001b[0m \u001b[0mspam\u001b[0m \u001b[0;34m=\u001b[0m \u001b[0;34m[\u001b[0m\u001b[0;34m'cat'\u001b[0m\u001b[0;34m,\u001b[0m \u001b[0;34m'bat'\u001b[0m\u001b[0;34m,\u001b[0m \u001b[0;34m'rat'\u001b[0m\u001b[0;34m,\u001b[0m \u001b[0;34m'elephant'\u001b[0m\u001b[0;34m]\u001b[0m\u001b[0;34m\u001b[0m\u001b[0m\n\u001b[0;32m----> 2\u001b[0;31m \u001b[0mspam\u001b[0m\u001b[0;34m[\u001b[0m\u001b[0;36m1000\u001b[0m\u001b[0;34m]\u001b[0m\u001b[0;34m\u001b[0m\u001b[0m\n\u001b[0m",
      "\u001b[0;31mIndexError\u001b[0m: list index out of range"
     ]
    }
   ],
   "source": [
    "spam = ['cat', 'bat', 'rat', 'elephant']\n",
    "spam[1000]"
   ]
  },
  {
   "cell_type": "markdown",
   "metadata": {},
   "source": [
    "Los índices sólo pueden ser valores enteros, el siguiente ejemplo causará un error `TypeError`."
   ]
  },
  {
   "cell_type": "code",
   "execution_count": 18,
   "metadata": {},
   "outputs": [
    {
     "ename": "TypeError",
     "evalue": "list indices must be integers or slices, not float",
     "output_type": "error",
     "traceback": [
      "\u001b[0;31m---------------------------------------------------------------------------\u001b[0m",
      "\u001b[0;31mTypeError\u001b[0m                                 Traceback (most recent call last)",
      "\u001b[0;32m<ipython-input-18-a283f69a570a>\u001b[0m in \u001b[0;36m<module>\u001b[0;34m()\u001b[0m\n\u001b[0;32m----> 1\u001b[0;31m \u001b[0mspam\u001b[0m\u001b[0;34m[\u001b[0m\u001b[0;36m1.0\u001b[0m\u001b[0;34m]\u001b[0m\u001b[0;34m\u001b[0m\u001b[0m\n\u001b[0m",
      "\u001b[0;31mTypeError\u001b[0m: list indices must be integers or slices, not float"
     ]
    }
   ],
   "source": [
    "spam[1.0]"
   ]
  },
  {
   "cell_type": "code",
   "execution_count": 19,
   "metadata": {},
   "outputs": [
    {
     "data": {
      "text/plain": [
       "'bat'"
      ]
     },
     "execution_count": 19,
     "metadata": {},
     "output_type": "execute_result"
    }
   ],
   "source": [
    "spam[int(1.0)]"
   ]
  },
  {
   "cell_type": "markdown",
   "metadata": {},
   "source": [
    "Las listas también pueden contener otras listas, para acceder a los valores dentro de estas listas se deben usar múltiples índices:"
   ]
  },
  {
   "cell_type": "code",
   "execution_count": 20,
   "metadata": {},
   "outputs": [
    {
     "data": {
      "text/plain": [
       "['cat', 'bat']"
      ]
     },
     "execution_count": 20,
     "metadata": {},
     "output_type": "execute_result"
    }
   ],
   "source": [
    "spam = [['cat', 'bat'], [10, 20, 30, 40, 50]]\n",
    "spam[0]"
   ]
  },
  {
   "cell_type": "code",
   "execution_count": 21,
   "metadata": {},
   "outputs": [
    {
     "data": {
      "text/plain": [
       "'bat'"
      ]
     },
     "execution_count": 21,
     "metadata": {},
     "output_type": "execute_result"
    }
   ],
   "source": [
    "spam[0][1]"
   ]
  },
  {
   "cell_type": "code",
   "execution_count": 22,
   "metadata": {},
   "outputs": [
    {
     "data": {
      "text/plain": [
       "50"
      ]
     },
     "execution_count": 22,
     "metadata": {},
     "output_type": "execute_result"
    }
   ],
   "source": [
    "spam[1][4]"
   ]
  },
  {
   "cell_type": "markdown",
   "metadata": {},
   "source": [
    "El primer índice nos dice a qué lista debemos acceder, el segundo, nos indica a cual elemento dentro de esa lista. Por ejemplo `spam[0][1]` imprimirá `'bat'` el cual es el segundo elemento de la primera lista. Si sólo usamos un índice Python imprimirá la lista completa correspondiente a ese índice."
   ]
  },
  {
   "cell_type": "markdown",
   "metadata": {},
   "source": [
    "### Índices negativos"
   ]
  },
  {
   "cell_type": "markdown",
   "metadata": {},
   "source": [
    "Mientras los índices empiezan en cero y se incrementan, podemos usar enteros negativos para los índices. El valor entero `-1` hace referencia al último elemento de una lista, el valor `-2` hace referencia al penúltimo y así sucesivamente. Ingresemos las siguientes expresiones en el shell interactivo."
   ]
  },
  {
   "cell_type": "code",
   "execution_count": 23,
   "metadata": {},
   "outputs": [
    {
     "data": {
      "text/plain": [
       "'elephant'"
      ]
     },
     "execution_count": 23,
     "metadata": {},
     "output_type": "execute_result"
    }
   ],
   "source": [
    "spam = ['cat', 'bat', 'rat', 'elephant']\n",
    "spam[-1]"
   ]
  },
  {
   "cell_type": "code",
   "execution_count": 24,
   "metadata": {},
   "outputs": [
    {
     "data": {
      "text/plain": [
       "'bat'"
      ]
     },
     "execution_count": 24,
     "metadata": {},
     "output_type": "execute_result"
    }
   ],
   "source": [
    "spam[-3]"
   ]
  },
  {
   "cell_type": "code",
   "execution_count": 25,
   "metadata": {},
   "outputs": [
    {
     "data": {
      "text/plain": [
       "'The elephant is afraid of the rat.'"
      ]
     },
     "execution_count": 25,
     "metadata": {},
     "output_type": "execute_result"
    }
   ],
   "source": [
    "'The ' + spam[-1] + ' is afraid of the ' + spam[-2] + '.'"
   ]
  },
  {
   "cell_type": "markdown",
   "metadata": {},
   "source": [
    "### Obteniendo sublistas con *porciones*"
   ]
  },
  {
   "cell_type": "markdown",
   "metadata": {},
   "source": [
    "Gracias a los índices podemos acceder a un único elemento de una lista. Sin embargo, existe una manera de acceder a varios elementos mediante *rebanadas* en forma de una lista nueva. Una rebanada se escribe entre corchetes, como los índices pero tiene dos números enteros separados por dos puntos `:`.  En una rebanada, el primer entero indica el índice donde empieza, el segundo entero es el índice dónde termina. La rebanada va **hasta  pero sin incluir el valor del segundo índice**. Una rebanada se evalúa a un nuevo valor de lista. Ingresemos las siguientes expresiones en el sehll intercativo."
   ]
  },
  {
   "cell_type": "code",
   "execution_count": 26,
   "metadata": {},
   "outputs": [
    {
     "data": {
      "text/plain": [
       "['cat', 'bat', 'rat', 'elephant']"
      ]
     },
     "execution_count": 26,
     "metadata": {},
     "output_type": "execute_result"
    }
   ],
   "source": [
    "spam = ['cat', 'bat', 'rat', 'elephant']\n",
    "spam[0:4]"
   ]
  },
  {
   "cell_type": "code",
   "execution_count": 27,
   "metadata": {},
   "outputs": [
    {
     "data": {
      "text/plain": [
       "['bat', 'rat']"
      ]
     },
     "execution_count": 27,
     "metadata": {},
     "output_type": "execute_result"
    }
   ],
   "source": [
    "spam[1:3]"
   ]
  },
  {
   "cell_type": "code",
   "execution_count": 28,
   "metadata": {},
   "outputs": [
    {
     "data": {
      "text/plain": [
       "['cat', 'bat', 'rat']"
      ]
     },
     "execution_count": 28,
     "metadata": {},
     "output_type": "execute_result"
    }
   ],
   "source": [
    "spam[0:-1]"
   ]
  },
  {
   "cell_type": "markdown",
   "metadata": {},
   "source": [
    "Podemos dejar uno de los índices en blanco al lado del `:`. Si dejamos el primer índice en blanco, Python lo asume como `0` o el principio de la lista. Si dejamos el segundo índice en blanco, Python asumirá el final de la lista."
   ]
  },
  {
   "cell_type": "code",
   "execution_count": 29,
   "metadata": {},
   "outputs": [
    {
     "data": {
      "text/plain": [
       "['cat', 'bat']"
      ]
     },
     "execution_count": 29,
     "metadata": {},
     "output_type": "execute_result"
    }
   ],
   "source": [
    "spam = ['cat', 'bat', 'rat', 'elephant']\n",
    "spam[:2]"
   ]
  },
  {
   "cell_type": "code",
   "execution_count": 30,
   "metadata": {},
   "outputs": [
    {
     "data": {
      "text/plain": [
       "['bat', 'rat', 'elephant']"
      ]
     },
     "execution_count": 30,
     "metadata": {},
     "output_type": "execute_result"
    }
   ],
   "source": [
    "spam[1:]"
   ]
  },
  {
   "cell_type": "code",
   "execution_count": 31,
   "metadata": {},
   "outputs": [
    {
     "data": {
      "text/plain": [
       "['cat', 'bat', 'rat', 'elephant']"
      ]
     },
     "execution_count": 31,
     "metadata": {},
     "output_type": "execute_result"
    }
   ],
   "source": [
    "spam[:]"
   ]
  },
  {
   "cell_type": "markdown",
   "metadata": {},
   "source": [
    "### Obteniendo el tamaño de la lista usando `len()`"
   ]
  },
  {
   "cell_type": "markdown",
   "metadata": {},
   "source": [
    "La función `len()` retorna el número de valores de una lista, de la misma manera que cuenta el número de caracteres en una cadena."
   ]
  },
  {
   "cell_type": "code",
   "execution_count": 32,
   "metadata": {},
   "outputs": [
    {
     "data": {
      "text/plain": [
       "3"
      ]
     },
     "execution_count": 32,
     "metadata": {},
     "output_type": "execute_result"
    }
   ],
   "source": [
    "spam = ['cat', 'dog', 'moose']\n",
    "len(spam)"
   ]
  },
  {
   "cell_type": "markdown",
   "metadata": {},
   "source": [
    "### Cambiando valores en una lista usando índices"
   ]
  },
  {
   "cell_type": "markdown",
   "metadata": {},
   "source": [
    "Normalmente cuando asignamos un valor a una variable debemos usar un identificador al lado izquierdo del `=`, por ejemplo: `spam = 42`. Sin embargo, también se puede usar el índice de una lista para cambiar el valor del elemento con ese índice. Por ejemplo `spam[1] = 'qwerty'` significa: “Asigne el valor `'qwerty'` a `spam` en el índice `1`”."
   ]
  },
  {
   "cell_type": "code",
   "execution_count": 34,
   "metadata": {},
   "outputs": [
    {
     "data": {
      "text/plain": [
       "['cat', 'qwerty', 'rat', 'elephant']"
      ]
     },
     "execution_count": 34,
     "metadata": {},
     "output_type": "execute_result"
    }
   ],
   "source": [
    "spam = ['cat', 'bat', 'rat', 'elephant']\n",
    "spam[1] = 'qwerty'\n",
    "spam"
   ]
  },
  {
   "cell_type": "code",
   "execution_count": 35,
   "metadata": {},
   "outputs": [
    {
     "data": {
      "text/plain": [
       "['cat', 'qwerty', 'qwerty', 'elephant']"
      ]
     },
     "execution_count": 35,
     "metadata": {},
     "output_type": "execute_result"
    }
   ],
   "source": [
    "spam[2] = spam[1]\n",
    "spam"
   ]
  },
  {
   "cell_type": "code",
   "execution_count": 36,
   "metadata": {},
   "outputs": [
    {
     "data": {
      "text/plain": [
       "['cat', 'qwerty', 'qwerty', 12345]"
      ]
     },
     "execution_count": 36,
     "metadata": {},
     "output_type": "execute_result"
    }
   ],
   "source": [
    "spam[-1] = 12345\n",
    "spam"
   ]
  },
  {
   "cell_type": "markdown",
   "metadata": {},
   "source": [
    "### Concatenación y replicación de listas"
   ]
  },
  {
   "cell_type": "markdown",
   "metadata": {},
   "source": [
    "El operador `+` combina dos listas para crear una nueva de la misma manera que combina cadenas de caracteres en una nueva cadena. El operador `*` también puede ser usado con una lista y un valor entero para replicar dicha lista. "
   ]
  },
  {
   "cell_type": "code",
   "execution_count": 37,
   "metadata": {},
   "outputs": [
    {
     "data": {
      "text/plain": [
       "[1, 2, 3, 'A', 'B', 'C']"
      ]
     },
     "execution_count": 37,
     "metadata": {},
     "output_type": "execute_result"
    }
   ],
   "source": [
    "[1, 2, 3] + ['A', 'B', 'C']"
   ]
  },
  {
   "cell_type": "code",
   "execution_count": 38,
   "metadata": {},
   "outputs": [
    {
     "data": {
      "text/plain": [
       "['X', 'Y', 'Z', 'X', 'Y', 'Z', 'X', 'Y', 'Z']"
      ]
     },
     "execution_count": 38,
     "metadata": {},
     "output_type": "execute_result"
    }
   ],
   "source": [
    "['X', 'Y', 'Z'] * 3"
   ]
  },
  {
   "cell_type": "code",
   "execution_count": 39,
   "metadata": {},
   "outputs": [
    {
     "data": {
      "text/plain": [
       "[1, 2, 3, 'A', 'B', 'C']"
      ]
     },
     "execution_count": 39,
     "metadata": {},
     "output_type": "execute_result"
    }
   ],
   "source": [
    "spam = [1, 2, 3]\n",
    "spam = spam + ['A', 'B', 'C']\n",
    "spam"
   ]
  },
  {
   "cell_type": "markdown",
   "metadata": {},
   "source": [
    "### Removiendo valores de una lista usando el estamento `del`"
   ]
  },
  {
   "cell_type": "markdown",
   "metadata": {},
   "source": [
    "El estamento `del` remueve valores de una lista con el índice especificado. Luego de remover un elemento, todos los valores en la lista se moverán un espacio hacia el elemento eliminado."
   ]
  },
  {
   "cell_type": "code",
   "execution_count": 46,
   "metadata": {},
   "outputs": [
    {
     "data": {
      "text/plain": [
       "['cat', 'bat', 'elephant']"
      ]
     },
     "execution_count": 46,
     "metadata": {},
     "output_type": "execute_result"
    }
   ],
   "source": [
    "spam = ['cat', 'bat', 'rat', 'elephant']\n",
    "del spam[2]\n",
    "spam"
   ]
  },
  {
   "cell_type": "code",
   "execution_count": 47,
   "metadata": {},
   "outputs": [
    {
     "data": {
      "text/plain": [
       "['cat', 'bat']"
      ]
     },
     "execution_count": 47,
     "metadata": {},
     "output_type": "execute_result"
    }
   ],
   "source": [
    "del spam[2]\n",
    "spam"
   ]
  },
  {
   "cell_type": "markdown",
   "metadata": {},
   "source": [
    "El estamento `del` también puede ser usado en una simple variable para eliminarla. Si tratasemos de usar nuevamente la variable, obtendremos un error `NameError` ya que la variable no existe. En la práctica casi nunca necesitamos eliminar variables, `del` se usa principalmente para remover valores de listas."
   ]
  },
  {
   "cell_type": "markdown",
   "metadata": {},
   "source": [
    "## Trabajando con listas"
   ]
  },
  {
   "cell_type": "markdown",
   "metadata": {},
   "source": [
    "Cuando empezamos a escribir programas, es tentador definir muchas variables individuales para almacenar valores similares. Por ejemplo yo quiero almacenar los nombres de mis gatos. Podría estar tentado a escribir algo así:"
   ]
  },
  {
   "cell_type": "code",
   "execution_count": 1,
   "metadata": {},
   "outputs": [],
   "source": [
    "catName1 = 'Zophie'\n",
    "catName2 = 'Pooka'\n",
    "catName3 = 'Simon'\n",
    "catName4 = 'Lady Macbeth'\n",
    "catName5 = 'Fat-tail'\n",
    "catName6 = 'Miss Cleo'"
   ]
  },
  {
   "cell_type": "markdown",
   "metadata": {},
   "source": [
    "Resulta que esta es una mala práctica de programación. En primera instancia, si el número de gatos cambia, nuestro programa almacenará tantos gatos como variables existan. Por otro lado, este tipo de programas usualmente tienen mucho código reduntante o casi idéntico. Veamos cuánto código duplicado hay en el siguiente programa."
   ]
  },
  {
   "cell_type": "code",
   "execution_count": null,
   "metadata": {},
   "outputs": [],
   "source": [
    "print('Enter the name of cat 1:')\n",
    "catName1 = input()\n",
    "print('Enter the name of cat 2:')\n",
    "catName2 = input()\n",
    "print('Enter the name of cat 3:')\n",
    "catName3 = input()\n",
    "print('Enter the name of cat 4:')\n",
    "catName4 = input()\n",
    "print('Enter the name of cat 5:')\n",
    "catName5 = input()\n",
    "print('Enter the name of cat 6:')\n",
    "catName6 = input()\n",
    "print('The cat names are:')\n",
    "print(catName1 + ' ' + catName2 + ' ' + catName3 + ' ' + catName4 + ' ' +\n",
    "catName5 + ' ' + catName6)"
   ]
  },
  {
   "cell_type": "markdown",
   "metadata": {},
   "source": [
    "En lugar múltiples variables y código repetitivo,  podemos usar una única variable que contenga un valor de lista. Por ejemplo veamos un ejemplo mejorado del código anterior. Esta nueva versión usa una única lista y puede almacenar cualquier número de gatos que el usuario ingrese. "
   ]
  },
  {
   "cell_type": "code",
   "execution_count": 8,
   "metadata": {},
   "outputs": [
    {
     "name": "stdout",
     "output_type": "stream",
     "text": [
      "Ingrese el nombre del gato 1 (O deje el campo vacio para parar: )\n",
      "Zophie\n",
      "Ingrese el nombre del gato 2 (O deje el campo vacio para parar: )\n",
      "Pooka\n",
      "Ingrese el nombre del gato 3 (O deje el campo vacio para parar: )\n",
      "Simon\n",
      "Ingrese el nombre del gato 4 (O deje el campo vacio para parar: )\n",
      "Lady Macbeth\n",
      "Ingrese el nombre del gato 5 (O deje el campo vacio para parar: )\n",
      "Fat-tail\n",
      "Ingrese el nombre del gato 6 (O deje el campo vacio para parar: )\n",
      "Miss Cleo\n",
      "Ingrese el nombre del gato 7 (O deje el campo vacio para parar: )\n",
      "\n",
      "Los nombres de mis gatos son: \n",
      " Zophie\n",
      " Pooka\n",
      " Simon\n",
      " Lady Macbeth\n",
      " Fat-tail\n",
      " Miss Cleo\n"
     ]
    }
   ],
   "source": [
    "nombreGatos = []\n",
    "\n",
    "while True:\n",
    "    print('Ingrese el nombre del gato ' + str(len(nombreGatos) + 1) + ' (O deje el campo vacio para parar: )')\n",
    "    nombreGato = input()\n",
    "    if nombreGato == '':\n",
    "        break\n",
    "    nombreGatos = nombreGatos + [nombreGato] # Concatenación de listas\n",
    "    \n",
    "print('Los nombres de mis gatos son: ')\n",
    "\n",
    "for nombreGato in nombreGatos:\n",
    "    print(' ' + nombreGato)"
   ]
  },
  {
   "cell_type": "markdown",
   "metadata": {},
   "source": [
    "La ventaja de trabajar con listas es que, nuestros datos están ahora en una estructura, de esta manera nuestros programas son mucho más flexibles procesando los datos en comparación a trabajar con variables repetitivas."
   ]
  },
  {
   "cell_type": "markdown",
   "metadata": {},
   "source": [
    "### Usando ciclos `for` en nustras listas"
   ]
  },
  {
   "cell_type": "markdown",
   "metadata": {},
   "source": [
    "En la Unidad 2, aprendimos a usar los ciclos `for` para repetir un bloque de código cierta cantidad de veces. Técnicamente, un ciclo `for` repite el bloque de código por cada elemento de la lista o una *secuencia* (Más adelante veremos qué es una secuencia). Por ejemplo, si corremos este código, obtendremos la siguiente salida:"
   ]
  },
  {
   "cell_type": "code",
   "execution_count": 9,
   "metadata": {},
   "outputs": [
    {
     "name": "stdout",
     "output_type": "stream",
     "text": [
      "0\n",
      "1\n",
      "2\n",
      "3\n"
     ]
    }
   ],
   "source": [
    "for i in range(4):\n",
    "    print(i)"
   ]
  },
  {
   "cell_type": "markdown",
   "metadata": {},
   "source": [
    "Esto se debe a que el valor de retorno de `range(4)` es parecido a una lista (*secuencia*) `[0, 1, 2, 3]`. El siguiente programa produce la misma salida que el programa anterior."
   ]
  },
  {
   "cell_type": "code",
   "execution_count": 10,
   "metadata": {},
   "outputs": [
    {
     "name": "stdout",
     "output_type": "stream",
     "text": [
      "0\n",
      "1\n",
      "2\n",
      "3\n"
     ]
    }
   ],
   "source": [
    "for i in [0, 1, 2, 3]:\n",
    "    print(i)"
   ]
  },
  {
   "cell_type": "markdown",
   "metadata": {},
   "source": [
    "Una técnica muy común en Python es usar `range(len(algunaLista))` con un ciclo `for` que itera sobre los índices de la lista. Veamos un ejemplo:"
   ]
  },
  {
   "cell_type": "code",
   "execution_count": 15,
   "metadata": {},
   "outputs": [
    {
     "name": "stdout",
     "output_type": "stream",
     "text": [
      "El índice 0 en suministros es: lapices\n",
      "El índice 1 en suministros es: ganchos\n",
      "El índice 2 en suministros es: papel\n",
      "El índice 3 en suministros es: carpetas\n"
     ]
    }
   ],
   "source": [
    "suministros = ['lapices', 'ganchos', 'papel', 'carpetas']\n",
    "for i in range(len(suministros)):\n",
    "    print('El índice ' + str(i) + ' en suministros es: ' + suministros[i])"
   ]
  },
  {
   "cell_type": "markdown",
   "metadata": {},
   "source": [
    "Usar `range(len(suministros))` en el ejemplo anterior es útil ya que el código en el ciclo puede acceder al índice (como la variable `i`) y al valor en ese índice (como `suministros[i]`). Lo mejor de todo es que `range(len(suministros))` va a iterar a traves de todos los índices de `suministros` sin importar el número de elementos que contenga la lista."
   ]
  },
  {
   "cell_type": "markdown",
   "metadata": {},
   "source": [
    "### Los operadores `in` y `not in`"
   ]
  },
  {
   "cell_type": "markdown",
   "metadata": {},
   "source": [
    "Podemos saber si un valor se encuentra o no en una lista usando los operadores `in` y `not in`. Como otros operadores, éstos se usan en expresiones y conectan dos valores: El valor a buscar en una lista y la lista en dónde buscar. La expresión en su totalidad, se evaluará a un valor Booleano `True` o `False`. Veamos el siguiente ejemplo:"
   ]
  },
  {
   "cell_type": "code",
   "execution_count": 16,
   "metadata": {},
   "outputs": [
    {
     "data": {
      "text/plain": [
       "True"
      ]
     },
     "execution_count": 16,
     "metadata": {},
     "output_type": "execute_result"
    }
   ],
   "source": [
    "'howdy' in ['Hello', 'hi', 'howdy', 'heyas']"
   ]
  },
  {
   "cell_type": "code",
   "execution_count": 17,
   "metadata": {},
   "outputs": [
    {
     "data": {
      "text/plain": [
       "False"
      ]
     },
     "execution_count": 17,
     "metadata": {},
     "output_type": "execute_result"
    }
   ],
   "source": [
    "spam = ['Hello', 'hi', 'howdy', 'heyas']\n",
    "'cat' in spam"
   ]
  },
  {
   "cell_type": "code",
   "execution_count": 18,
   "metadata": {},
   "outputs": [
    {
     "data": {
      "text/plain": [
       "False"
      ]
     },
     "execution_count": 18,
     "metadata": {},
     "output_type": "execute_result"
    }
   ],
   "source": [
    "'howdy' not in spam"
   ]
  },
  {
   "cell_type": "code",
   "execution_count": 19,
   "metadata": {},
   "outputs": [
    {
     "data": {
      "text/plain": [
       "True"
      ]
     },
     "execution_count": 19,
     "metadata": {},
     "output_type": "execute_result"
    }
   ],
   "source": [
    "'cat' not in spamb"
   ]
  },
  {
   "cell_type": "markdown",
   "metadata": {},
   "source": [
    "Por ejemplo, el siguiente programa permite ingresar un nombre de mascota y luego buscarlo si existe en una lista de mascotas."
   ]
  },
  {
   "cell_type": "code",
   "execution_count": 20,
   "metadata": {},
   "outputs": [
    {
     "name": "stdout",
     "output_type": "stream",
     "text": [
      "Ingrese un nombre de mascota: \n",
      "Troski\n",
      "No tengo una mascota llamada Troski\n"
     ]
    }
   ],
   "source": [
    "misMascotas = ['Zophie', 'Pooka', 'Fat-tail']\n",
    "print('Ingrese un nombre de mascota: ')\n",
    "nombreMascota = input()\n",
    "if nombreMascota not in misMascotas:\n",
    "    print('No tengo una mascota llamada ' + nombreMascota)\n",
    "else:\n",
    "    print(nombreMascota + 'es mi mascota.')"
   ]
  },
  {
   "cell_type": "markdown",
   "metadata": {},
   "source": [
    "### Truco para asignación multiple"
   ]
  },
  {
   "cell_type": "markdown",
   "metadata": {},
   "source": [
    "El truco para la asignación múltiple es un atajo que nos permite asignar multiples variables con los valores de una lista de código. En lugar de hacer esto:"
   ]
  },
  {
   "cell_type": "code",
   "execution_count": 21,
   "metadata": {},
   "outputs": [],
   "source": [
    "gato = ['gordo', 'negro', 'gruñon']\n",
    "tamaño = gato[0]\n",
    "color = gato[1]\n",
    "temperamento = gato[2]"
   ]
  },
  {
   "cell_type": "markdown",
   "metadata": {},
   "source": [
    "podemos escribir esta línea de código"
   ]
  },
  {
   "cell_type": "code",
   "execution_count": 23,
   "metadata": {},
   "outputs": [],
   "source": [
    "gato = ['gordo', 'negro', 'gruñon']\n",
    "tamaño, color, temperamento = gato"
   ]
  },
  {
   "cell_type": "markdown",
   "metadata": {},
   "source": [
    "El número de variables y el tamaño de la lista deben ser exactamente igual o Python arrojará un error `ValueError`:"
   ]
  },
  {
   "cell_type": "code",
   "execution_count": 24,
   "metadata": {},
   "outputs": [
    {
     "ename": "ValueError",
     "evalue": "not enough values to unpack (expected 4, got 3)",
     "output_type": "error",
     "traceback": [
      "\u001b[0;31m---------------------------------------------------------------------------\u001b[0m",
      "\u001b[0;31mValueError\u001b[0m                                Traceback (most recent call last)",
      "\u001b[0;32m<ipython-input-24-0ecbed81b7db>\u001b[0m in \u001b[0;36m<module>\u001b[0;34m()\u001b[0m\n\u001b[1;32m      1\u001b[0m \u001b[0mgato\u001b[0m \u001b[0;34m=\u001b[0m \u001b[0;34m[\u001b[0m\u001b[0;34m'gordo'\u001b[0m\u001b[0;34m,\u001b[0m \u001b[0;34m'negro'\u001b[0m\u001b[0;34m,\u001b[0m \u001b[0;34m'gruñon'\u001b[0m\u001b[0;34m]\u001b[0m\u001b[0;34m\u001b[0m\u001b[0m\n\u001b[0;32m----> 2\u001b[0;31m \u001b[0mtamaño\u001b[0m\u001b[0;34m,\u001b[0m \u001b[0mcolor\u001b[0m\u001b[0;34m,\u001b[0m \u001b[0mtemperamento\u001b[0m\u001b[0;34m,\u001b[0m \u001b[0mnombre\u001b[0m \u001b[0;34m=\u001b[0m \u001b[0mgato\u001b[0m\u001b[0;34m\u001b[0m\u001b[0m\n\u001b[0m",
      "\u001b[0;31mValueError\u001b[0m: not enough values to unpack (expected 4, got 3)"
     ]
    }
   ],
   "source": [
    "gato = ['gordo', 'negro', 'gruñon']\n",
    "tamaño, color, temperamento, nombre = gato"
   ]
  },
  {
   "cell_type": "markdown",
   "metadata": {},
   "source": [
    "## Operadores de asignación compuesta"
   ]
  },
  {
   "cell_type": "markdown",
   "metadata": {},
   "source": [
    "Cuando asignamos un valor a una variable, frecuentemente se usa la variable misma.. Por ejemplo, después de asignar el valor `42` a la variable `spam`, normalmente, incrementamos el valor de `spam` en `1` mediante el siguiente código."
   ]
  },
  {
   "cell_type": "code",
   "execution_count": 1,
   "metadata": {},
   "outputs": [
    {
     "data": {
      "text/plain": [
       "43"
      ]
     },
     "execution_count": 1,
     "metadata": {},
     "output_type": "execute_result"
    }
   ],
   "source": [
    "spam = 42\n",
    "spam = spam + 1\n",
    "spam"
   ]
  },
  {
   "cell_type": "markdown",
   "metadata": {},
   "source": [
    "Una forma reducida y a manera de atajo es usar el operador de asignación compuesta `+=` para realizar la misma tarea."
   ]
  },
  {
   "cell_type": "code",
   "execution_count": 2,
   "metadata": {},
   "outputs": [
    {
     "data": {
      "text/plain": [
       "43"
      ]
     },
     "execution_count": 2,
     "metadata": {},
     "output_type": "execute_result"
    }
   ],
   "source": [
    "spam = 42\n",
    "spam += 1\n",
    "spam"
   ]
  },
  {
   "cell_type": "markdown",
   "metadata": {},
   "source": [
    "Existen operadores de asignación compuesta para los siguientes operadores `+`, `-`, `*`, `/` y `%`."
   ]
  },
  {
   "cell_type": "markdown",
   "metadata": {},
   "source": [
    "<img src=\"https://i.imgur.com/GoNdvXZ.png\" width=\"800\">"
   ]
  },
  {
   "cell_type": "markdown",
   "metadata": {},
   "source": [
    "El operador `+=` también puede realizar concatenación de listas y cadenas, de la misma manera, el operador `*=` puede realizar replicación de cadenas y listas."
   ]
  },
  {
   "cell_type": "code",
   "execution_count": 3,
   "metadata": {},
   "outputs": [
    {
     "data": {
      "text/plain": [
       "'Hello world'"
      ]
     },
     "execution_count": 3,
     "metadata": {},
     "output_type": "execute_result"
    }
   ],
   "source": [
    "spam = 'Hello'\n",
    "spam += ' world'\n",
    "spam"
   ]
  },
  {
   "cell_type": "code",
   "execution_count": 4,
   "metadata": {},
   "outputs": [
    {
     "data": {
      "text/plain": [
       "['Zophie', 'Zophie', 'Zophie']"
      ]
     },
     "execution_count": 4,
     "metadata": {},
     "output_type": "execute_result"
    }
   ],
   "source": [
    "bacon = ['Zophie']\n",
    "bacon *= 3\n",
    "bacon"
   ]
  },
  {
   "cell_type": "markdown",
   "metadata": {},
   "source": [
    "## Métodos"
   ]
  },
  {
   "cell_type": "markdown",
   "metadata": {},
   "source": [
    "Un método es lo mismo que una función, excepto que se llama sobre un valor. Por ejemplo, si un valor de una lista es almacenado en `spam`, llamaríamos el método `index()` perteneciente al objeto lista de la siguiente manera `spam.index(‘hello’)`. En el estamento anterior, la parte correspondiente al método viene después del identificador de la lista, separado por un punto `.`"
   ]
  },
  {
   "cell_type": "markdown",
   "metadata": {},
   "source": [
    "Cada tipo de dato tiene sus propios métodos. El tipo de datos `list` tiene varios métodos muy útiles para sumar, remover y manipular valores dentro de una lista."
   ]
  },
  {
   "cell_type": "markdown",
   "metadata": {},
   "source": [
    "### Encontrando un valor en una lista mediante el método `index()`"
   ]
  },
  {
   "cell_type": "markdown",
   "metadata": {},
   "source": [
    "Las listas tienen un método `index()` al que se le puede pasar un valor, si ese valor no existe en la lista, Python produce un error `ValueError`. Veamos el siguiente ejemplo:"
   ]
  },
  {
   "cell_type": "code",
   "execution_count": 5,
   "metadata": {},
   "outputs": [
    {
     "data": {
      "text/plain": [
       "0"
      ]
     },
     "execution_count": 5,
     "metadata": {},
     "output_type": "execute_result"
    }
   ],
   "source": [
    "spam = ['hello', 'hi', 'howdy', 'heyas']\n",
    "spam.index('hello')"
   ]
  },
  {
   "cell_type": "code",
   "execution_count": 6,
   "metadata": {},
   "outputs": [
    {
     "data": {
      "text/plain": [
       "3"
      ]
     },
     "execution_count": 6,
     "metadata": {},
     "output_type": "execute_result"
    }
   ],
   "source": [
    "spam.index('heyas')"
   ]
  },
  {
   "cell_type": "code",
   "execution_count": 7,
   "metadata": {},
   "outputs": [
    {
     "ename": "ValueError",
     "evalue": "'howdy howdy howdy' is not in list",
     "output_type": "error",
     "traceback": [
      "\u001b[0;31m---------------------------------------------------------------------------\u001b[0m",
      "\u001b[0;31mValueError\u001b[0m                                Traceback (most recent call last)",
      "\u001b[0;32m<ipython-input-7-aa717b951a7e>\u001b[0m in \u001b[0;36m<module>\u001b[0;34m()\u001b[0m\n\u001b[0;32m----> 1\u001b[0;31m \u001b[0mspam\u001b[0m\u001b[0;34m.\u001b[0m\u001b[0mindex\u001b[0m\u001b[0;34m(\u001b[0m\u001b[0;34m'howdy howdy howdy'\u001b[0m\u001b[0;34m)\u001b[0m\u001b[0;34m\u001b[0m\u001b[0m\n\u001b[0m",
      "\u001b[0;31mValueError\u001b[0m: 'howdy howdy howdy' is not in list"
     ]
    }
   ],
   "source": [
    "spam.index('howdy howdy howdy')"
   ]
  },
  {
   "cell_type": "markdown",
   "metadata": {},
   "source": [
    "Cuando hay elementos duplicados en una lista, el valor que retorna el método `index()` es el índice del primero que encuentra. Obsérvese que en el siguiente ejemplo, el valor retornado es `1` y no `3`."
   ]
  },
  {
   "cell_type": "code",
   "execution_count": 8,
   "metadata": {},
   "outputs": [
    {
     "data": {
      "text/plain": [
       "1"
      ]
     },
     "execution_count": 8,
     "metadata": {},
     "output_type": "execute_result"
    }
   ],
   "source": [
    "spam = ['Zophie', 'Pooka', 'Fat-tail', 'Pooka']\n",
    "spam.index('Pooka')"
   ]
  },
  {
   "cell_type": "markdown",
   "metadata": {},
   "source": [
    "### Agregando valores a una lista usando los métodos `append()` e `insert()`"
   ]
  },
  {
   "cell_type": "markdown",
   "metadata": {},
   "source": [
    "Con el propósito de agregar valores nuevos a una lista, se pueden usar los métodos `append()` e`insert()`. Ingresemos el siguiente código en el shell interactivo y veamos qué pasa."
   ]
  },
  {
   "cell_type": "code",
   "execution_count": 9,
   "metadata": {},
   "outputs": [
    {
     "data": {
      "text/plain": [
       "['cat', 'dog', 'bat', 'moose']"
      ]
     },
     "execution_count": 9,
     "metadata": {},
     "output_type": "execute_result"
    }
   ],
   "source": [
    "spam = ['cat', 'dog', 'bat']\n",
    "spam.append('moose')\n",
    "spam"
   ]
  },
  {
   "cell_type": "markdown",
   "metadata": {},
   "source": [
    "En el ejemplo anterior, el llamado al método `append()`, agrega el argumento al final de la lista. Por otro lado, el método `insert()`, inserta un valor en cualquier índice de la lista. El primer argumento de `insert()` es el índice del nuevo valor y el segundo argumento, es el valor en sí ha ser ingresado."
   ]
  },
  {
   "cell_type": "code",
   "execution_count": 10,
   "metadata": {},
   "outputs": [
    {
     "data": {
      "text/plain": [
       "['cat', 'chicken', 'dog', 'bat']"
      ]
     },
     "execution_count": 10,
     "metadata": {},
     "output_type": "execute_result"
    }
   ],
   "source": [
    "spam = ['cat', 'dog', 'bat']\n",
    "spam.insert(1, 'chicken')\n",
    "spam"
   ]
  },
  {
   "cell_type": "markdown",
   "metadata": {},
   "source": [
    "Nótese que en los ejemplos pasados (`spam.append('moose')` y `pam = spam.insert(1, 'chicken')`) ninguno de los dos métodos retorna un valor, de hecho el valor de retorno de éstos es `None`. En su lugar, la lista es modificada *en su lugar*. Los métodos pertenecen a un tipo de dato determinado. Los métodos `append()` y `insert()` son métodos de las listas y sólo pueden ser llamados para valores de lista y no en cadenas o enteros. Ingresemos el siguiente código en el shell interactivo y veamos el mensaje de error `AttributeError`"
   ]
  },
  {
   "cell_type": "code",
   "execution_count": 11,
   "metadata": {},
   "outputs": [
    {
     "ename": "AttributeError",
     "evalue": "'str' object has no attribute 'append'",
     "output_type": "error",
     "traceback": [
      "\u001b[0;31m---------------------------------------------------------------------------\u001b[0m",
      "\u001b[0;31mAttributeError\u001b[0m                            Traceback (most recent call last)",
      "\u001b[0;32m<ipython-input-11-af5409b233e2>\u001b[0m in \u001b[0;36m<module>\u001b[0;34m()\u001b[0m\n\u001b[1;32m      1\u001b[0m \u001b[0meggs\u001b[0m \u001b[0;34m=\u001b[0m \u001b[0;34m'hello'\u001b[0m\u001b[0;34m\u001b[0m\u001b[0m\n\u001b[0;32m----> 2\u001b[0;31m \u001b[0meggs\u001b[0m\u001b[0;34m.\u001b[0m\u001b[0mappend\u001b[0m\u001b[0;34m(\u001b[0m\u001b[0;34m' world'\u001b[0m\u001b[0;34m)\u001b[0m\u001b[0;34m\u001b[0m\u001b[0m\n\u001b[0m",
      "\u001b[0;31mAttributeError\u001b[0m: 'str' object has no attribute 'append'"
     ]
    }
   ],
   "source": [
    "eggs = 'hello'\n",
    "eggs.append(' world')"
   ]
  },
  {
   "cell_type": "code",
   "execution_count": 12,
   "metadata": {},
   "outputs": [
    {
     "ename": "AttributeError",
     "evalue": "'int' object has no attribute 'insert'",
     "output_type": "error",
     "traceback": [
      "\u001b[0;31m---------------------------------------------------------------------------\u001b[0m",
      "\u001b[0;31mAttributeError\u001b[0m                            Traceback (most recent call last)",
      "\u001b[0;32m<ipython-input-12-d48d36e80f90>\u001b[0m in \u001b[0;36m<module>\u001b[0;34m()\u001b[0m\n\u001b[1;32m      1\u001b[0m \u001b[0mbacon\u001b[0m \u001b[0;34m=\u001b[0m \u001b[0;36m42\u001b[0m\u001b[0;34m\u001b[0m\u001b[0m\n\u001b[0;32m----> 2\u001b[0;31m \u001b[0mbacon\u001b[0m\u001b[0;34m.\u001b[0m\u001b[0minsert\u001b[0m\u001b[0;34m(\u001b[0m\u001b[0;36m1\u001b[0m\u001b[0;34m,\u001b[0m \u001b[0;34m'world'\u001b[0m\u001b[0;34m)\u001b[0m\u001b[0;34m\u001b[0m\u001b[0m\n\u001b[0m",
      "\u001b[0;31mAttributeError\u001b[0m: 'int' object has no attribute 'insert'"
     ]
    }
   ],
   "source": [
    "bacon = 42\n",
    "bacon.insert(1, 'world')"
   ]
  },
  {
   "cell_type": "markdown",
   "metadata": {},
   "source": [
    "### Removiendo valores de listas usando el método `remove()`"
   ]
  },
  {
   "cell_type": "markdown",
   "metadata": {},
   "source": [
    "Al método `remove()` se le pasa el valor a ser removido de la lista donde se llamó:"
   ]
  },
  {
   "cell_type": "code",
   "execution_count": 13,
   "metadata": {},
   "outputs": [
    {
     "data": {
      "text/plain": [
       "['cat', 'rat', 'elephant']"
      ]
     },
     "execution_count": 13,
     "metadata": {},
     "output_type": "execute_result"
    }
   ],
   "source": [
    "spam = ['cat', 'bat', 'rat', 'elephant']\n",
    "spam.remove('bat')\n",
    "spam"
   ]
  },
  {
   "cell_type": "markdown",
   "metadata": {},
   "source": [
    "Intentar borrar un valor que no existe dentro de la lista resulta en un error `ValueError`. Por ejemplo, ingresemos el siguiente código en el shell interactivo y observemos el error mostrado."
   ]
  },
  {
   "cell_type": "code",
   "execution_count": 14,
   "metadata": {},
   "outputs": [
    {
     "ename": "ValueError",
     "evalue": "list.remove(x): x not in list",
     "output_type": "error",
     "traceback": [
      "\u001b[0;31m---------------------------------------------------------------------------\u001b[0m",
      "\u001b[0;31mValueError\u001b[0m                                Traceback (most recent call last)",
      "\u001b[0;32m<ipython-input-14-618c1979cd80>\u001b[0m in \u001b[0;36m<module>\u001b[0;34m()\u001b[0m\n\u001b[1;32m      1\u001b[0m \u001b[0mspam\u001b[0m \u001b[0;34m=\u001b[0m \u001b[0;34m[\u001b[0m\u001b[0;34m'cat'\u001b[0m\u001b[0;34m,\u001b[0m \u001b[0;34m'bat'\u001b[0m\u001b[0;34m,\u001b[0m \u001b[0;34m'rat'\u001b[0m\u001b[0;34m,\u001b[0m \u001b[0;34m'elephant'\u001b[0m\u001b[0;34m]\u001b[0m\u001b[0;34m\u001b[0m\u001b[0m\n\u001b[0;32m----> 2\u001b[0;31m \u001b[0mspam\u001b[0m\u001b[0;34m.\u001b[0m\u001b[0mremove\u001b[0m\u001b[0;34m(\u001b[0m\u001b[0;34m'chicken'\u001b[0m\u001b[0;34m)\u001b[0m\u001b[0;34m\u001b[0m\u001b[0m\n\u001b[0m",
      "\u001b[0;31mValueError\u001b[0m: list.remove(x): x not in list"
     ]
    }
   ],
   "source": [
    "spam = ['cat', 'bat', 'rat', 'elephant']\n",
    "spam.remove('chicken')"
   ]
  },
  {
   "cell_type": "markdown",
   "metadata": {},
   "source": [
    "Si el valor no aparece en la lista, sólo el primer valor que aparece es eliminado:"
   ]
  },
  {
   "cell_type": "code",
   "execution_count": 16,
   "metadata": {},
   "outputs": [
    {
     "data": {
      "text/plain": [
       "['bat', 'rat', 'cat', 'hat', 'cat']"
      ]
     },
     "execution_count": 16,
     "metadata": {},
     "output_type": "execute_result"
    }
   ],
   "source": [
    "spam = ['cat', 'bat', 'rat', 'cat', 'hat', 'cat']\n",
    "spam.remove('cat')\n",
    "spam"
   ]
  },
  {
   "cell_type": "markdown",
   "metadata": {},
   "source": [
    "El estamento `del` es útil cuando se conoce el índice del valor que se quiere eliminar, el método `remove()` es útil cuando se conoce el valor a eliminar."
   ]
  },
  {
   "cell_type": "markdown",
   "metadata": {},
   "source": [
    "### Organizando valores en una lista usando el método `sort()`"
   ]
  },
  {
   "cell_type": "markdown",
   "metadata": {},
   "source": [
    "Las listas de números o las listas de cadenas pueden ser organizadas con el método `sort()`. Por ejemplo:"
   ]
  },
  {
   "cell_type": "code",
   "execution_count": 17,
   "metadata": {},
   "outputs": [
    {
     "data": {
      "text/plain": [
       "[-7, 1, 2, 3.14, 5]"
      ]
     },
     "execution_count": 17,
     "metadata": {},
     "output_type": "execute_result"
    }
   ],
   "source": [
    "spam = [2, 5, 3.14, 1, -7]\n",
    "spam.sort()\n",
    "spam"
   ]
  },
  {
   "cell_type": "code",
   "execution_count": 18,
   "metadata": {},
   "outputs": [
    {
     "data": {
      "text/plain": [
       "['ants', 'badgers', 'cats', 'dogs', 'elephants']"
      ]
     },
     "execution_count": 18,
     "metadata": {},
     "output_type": "execute_result"
    }
   ],
   "source": [
    "spam = ['ants', 'cats', 'dogs', 'badgers', 'elephants']\n",
    "spam.sort()\n",
    "spam"
   ]
  },
  {
   "cell_type": "markdown",
   "metadata": {},
   "source": [
    "Existen tres cosas que debemos saber sobre el método `sort()`. La primera es que `sort` modifica la lista *en su lugar*; por eso no debemos almacenar su valor de retorno escribiendo código así `spam = spam.sort()`. "
   ]
  },
  {
   "cell_type": "markdown",
   "metadata": {},
   "source": [
    "Lo segundo es que no se pueden organizar listas que contengan valores numéricos y cadenas simultáneamente; esto se debe a que Pyhton no sabe cómo comparar estos valores entre ellos. Escribamos el siguiente código y observemos el error que produce."
   ]
  },
  {
   "cell_type": "code",
   "execution_count": 19,
   "metadata": {},
   "outputs": [
    {
     "ename": "TypeError",
     "evalue": "'<' not supported between instances of 'str' and 'int'",
     "output_type": "error",
     "traceback": [
      "\u001b[0;31m---------------------------------------------------------------------------\u001b[0m",
      "\u001b[0;31mTypeError\u001b[0m                                 Traceback (most recent call last)",
      "\u001b[0;32m<ipython-input-19-c8acbeae1737>\u001b[0m in \u001b[0;36m<module>\u001b[0;34m()\u001b[0m\n\u001b[1;32m      1\u001b[0m \u001b[0mspam\u001b[0m \u001b[0;34m=\u001b[0m \u001b[0;34m[\u001b[0m\u001b[0;36m1\u001b[0m\u001b[0;34m,\u001b[0m \u001b[0;36m3\u001b[0m\u001b[0;34m,\u001b[0m \u001b[0;36m2\u001b[0m\u001b[0;34m,\u001b[0m \u001b[0;36m4\u001b[0m\u001b[0;34m,\u001b[0m \u001b[0;34m'Alice'\u001b[0m\u001b[0;34m,\u001b[0m \u001b[0;34m'Bob'\u001b[0m\u001b[0;34m]\u001b[0m\u001b[0;34m\u001b[0m\u001b[0m\n\u001b[0;32m----> 2\u001b[0;31m \u001b[0mspam\u001b[0m\u001b[0;34m.\u001b[0m\u001b[0msort\u001b[0m\u001b[0;34m(\u001b[0m\u001b[0;34m)\u001b[0m\u001b[0;34m\u001b[0m\u001b[0m\n\u001b[0m",
      "\u001b[0;31mTypeError\u001b[0m: '<' not supported between instances of 'str' and 'int'"
     ]
    }
   ],
   "source": [
    "spam = [1, 3, 2, 4, 'Alice', 'Bob']\n",
    "spam.sort()"
   ]
  },
  {
   "cell_type": "markdown",
   "metadata": {},
   "source": [
    "Tercero, `sort()` ordena por código ASCII las cadenas en lugar de orden alfabético. Esto significa que las letras mayúsculas vienen primero que las letras minúsculas. En consecuencia, la letra minúscula `a` viene después de la letra mayúscula `Z`. Veamos un ejemplo:"
   ]
  },
  {
   "cell_type": "code",
   "execution_count": 20,
   "metadata": {},
   "outputs": [
    {
     "data": {
      "text/plain": [
       "['Alice', 'Bob', 'Carol', 'ants', 'badgers', 'cats']"
      ]
     },
     "execution_count": 20,
     "metadata": {},
     "output_type": "execute_result"
    }
   ],
   "source": [
    "spam = ['Alice', 'ants', 'Bob', 'badgers', 'Carol', 'cats']\n",
    "spam.sort()\n",
    "spam"
   ]
  },
  {
   "cell_type": "markdown",
   "metadata": {},
   "source": [
    "Si necesitamos organizar los valores alfabéticamente, debemos pasar `str.lower` como argumento de la palabra clave `key` en el llamado a `sort()`."
   ]
  },
  {
   "cell_type": "code",
   "execution_count": 21,
   "metadata": {},
   "outputs": [
    {
     "data": {
      "text/plain": [
       "['a', 'A', 'z', 'Z']"
      ]
     },
     "execution_count": 21,
     "metadata": {},
     "output_type": "execute_result"
    }
   ],
   "source": [
    "spam = ['a', 'z', 'A', 'Z']\n",
    "spam.sort(key=str.lower)\n",
    "spam"
   ]
  },
  {
   "cell_type": "markdown",
   "metadata": {},
   "source": [
    "Esto produce que la función `sort()` tome todos los elementos de la lista como si estuviesen en minúscula sin alterar su valor."
   ]
  },
  {
   "cell_type": "markdown",
   "metadata": {},
   "source": [
    "## Programa de ejemplo: Bola mágica 8 con listas"
   ]
  },
  {
   "cell_type": "markdown",
   "metadata": {},
   "source": [
    "Usando listas podemos implementar una versión más elegante del programa de la unidad pasada Bola Mágica 8. En lugar de varias líneas de casi idénticos estamentos `elif`, podemos crear una única lista donde estableceremos las respuestas."
   ]
  },
  {
   "cell_type": "code",
   "execution_count": 22,
   "metadata": {},
   "outputs": [
    {
     "name": "stdout",
     "output_type": "stream",
     "text": [
      "Concentrate and ask again\n"
     ]
    }
   ],
   "source": [
    "import random\n",
    "\n",
    "messages = ['It is certain',\n",
    "    'It is decidedly so',\n",
    "    'Yes definitely',\n",
    "    'Reply hazy try again',\n",
    "    'Ask again later',\n",
    "    'Concentrate and ask again',\n",
    "    'My reply is no',\n",
    "    'Outlook not so good',\n",
    "    'Very doubtful']\n",
    "\n",
    "print(messages[random.randint(0, len(messages) -1)])"
   ]
  },
  {
   "cell_type": "markdown",
   "metadata": {},
   "source": [
    "Cuando corremos este programa obtenemos una salida igual al programa de la unidad pasada. Nótese la expresión usada como índice para la lista `messages`: `random.randint(0, len(messages) - 1)` Esta expresión produce un número entero aleatorio sin importarnos el tamaño de la lista (pero dentro del rango de valores que pueden tomar sus índices). La ventaja de usar este acercamiento es que podemos agregar o quitar valores a la lista `messages` sin modificar otras líneas de código, esto se traduce en menor cantidad de errores y la facilidad para su corrección."
   ]
  },
  {
   "cell_type": "markdown",
   "metadata": {},
   "source": [
    "## Tipos de datos semejantes a las listas: Strings y Tuplas"
   ]
  },
  {
   "cell_type": "markdown",
   "metadata": {},
   "source": [
    "Las listas no son los únicos tipos de datos que representan secuencias ordenadas de valores. Por ejemplo, las cadenas son semejantes a las listas si las consideramos como listas donde cada caracter es un elemento de la lista."
   ]
  },
  {
   "cell_type": "markdown",
   "metadata": {},
   "source": [
    "Muchas de las cosas que hacemos con las listas se pueden hacer con las cadenas: indexado, rebanadas, usarlas con ciclos `for` , con `len()` y con los operadores `in` y `not in`. Veamos algunos ejemplos:"
   ]
  },
  {
   "cell_type": "code",
   "execution_count": 23,
   "metadata": {},
   "outputs": [
    {
     "data": {
      "text/plain": [
       "'Z'"
      ]
     },
     "execution_count": 23,
     "metadata": {},
     "output_type": "execute_result"
    }
   ],
   "source": [
    "name = 'Zophie'\n",
    "name[0]"
   ]
  },
  {
   "cell_type": "code",
   "execution_count": 24,
   "metadata": {},
   "outputs": [
    {
     "data": {
      "text/plain": [
       "'i'"
      ]
     },
     "execution_count": 24,
     "metadata": {},
     "output_type": "execute_result"
    }
   ],
   "source": [
    "name[-2]"
   ]
  },
  {
   "cell_type": "code",
   "execution_count": 25,
   "metadata": {},
   "outputs": [
    {
     "data": {
      "text/plain": [
       "'Zoph'"
      ]
     },
     "execution_count": 25,
     "metadata": {},
     "output_type": "execute_result"
    }
   ],
   "source": [
    "name[0:4]"
   ]
  },
  {
   "cell_type": "code",
   "execution_count": 26,
   "metadata": {},
   "outputs": [
    {
     "data": {
      "text/plain": [
       "True"
      ]
     },
     "execution_count": 26,
     "metadata": {},
     "output_type": "execute_result"
    }
   ],
   "source": [
    "'Zo' in name"
   ]
  },
  {
   "cell_type": "code",
   "execution_count": 27,
   "metadata": {},
   "outputs": [
    {
     "data": {
      "text/plain": [
       "False"
      ]
     },
     "execution_count": 27,
     "metadata": {},
     "output_type": "execute_result"
    }
   ],
   "source": [
    "'z' in name"
   ]
  },
  {
   "cell_type": "code",
   "execution_count": 28,
   "metadata": {},
   "outputs": [
    {
     "data": {
      "text/plain": [
       "False"
      ]
     },
     "execution_count": 28,
     "metadata": {},
     "output_type": "execute_result"
    }
   ],
   "source": [
    "'p' not in name"
   ]
  },
  {
   "cell_type": "code",
   "execution_count": 29,
   "metadata": {},
   "outputs": [
    {
     "name": "stdout",
     "output_type": "stream",
     "text": [
      "***Z***\n",
      "***o***\n",
      "***p***\n",
      "***h***\n",
      "***i***\n",
      "***e***\n"
     ]
    }
   ],
   "source": [
    "for i in name:\n",
    "    print('***' + i + '***')"
   ]
  },
  {
   "cell_type": "markdown",
   "metadata": {},
   "source": [
    "### Tipos de datos mutables e inmutables"
   ]
  },
  {
   "cell_type": "markdown",
   "metadata": {},
   "source": [
    "Sin embargo, entre las cadenas y las listas existe una gran diferencia. Los tipos de dato de las listas son *mutables* es decir, se pueden agregar valores, eliminar o cambiar. Por otro lado, las cadenas son *inmutables*: no pueden ser cambiadas. Tratar de reasignar un valor dentro de una cadena produce un error `TypeError` como se aprecia a continuación."
   ]
  },
  {
   "cell_type": "code",
   "execution_count": 30,
   "metadata": {},
   "outputs": [
    {
     "ename": "TypeError",
     "evalue": "'str' object does not support item assignment",
     "output_type": "error",
     "traceback": [
      "\u001b[0;31m---------------------------------------------------------------------------\u001b[0m",
      "\u001b[0;31mTypeError\u001b[0m                                 Traceback (most recent call last)",
      "\u001b[0;32m<ipython-input-30-089de5a94ffe>\u001b[0m in \u001b[0;36m<module>\u001b[0;34m()\u001b[0m\n\u001b[1;32m      1\u001b[0m \u001b[0mname\u001b[0m \u001b[0;34m=\u001b[0m \u001b[0;34m'Zophie a cat'\u001b[0m\u001b[0;34m\u001b[0m\u001b[0m\n\u001b[0;32m----> 2\u001b[0;31m \u001b[0mname\u001b[0m\u001b[0;34m[\u001b[0m\u001b[0;36m7\u001b[0m\u001b[0;34m]\u001b[0m \u001b[0;34m=\u001b[0m \u001b[0;34m'the'\u001b[0m\u001b[0;34m\u001b[0m\u001b[0m\n\u001b[0m",
      "\u001b[0;31mTypeError\u001b[0m: 'str' object does not support item assignment"
     ]
    }
   ],
   "source": [
    "name = 'Zophie a cat'\n",
    "name[7] = 'the'"
   ]
  },
  {
   "cell_type": "markdown",
   "metadata": {},
   "source": [
    "La manera apropiada de mutar una cadena es usar rebanadas o concatenación para construir una nueva cadena creada copiando partes de la cadena antigua. "
   ]
  },
  {
   "cell_type": "code",
   "execution_count": 31,
   "metadata": {},
   "outputs": [
    {
     "data": {
      "text/plain": [
       "'Zophie a cat'"
      ]
     },
     "execution_count": 31,
     "metadata": {},
     "output_type": "execute_result"
    }
   ],
   "source": [
    "name = 'Zophie a cat'\n",
    "newName = name[0:7] + 'the' + name[8:12]\n",
    "name"
   ]
  },
  {
   "cell_type": "code",
   "execution_count": 32,
   "metadata": {},
   "outputs": [
    {
     "data": {
      "text/plain": [
       "'Zophie the cat'"
      ]
     },
     "execution_count": 32,
     "metadata": {},
     "output_type": "execute_result"
    }
   ],
   "source": [
    "newName"
   ]
  },
  {
   "cell_type": "markdown",
   "metadata": {},
   "source": [
    "Aunque los valores de las listas son modificables, la segunda línea del siguiente código, no modifica la lista `eggs`"
   ]
  },
  {
   "cell_type": "code",
   "execution_count": 33,
   "metadata": {},
   "outputs": [
    {
     "data": {
      "text/plain": [
       "[4, 5, 6]"
      ]
     },
     "execution_count": 33,
     "metadata": {},
     "output_type": "execute_result"
    }
   ],
   "source": [
    "eggs = [1, 2, 3]\n",
    "eggs = [4, 5, 6]\n",
    "eggs"
   ]
  },
  {
   "cell_type": "markdown",
   "metadata": {},
   "source": [
    "<img src=\"https://i.imgur.com/k4y99Vr.jpg\" width=\"600\">"
   ]
  },
  {
   "cell_type": "markdown",
   "metadata": {},
   "source": [
    "En el ejemplo anterior, los valores de la lista no son cambiados, en su lugar, un valor completamente nuevo y diferente es sobreescrito en el valor antiguo. Si deseamos modificar la lista original `eggs` para que almacene los valores `[4, 5, 6]`, tendríamos que hacer algo así:"
   ]
  },
  {
   "cell_type": "code",
   "execution_count": 5,
   "metadata": {},
   "outputs": [
    {
     "data": {
      "text/plain": [
       "[]"
      ]
     },
     "execution_count": 5,
     "metadata": {},
     "output_type": "execute_result"
    }
   ],
   "source": [
    "eggs = [1, 2, 3]\n",
    "del eggs[2]\n",
    "del eggs[1]\n",
    "del eggs[0]\n",
    "eggs"
   ]
  },
  {
   "cell_type": "code",
   "execution_count": 6,
   "metadata": {},
   "outputs": [
    {
     "data": {
      "text/plain": [
       "[4, 5, 6]"
      ]
     },
     "execution_count": 6,
     "metadata": {},
     "output_type": "execute_result"
    }
   ],
   "source": [
    "eggs.append(4)\n",
    "eggs.append(5)\n",
    "eggs.append(6)\n",
    "eggs"
   ]
  },
  {
   "cell_type": "markdown",
   "metadata": {},
   "source": [
    "En la siguiente figura se puede apreciar los cambios que se efectúan sobre `eggs` para modificar su valor inicial. Gracias a que `del()` y `append()` modifican la cadena *en su lugar*, no se realiza un proceso de sobreescritura."
   ]
  },
  {
   "cell_type": "markdown",
   "metadata": {},
   "source": [
    "<img src=\"https://i.imgur.com/jF8909t.jpg\" width=\"600\">"
   ]
  },
  {
   "cell_type": "markdown",
   "metadata": {},
   "source": [
    "### El tipo de dato tupla (`tuple`)"
   ]
  },
  {
   "cell_type": "markdown",
   "metadata": {},
   "source": [
    "El tipo de dato tupla (`tuple`) es casi idéntico al tipo de dato `list`, solo se diferencias en dos cosas, la primera es que las tuplas se escriben en paréntesis `()` en lugar de corchetes `[]`. Veamos el siguiente ejemplo:"
   ]
  },
  {
   "cell_type": "code",
   "execution_count": 7,
   "metadata": {},
   "outputs": [
    {
     "data": {
      "text/plain": [
       "'hello'"
      ]
     },
     "execution_count": 7,
     "metadata": {},
     "output_type": "execute_result"
    }
   ],
   "source": [
    "eggs = ('hello', 42, 0.5)\n",
    "eggs[0]"
   ]
  },
  {
   "cell_type": "code",
   "execution_count": 8,
   "metadata": {},
   "outputs": [
    {
     "data": {
      "text/plain": [
       "(42, 0.5)"
      ]
     },
     "execution_count": 8,
     "metadata": {},
     "output_type": "execute_result"
    }
   ],
   "source": [
    "eggs[1:3]"
   ]
  },
  {
   "cell_type": "code",
   "execution_count": 9,
   "metadata": {},
   "outputs": [
    {
     "data": {
      "text/plain": [
       "3"
      ]
     },
     "execution_count": 9,
     "metadata": {},
     "output_type": "execute_result"
    }
   ],
   "source": [
    "len(eggs)"
   ]
  },
  {
   "cell_type": "markdown",
   "metadata": {},
   "source": [
    "Pero la principal diferencia entre las listas y las tuplas es que, como las cadenas, son inmutables. No se pueden modificar los valores de las tuplas. Veamos el error que produce el siguiente código."
   ]
  },
  {
   "cell_type": "code",
   "execution_count": 10,
   "metadata": {},
   "outputs": [
    {
     "ename": "TypeError",
     "evalue": "'tuple' object does not support item assignment",
     "output_type": "error",
     "traceback": [
      "\u001b[0;31m---------------------------------------------------------------------------\u001b[0m",
      "\u001b[0;31mTypeError\u001b[0m                                 Traceback (most recent call last)",
      "\u001b[0;32m<ipython-input-10-63fbe7c1f507>\u001b[0m in \u001b[0;36m<module>\u001b[0;34m()\u001b[0m\n\u001b[1;32m      1\u001b[0m \u001b[0meggs\u001b[0m \u001b[0;34m=\u001b[0m \u001b[0;34m(\u001b[0m\u001b[0;34m'hello'\u001b[0m\u001b[0;34m,\u001b[0m \u001b[0;36m42\u001b[0m\u001b[0;34m,\u001b[0m \u001b[0;36m0.5\u001b[0m\u001b[0;34m)\u001b[0m\u001b[0;34m\u001b[0m\u001b[0m\n\u001b[0;32m----> 2\u001b[0;31m \u001b[0meggs\u001b[0m\u001b[0;34m[\u001b[0m\u001b[0;36m1\u001b[0m\u001b[0;34m]\u001b[0m \u001b[0;34m=\u001b[0m \u001b[0;36m99\u001b[0m\u001b[0;34m\u001b[0m\u001b[0m\n\u001b[0m",
      "\u001b[0;31mTypeError\u001b[0m: 'tuple' object does not support item assignment"
     ]
    }
   ],
   "source": [
    "eggs = ('hello', 42, 0.5)\n",
    "eggs[1] = 99"
   ]
  },
  {
   "cell_type": "markdown",
   "metadata": {},
   "source": [
    "Por otro lado, si tenemos sólo un valor en nuestra tupla, lo podemos indicar poniendo una coma final(`,`) después del valor dentro de paréntesis. De lo contrario, Python pensará que simplemente escribimos un valor cualquiera entre paréntesis. La coma le hace saber a Python que se trata de un valor tipo `tuple`. A diferencia de otros lenguajes de programación, Python no tiene problemas con las comas finales después del último elemento de una tupla."
   ]
  },
  {
   "cell_type": "code",
   "execution_count": 11,
   "metadata": {},
   "outputs": [
    {
     "data": {
      "text/plain": [
       "tuple"
      ]
     },
     "execution_count": 11,
     "metadata": {},
     "output_type": "execute_result"
    }
   ],
   "source": [
    "type(('hello',))"
   ]
  },
  {
   "cell_type": "code",
   "execution_count": 12,
   "metadata": {},
   "outputs": [
    {
     "data": {
      "text/plain": [
       "str"
      ]
     },
     "execution_count": 12,
     "metadata": {},
     "output_type": "execute_result"
    }
   ],
   "source": [
    "type(('hello'))"
   ]
  },
  {
   "cell_type": "markdown",
   "metadata": {},
   "source": [
    "Podemos usar las tuplas para indicarle a cualquiera que esté leyendo nuestro código que no queremos que cambie el valor de determinada secuencia de datos. Un beneficio adicional de usar tuplas en lugar de listas es que, dada la naturaleza inmutable de éstas, Python implementa optimizaciones que hacen que el código usado para las tuplas sea más rápido."
   ]
  },
  {
   "cell_type": "markdown",
   "metadata": {},
   "source": [
    "## Referencias"
   ]
  },
  {
   "cell_type": "markdown",
   "metadata": {},
   "source": [
    "Como hemos visto hasta ahora, las variables almacenan cadenas o valores numéricos:"
   ]
  },
  {
   "cell_type": "code",
   "execution_count": 14,
   "metadata": {},
   "outputs": [
    {
     "data": {
      "text/plain": [
       "100"
      ]
     },
     "execution_count": 14,
     "metadata": {},
     "output_type": "execute_result"
    }
   ],
   "source": [
    "spam = 42\n",
    "cheese = spam\n",
    "spam = 100\n",
    "spam"
   ]
  },
  {
   "cell_type": "code",
   "execution_count": 15,
   "metadata": {},
   "outputs": [
    {
     "data": {
      "text/plain": [
       "42"
      ]
     },
     "execution_count": 15,
     "metadata": {},
     "output_type": "execute_result"
    }
   ],
   "source": [
    "cheese"
   ]
  },
  {
   "cell_type": "markdown",
   "metadata": {},
   "source": [
    "En el ejemplo anterior anterior asignamos `42` a la variable `spam` y a su vez, la asignamos a la variable `cheese`. Cuando posteriormente cambiamos el valor de `spam` a `100`, no se afecta el valor almacenado en `cheese`. Esto se debe a que `spam` y `cheese` son variables diferentes que almacenan valores diferentes."
   ]
  },
  {
   "cell_type": "markdown",
   "metadata": {},
   "source": [
    "Sin embargo, esto no aplica a las listas. Cuando asignamos una lista a una variable, realmente lo que hacemos es asignar una *referencia* a dicha variable. Una referencia es un valor que apunta un espacio de memoria y una referencia de lista es un valor que apunta a una lista. Veamos un fragmento de código que nos permita entender mejor este concepto."
   ]
  },
  {
   "cell_type": "code",
   "execution_count": 16,
   "metadata": {},
   "outputs": [
    {
     "data": {
      "text/plain": [
       "[0, 'Hello!', 2, 3, 4, 5]"
      ]
     },
     "execution_count": 16,
     "metadata": {},
     "output_type": "execute_result"
    }
   ],
   "source": [
    "spam = [0, 1, 2, 3, 4, 5]\n",
    "cheese = spam\n",
    "cheese[1] = 'Hello!'\n",
    "spam"
   ]
  },
  {
   "cell_type": "code",
   "execution_count": 17,
   "metadata": {},
   "outputs": [
    {
     "data": {
      "text/plain": [
       "[0, 'Hello!', 2, 3, 4, 5]"
      ]
     },
     "execution_count": 17,
     "metadata": {},
     "output_type": "execute_result"
    }
   ],
   "source": [
    "cheese"
   ]
  },
  {
   "cell_type": "markdown",
   "metadata": {},
   "source": [
    "Esto podría parecernos raro, ya que sólo cambiamos el valor de la lista `cheese` pero vemos que el valor de `spam` también cambió. "
   ]
  },
  {
   "cell_type": "markdown",
   "metadata": {},
   "source": [
    "Cuando inicialmente creamos la lista, asignamos una referencia a ella en la variable `spam`. En la siguiente línea copiamos sólo la referencia de la lista `spam` a la variable `cheese`; diferente a copiar el valor de la lista en sí. Esto significa que los valores almacenados en `spam` y `cheese` apuntan a la misma lista. Sólo existe una lista subyacente dado que la lista en sí, nunca fue copiada. Así que, cuando modificamos el segundo elemento de `cheese` estamos modificando la misma lista a la que `spam` hace referencia."
   ]
  },
  {
   "cell_type": "markdown",
   "metadata": {},
   "source": [
    "Recordemos que las variables son como cajas que almacenan valores. Las figuras mostradas previamente en esta unidad no son exactamente precisas, dado que estas variables contienen referencias a listas. Usando las cajas como metáfora, veamos que sucede cuando una lista es asignada a la variable `spam`."
   ]
  },
  {
   "cell_type": "markdown",
   "metadata": {},
   "source": [
    "<img src=\"https://i.imgur.com/ZfXOE5n.jpg\" width=\"400\">"
   ]
  },
  {
   "cell_type": "markdown",
   "metadata": {},
   "source": [
    "En la siguiente figura vemos que la referencia en `spam` es copiada en la variable `cheese`, recordemos que no es una lista en sí, en ese sentido, se puede apreciar que ambas variables apuntan a la misma lista."
   ]
  },
  {
   "cell_type": "markdown",
   "metadata": {},
   "source": [
    "<img src=\"https://i.imgur.com/HUZaDfi.jpg\" width=\"400\">"
   ]
  },
  {
   "cell_type": "markdown",
   "metadata": {},
   "source": [
    "Al alterar la lista a la que `cheese` hace referencia, también se altera la lista en `spam`."
   ]
  },
  {
   "cell_type": "markdown",
   "metadata": {},
   "source": [
    "<img src=\"https://i.imgur.com/kVzjCDt.jpg\" width=\"400\">"
   ]
  },
  {
   "cell_type": "markdown",
   "metadata": {},
   "source": [
    "### Pasando valores por referencia"
   ]
  },
  {
   "cell_type": "markdown",
   "metadata": {},
   "source": [
    "Las referencias son particularmente importantes para entender cómo los argumentos son pasados a las funciones. Cuando una función es llamada, los valores de los argumentos son copiados en las variables de los parámetros. Para las listas, esto significa que una copia de la referencia es usada por el parámetro. Veamos las consecuencias de esto:"
   ]
  },
  {
   "cell_type": "code",
   "execution_count": 2,
   "metadata": {},
   "outputs": [
    {
     "name": "stdout",
     "output_type": "stream",
     "text": [
      "[1, 2, 3, 'Hello']\n"
     ]
    }
   ],
   "source": [
    "def eggs(someParameter):\n",
    "    someParameter.append('Hello')\n",
    "    \n",
    "spam = [1, 2, 3]    \n",
    "eggs(spam)\n",
    "print(spam)"
   ]
  },
  {
   "cell_type": "markdown",
   "metadata": {},
   "source": [
    "Nótese que cuando `eggs()` es llamada, no se usa un valor de retorno para asignarle un nuevo valor a `spam`. En cambio, se modifica la lista en su lugar, directamente. Aunque `spam` y `someParameter` contienen referencias separadas, ellos hacen referencia a la misma lista. Por este motivo, la llamada del método `append('Hello')` afecta la lista incluso después de retornar del llamado de la función. Debemos tener esto presente, olvidar que Python maneja las listas de esta manera puede producir *bugs* indesesados."
   ]
  },
  {
   "cell_type": "markdown",
   "metadata": {},
   "source": [
    "### El módulo `copy` y las funciones `copy()` y `deepcopy()`"
   ]
  },
  {
   "cell_type": "markdown",
   "metadata": {},
   "source": [
    "Aunque el pasar parámetros por referencia es una de las manera más útiles que hay para lidiar con listas y diccionarios, existen casos en los que no deseamos que hayan cambios en las listas o diccionarios originales. Para estas situaciones, Python suministra un módulo llamado `copy` que cuenta con las funciones `copy()` y `deepcopy()`. La primera `copy.copy()`, se usa para crear una copia duplicada de valores mutables como las listas o los diccionarios. Veamos el siguiente ejemplo: "
   ]
  },
  {
   "cell_type": "code",
   "execution_count": 4,
   "metadata": {},
   "outputs": [
    {
     "data": {
      "text/plain": [
       "['A', 'B', 'C', 'D']"
      ]
     },
     "execution_count": 4,
     "metadata": {},
     "output_type": "execute_result"
    }
   ],
   "source": [
    "import copy\n",
    "spam = ['A', 'B', 'C', 'D']\n",
    "cheese = copy.copy(spam)\n",
    "cheese[1] = 42\n",
    "spam"
   ]
  },
  {
   "cell_type": "code",
   "execution_count": 5,
   "metadata": {},
   "outputs": [
    {
     "data": {
      "text/plain": [
       "['A', 42, 'C', 'D']"
      ]
     },
     "execution_count": 5,
     "metadata": {},
     "output_type": "execute_result"
    }
   ],
   "source": [
    "cheese"
   ]
  },
  {
   "cell_type": "markdown",
   "metadata": {},
   "source": [
    "Ahora las variables `spam` y `cheese` hacen referencia a listas diferentes, por este motivo, sólo la lista `cheese` es modificada después de asignarle el valor `42` en el índice 1. Esto se puede apreciar más claramente en la siguiente figura."
   ]
  },
  {
   "cell_type": "markdown",
   "metadata": {},
   "source": [
    "<img src=\"https://i.imgur.com/8dN2PCL.jpg\" width=\"500\">"
   ]
  }
 ],
 "metadata": {
  "kernelspec": {
   "display_name": "Python 3",
   "language": "python",
   "name": "python3"
  },
  "language_info": {
   "codemirror_mode": {
    "name": "ipython",
    "version": 3
   },
   "file_extension": ".py",
   "mimetype": "text/x-python",
   "name": "python",
   "nbconvert_exporter": "python",
   "pygments_lexer": "ipython3",
   "version": "3.6.6"
  },
  "toc": {
   "base_numbering": 1,
   "nav_menu": {},
   "number_sections": true,
   "sideBar": true,
   "skip_h1_title": false,
   "title_cell": "Listas",
   "title_sidebar": "Contenidos",
   "toc_cell": true,
   "toc_position": {},
   "toc_section_display": true,
   "toc_window_display": true
  }
 },
 "nbformat": 4,
 "nbformat_minor": 2
}
