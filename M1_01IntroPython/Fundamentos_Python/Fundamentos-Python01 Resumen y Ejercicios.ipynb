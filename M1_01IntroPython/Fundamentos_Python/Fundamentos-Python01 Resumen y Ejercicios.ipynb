{
 "cells": [
  {
   "cell_type": "markdown",
   "metadata": {
    "slideshow": {
     "slide_type": "slide"
    }
   },
   "source": [
    "# Resumen"
   ]
  },
  {
   "cell_type": "markdown",
   "metadata": {
    "slideshow": {
     "slide_type": "slide"
    }
   },
   "source": [
    "Se puede evaluar y calcular expresiones usando una calculadora o realizar concatenación de cadenas mediante un software procesador de palabras, incluso se puede realizar replicación de cadenas, copiando y pegando texto. Sin embargo, las expresiones y sus componentes (operadores, variables y llamados a funciones) son los bloques constitutivos básicos para crear programas en Python. Cuando usted sea capaz de manejar estos elementos, será capaz de “instruir” a Python para que realice las tareas que usted desea. Es bueno recordar los diferentes tipos de operadores: `+`, `-`, `*`, `/`, `//`, `%` y `**` para operaciones matemáticas y los operadores `+` y `*` para operaciones con cadenas. Adicionalmente, es importante tener en cuenta los diferentes tipos de datos hasta ahora vistos: enteros (`int`), números de punto flotante (`float`) y las cadenas de caracteres (`string`)."
   ]
  },
  {
   "cell_type": "markdown",
   "metadata": {
    "slideshow": {
     "slide_type": "slide"
    }
   },
   "source": [
    "Así mismo, vimos algunas funciones interesantes `print()` e `input()` para manejar texto de salida por pantalla y de entrada mediante teclado, respectivamente. Adicionalmente, vimos la función `len()` que toma una cadena y la evalúa a un número igual a su tamaño. Las funciones `str()`, `int()` y `float()` retornarán la forma cadena, entero o número de punto flotante del argumento que se les ingrese."
   ]
  },
  {
   "cell_type": "markdown",
   "metadata": {},
   "source": [
    "# Preguntas Prácticas"
   ]
  },
  {
   "cell_type": "markdown",
   "metadata": {},
   "source": [
    "1. ¿Cuáles de las siguientes líneas son operadores y cúales valores?\n",
    " <ul>\n",
    "  <li>`*`</li>\n",
    "  <li>`'hello'`</li>\n",
    "  <li>`-88.8`</li>\n",
    "  <li>`-`</li>\n",
    "  <li>`/`</li>\n",
    "  <li>`+`</li>\n",
    "  <li>`5`</li>  \n",
    "</ul> "
   ]
  },
  {
   "cell_type": "markdown",
   "metadata": {},
   "source": [
    "2. ¿Cuál de las siguientes líneas es variable y cual cadena?\n",
    "<ul>\n",
    "    <li>`spam`</li>\n",
    "    <li>`'spam'`</li>\n",
    "</ul>"
   ]
  },
  {
   "cell_type": "markdown",
   "metadata": {},
   "source": [
    "3. Diga tres tipos de datos"
   ]
  },
  {
   "cell_type": "markdown",
   "metadata": {},
   "source": [
    "4. ¿De qué se compone una expresión? ¿Qué hace una expresión?"
   ]
  },
  {
   "cell_type": "markdown",
   "metadata": {},
   "source": [
    "5. En este capitulo vimos los estamentos de asignación, como: `spam = 10`. ¿Cuál es la diferencia entre una expresión y un estamento de asignación?"
   ]
  },
  {
   "cell_type": "markdown",
   "metadata": {},
   "source": [
    "6. ¿Qué contiene la variable `bacon` después de poner a correr el siguiente código?"
   ]
  },
  {
   "cell_type": "code",
   "execution_count": 1,
   "metadata": {},
   "outputs": [
    {
     "data": {
      "text/plain": [
       "21"
      ]
     },
     "execution_count": 1,
     "metadata": {},
     "output_type": "execute_result"
    }
   ],
   "source": [
    "bacon = 20\n",
    "bacon + 1"
   ]
  },
  {
   "cell_type": "code",
   "execution_count": 2,
   "metadata": {},
   "outputs": [
    {
     "data": {
      "text/plain": [
       "20"
      ]
     },
     "execution_count": 2,
     "metadata": {},
     "output_type": "execute_result"
    }
   ],
   "source": [
    "bacon"
   ]
  },
  {
   "cell_type": "markdown",
   "metadata": {},
   "source": [
    "7. ¿A qué valor evalúan las siguientes expresiones?"
   ]
  },
  {
   "cell_type": "code",
   "execution_count": 3,
   "metadata": {},
   "outputs": [
    {
     "data": {
      "text/plain": [
       "'spamspamspam'"
      ]
     },
     "execution_count": 3,
     "metadata": {},
     "output_type": "execute_result"
    }
   ],
   "source": [
    "'spam' + 'spamspam'"
   ]
  },
  {
   "cell_type": "code",
   "execution_count": 4,
   "metadata": {},
   "outputs": [
    {
     "data": {
      "text/plain": [
       "'spamspamspam'"
      ]
     },
     "execution_count": 4,
     "metadata": {},
     "output_type": "execute_result"
    }
   ],
   "source": [
    "'spam' * 3"
   ]
  },
  {
   "cell_type": "markdown",
   "metadata": {},
   "source": [
    "8. ¿Por qué `eggs` es un nombre válido para una variable y `100`, no?"
   ]
  },
  {
   "cell_type": "markdown",
   "metadata": {},
   "source": [
    "9. ¿Qué funciones puedo usar para obtener la versión entera, de punto flotante y cadena de un valor?"
   ]
  },
  {
   "cell_type": "markdown",
   "metadata": {},
   "source": [
    "10. ¿Por qué esta expresion causa un error, cómo puedo arreglarlo?"
   ]
  },
  {
   "cell_type": "code",
   "execution_count": 5,
   "metadata": {},
   "outputs": [
    {
     "ename": "TypeError",
     "evalue": "must be str, not int",
     "output_type": "error",
     "traceback": [
      "\u001b[0;31m---------------------------------------------------------------------------\u001b[0m",
      "\u001b[0;31mTypeError\u001b[0m                                 Traceback (most recent call last)",
      "\u001b[0;32m<ipython-input-5-e191471b86a4>\u001b[0m in \u001b[0;36m<module>\u001b[0;34m()\u001b[0m\n\u001b[0;32m----> 1\u001b[0;31m \u001b[0;34m'He comido '\u001b[0m \u001b[0;34m+\u001b[0m \u001b[0;36m99\u001b[0m \u001b[0;34m+\u001b[0m \u001b[0;34m'burritos'\u001b[0m\u001b[0;34m\u001b[0m\u001b[0m\n\u001b[0m",
      "\u001b[0;31mTypeError\u001b[0m: must be str, not int"
     ]
    }
   ],
   "source": [
    "'He comido ' + 99 + 'burritos'"
   ]
  }
 ],
 "metadata": {
  "kernelspec": {
   "display_name": "Python 3",
   "language": "python",
   "name": "python3"
  },
  "language_info": {
   "codemirror_mode": {
    "name": "ipython",
    "version": 3
   },
   "file_extension": ".py",
   "mimetype": "text/x-python",
   "name": "python",
   "nbconvert_exporter": "python",
   "pygments_lexer": "ipython3",
   "version": "3.6.6"
  },
  "toc": {
   "base_numbering": 1,
   "nav_menu": {},
   "number_sections": true,
   "sideBar": true,
   "skip_h1_title": true,
   "title_cell": "Table of Contents",
   "title_sidebar": "Contents",
   "toc_cell": false,
   "toc_position": {},
   "toc_section_display": true,
   "toc_window_display": false
  }
 },
 "nbformat": 4,
 "nbformat_minor": 2
}
