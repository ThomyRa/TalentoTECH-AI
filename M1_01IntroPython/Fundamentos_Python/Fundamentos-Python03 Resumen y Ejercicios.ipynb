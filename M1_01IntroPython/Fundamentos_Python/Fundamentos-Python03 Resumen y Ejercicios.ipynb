{
 "cells": [
  {
   "cell_type": "markdown",
   "metadata": {
    "toc": true
   },
   "source": [
    "<h1>Tabla de Contenidos<span class=\"tocSkip\"></span></h1>\n",
    "<div class=\"toc\"><ul class=\"toc-item\"><li><span><a href=\"#Resumen\" data-toc-modified-id=\"Resumen-1\"><span class=\"toc-item-num\">1&nbsp;&nbsp;</span>Resumen</a></span></li><li><span><a href=\"#Preguntas-prácticas\" data-toc-modified-id=\"Preguntas-prácticas-2\"><span class=\"toc-item-num\">2&nbsp;&nbsp;</span>Preguntas prácticas</a></span></li><li><span><a href=\"#Proyectos-de-Práctica\" data-toc-modified-id=\"Proyectos-de-Práctica-3\"><span class=\"toc-item-num\">3&nbsp;&nbsp;</span>Proyectos de Práctica</a></span><ul class=\"toc-item\"><li><span><a href=\"#La-secuencia-Collatz\" data-toc-modified-id=\"La-secuencia-Collatz-3.1\"><span class=\"toc-item-num\">3.1&nbsp;&nbsp;</span>La secuencia Collatz</a></span></li><li><span><a href=\"#Validación-de-los-datos-de-entrada\" data-toc-modified-id=\"Validación-de-los-datos-de-entrada-3.2\"><span class=\"toc-item-num\">3.2&nbsp;&nbsp;</span>Validación de los datos de entrada</a></span></li></ul></li></ul></div>"
   ]
  },
  {
   "cell_type": "markdown",
   "metadata": {},
   "source": [
    "## Resumen"
   ]
  },
  {
   "cell_type": "markdown",
   "metadata": {},
   "source": [
    "Las funciones nos permiten crear código modular. Dado que las variables en las funciones existen dentro de sus propios ámbitos, el código en una función no puede afectar los valores de otras variables dentro de otras funciones. Esto limita que es lo que puede cambiar un código dentro de las funciones, ayudando al proceso de *debugging*. Las funciones son excelentes herramientas para ayudarnos a organizar nuestro código. Podemos pensar en las funciones como cajas negras: tienen entradas en la forma de parámetros y salidas en forma de valores retornados. En capítulos anteriores un simple error podría causar que nuestro programa falle. En este capítulo aprendimos sobre los estamentos `try` y `except` los cuales pueden correr código cuando se detecta un error. Esto hace a los programas más resilientes a errores comunes."
   ]
  },
  {
   "cell_type": "markdown",
   "metadata": {},
   "source": [
    "## Preguntas prácticas"
   ]
  },
  {
   "cell_type": "markdown",
   "metadata": {},
   "source": [
    "1. ¿Por qué las funciones presentan una ventaja a la hora de trabajar con ellas en nuestros programas?\n",
    "2. ¿Cuándo se ejecuta un código en una función? Al momento de su declaración o al momento de su llamado\n",
    "3. ¿Qué estamentos crean una función?\n",
    "4. ¿Cuál es la diferencia entre una función y el llamado a una función?\n",
    "5. ¿Cuántos ámbitos globales existen en Python? ¿Cuántos ámbitos locales  existen en Python?\n",
    "6. ¿Qué le pasa a las variables dentro de un ámbito local cuando la función retorna a la ejecución del programa?\n",
    "7. ¿Qué es un valor retornado? ¿Un valor retornado puede ser parte de una expresión?\n",
    "Si una función no tiene valor de retorno, ¿Cuál es el valor de retorno de esta función?\n",
    "8. ¿Cómo forzamos una variable dentro de una función para que haga referencia a una variable global?\n",
    "9. ¿Cuál es el tipo de dato de `None`?\n",
    "10. ¿Qué hace el siguiente estamento: `import nombresrealesdenuestrasmascotas`?\n",
    "11. ¿Si tenemos una función llamada `bacon()` en un módulo llamado `spam`, ¿Cómo la llamaríamos después de importar `spam`?\n",
    "12. ¿Cómo prevenir un programa que falle después de obtener un error?\n",
    "13. ¿Qué va dentro del bloque de código de `try`?¿Qué va dentro del bloque de código de `except`?"
   ]
  },
  {
   "cell_type": "markdown",
   "metadata": {},
   "source": [
    "## Proyectos de Práctica"
   ]
  },
  {
   "cell_type": "markdown",
   "metadata": {},
   "source": [
    "Para practicar escribamos los siguientes programas para que realicen las siguintes tareas."
   ]
  },
  {
   "cell_type": "markdown",
   "metadata": {},
   "source": [
    "### La secuencia Collatz "
   ]
  },
  {
   "cell_type": "markdown",
   "metadata": {},
   "source": [
    "Escribamos una función llamada `collatz()` que tiene un único parámetro llamado `numero`. Si `numero` es par, entonces `collatz()` debería imprimir `numero // 2` e imprimir este valor. Si el número es impar, `collatz()`  debería imprimir y retornar `3 * numero +1 `. "
   ]
  },
  {
   "cell_type": "markdown",
   "metadata": {},
   "source": [
    "Luego escriba un programa que le pida al usuario un número entero y que llame a `collatz()` con el número entero como argumento hasta que `collatz()` retorne el valor de `1`. Asombrosamente, esta secuencia funciona para cualquier entero, tarde o temprano usando esta secuencia, siempre obtendremos el valor de `1`. Incluso los matemáticos no están seguros del por qué. A esta secuencia se le conoce con el nombre Collatz o a veces llamada *”El problema matemático imposible más simple”*."
   ]
  },
  {
   "cell_type": "markdown",
   "metadata": {},
   "source": [
    "Recuerde convertir el valor de retorno de `input()` a un número entero usando `int()`, de lo contrario obtendremos una cadena de caracteres. \n",
    "**Pista: Un entero es par cuando `numero % 2 == 0` y es impar cuando `numero % 2 == 1`.** La salida del programa debe lucir de la siguiente manera:"
   ]
  },
  {
   "cell_type": "markdown",
   "metadata": {},
   "source": [
    "Ingrese un número entero:\n",
    "3\n",
    "10\n",
    "5\n",
    "16\n",
    "8 \n",
    "4\n",
    "2 \n",
    "1"
   ]
  },
  {
   "cell_type": "markdown",
   "metadata": {},
   "source": [
    "### Validación de los datos de entrada"
   ]
  },
  {
   "cell_type": "markdown",
   "metadata": {},
   "source": [
    "Agregue estamentos `try` and `except` para determinar si el usuario ingresa un valor no entero. Normalmente, la función `int()` retornará un error `ValueError` si se ingresa un valor no entero como por ejemplo `int('casa')`. En el bloque de código del estamento `except` imprima un mensaje que le indique al usuario que debe ingresar un número entero."
   ]
  }
 ],
 "metadata": {
  "kernelspec": {
   "display_name": "Python 3",
   "language": "python",
   "name": "python3"
  },
  "language_info": {
   "codemirror_mode": {
    "name": "ipython",
    "version": 3
   },
   "file_extension": ".py",
   "mimetype": "text/x-python",
   "name": "python",
   "nbconvert_exporter": "python",
   "pygments_lexer": "ipython3",
   "version": "3.6.6"
  },
  "toc": {
   "base_numbering": 1,
   "nav_menu": {},
   "number_sections": true,
   "sideBar": true,
   "skip_h1_title": false,
   "title_cell": "Tabla de Contenidos",
   "title_sidebar": "Contenidos",
   "toc_cell": true,
   "toc_position": {},
   "toc_section_display": true,
   "toc_window_display": true
  }
 },
 "nbformat": 4,
 "nbformat_minor": 2
}
