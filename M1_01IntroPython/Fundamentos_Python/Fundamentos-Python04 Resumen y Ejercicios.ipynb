{
 "cells": [
  {
   "cell_type": "markdown",
   "metadata": {
    "toc": true
   },
   "source": [
    "<h1>Tabla de Contenidos<span class=\"tocSkip\"></span></h1>\n",
    "<div class=\"toc\"><ul class=\"toc-item\"><li><span><a href=\"#Resumen\" data-toc-modified-id=\"Resumen-1\"><span class=\"toc-item-num\">1&nbsp;&nbsp;</span>Resumen</a></span></li><li><span><a href=\"#Preguntas-Prácticas\" data-toc-modified-id=\"Preguntas-Prácticas-2\"><span class=\"toc-item-num\">2&nbsp;&nbsp;</span>Preguntas Prácticas</a></span></li><li><span><a href=\"#Proyecto-de-práctica\" data-toc-modified-id=\"Proyecto-de-práctica-3\"><span class=\"toc-item-num\">3&nbsp;&nbsp;</span>Proyecto de práctica</a></span><ul class=\"toc-item\"><li><span><a href=\"#Código-coma\" data-toc-modified-id=\"Código-coma-3.1\"><span class=\"toc-item-num\">3.1&nbsp;&nbsp;</span>Código coma</a></span></li></ul></li></ul></div>"
   ]
  },
  {
   "cell_type": "markdown",
   "metadata": {},
   "source": [
    "## Resumen"
   ]
  },
  {
   "cell_type": "markdown",
   "metadata": {},
   "source": [
    "Las listas son tipos de datos útiles ya que nos permiten escribir código que funciona para una cantidad determinada de valores modificables dentro de una variable.  Más adelante en el curso vamos a usar las listas para realizar tareas que serían difíciles o imposibles de hacer sin éstas."
   ]
  },
  {
   "cell_type": "markdown",
   "metadata": {},
   "source": [
    "Las listas son mutables, esto significa que sus valores son modificables. Por otro lado, a pesar de que las cadenas y las tuplas son tipos de datos similares a las listas, éstos son inmutables y sus valores no se pueden modificar. Una variable que contenga una tupla o una cadena puede ser sobreescrita con una nueva tupla o cadena; sin embargo esto no es lo mismo que la modificación realizada *en su lugar* realizada por ejemplo, usando los métodos `append()` o `remove()` sobre las listas."
   ]
  },
  {
   "cell_type": "markdown",
   "metadata": {},
   "source": [
    "Las variables no almacenan los valores de las listas directamente, ellos almacenan *referencias* a las listas. Esta distinción es importante al momento de copiar variables o pasar listas como argumentos en llamados a funciones. Dado que el valor copiado es la referencia de la lista, debemos tener cuidado con los cambios que realicemos sobre la lista ya que puede tener consecuencias en todo el programa. Podemos usar los métodos `copy()` y `deepcopy()` si deseamos realizar cambios en la lista de una variable sin modificar la lista original."
   ]
  },
  {
   "cell_type": "markdown",
   "metadata": {},
   "source": [
    "## Preguntas Prácticas"
   ]
  },
  {
   "cell_type": "markdown",
   "metadata": {},
   "source": [
    "1. ¿Qué es `[]`?\n",
    "2. ¿Cómo asignaría el valor `’Hello’` en la lista que almacena la variable `spam`. (Asuma que `soam` contiene `[2, 4, 6, 8, 10]`)\n",
    "\n",
    "Para las siguientes tres preguntas, asuma `spam = ['a', 'b', 'c', 'd']`\n",
    "3. ¿Cuál es el resultado de evaluar la siguiente expresión? `spam[int('3' * 2) / 11]`\n",
    "4. ¿Cuál es el resultado de evaluar la siguiente expresión? `spam[-1]`\n",
    "5. ¿Cuál es el resultado de evaluar la siguiente expresión? `spam[:2]`\n",
    "\n",
    "Para las siguientes tres preguntas, asuma `bacon = [3.14, 'cat', 11, 'cat', True]`\n",
    "6. ¿Cuál es el resultado de evaluar la siguiente expresión? `bacon.index('cat')`\n",
    "7. ¿Cuál es el resultado de evaluar la siguiente expresión? `bacon.append(99)`\n",
    "8. ¿Cuál es el valor de `bacon` después de usar `bacon.remove('cat')`\n",
    "\n",
    "9. ¿Cuáles son los operadores para replicación y concatenación de listas?\n",
    "10. ¿Cuál es la diferencia entre los métodos `append()` e `insert()`?\n",
    "11. ¿Cuáles son las dos formas de remover valores de una lista?\n",
    "12. Nombre las similaridades entre las listas y y las cadenas\n",
    "13. ¿Cuál es la diferencia entre las listas y las tuplas?\n",
    "14. ¿Cómo se debe escribir una tupla que sólo tiene el valor `42` en ella?\n",
    "15. ¿Cómo obtener la el equivalente en tupla de una lista? ¿Cómo obtener el equivalente en lista de una tupla?\n",
    "16. Las variables que \"contienen\" las lista, no contienen precisamente un valor de lista, ¿qué contienen?\n",
    "17. ¿Cuál es la diferencia entre `copy.copy()` y `copy.deepcopy()`"
   ]
  },
  {
   "cell_type": "markdown",
   "metadata": {},
   "source": [
    "## Proyecto de práctica"
   ]
  },
  {
   "cell_type": "markdown",
   "metadata": {},
   "source": [
    "En aras de practicar lo aprendido, escribamos un programa que realice la siguiente tarea:"
   ]
  },
  {
   "cell_type": "markdown",
   "metadata": {},
   "source": [
    "### Código coma"
   ]
  },
  {
   "cell_type": "markdown",
   "metadata": {},
   "source": [
    "Supongamos que tenemos una lista de la siguiente manera:"
   ]
  },
  {
   "cell_type": "code",
   "execution_count": null,
   "metadata": {},
   "outputs": [],
   "source": [
    "spam = ['apples', 'bananas', 'tofu', 'cats']"
   ]
  },
  {
   "cell_type": "markdown",
   "metadata": {},
   "source": [
    "Escriba una función que tome como argumento la lista anterior y retorne una lista con todos sus  elementos separados por una una coma, espacio y antes del último término la palabra *and*. Por ejemplo: pasando la lista anterior a la función ésta debe devolver el siguiente resultado: `'apples, bananas, tofu, and cats'`. Nuestra función debe funcinar para cualquier listas que ingresemos."
   ]
  }
 ],
 "metadata": {
  "kernelspec": {
   "display_name": "Python 3",
   "language": "python",
   "name": "python3"
  },
  "language_info": {
   "codemirror_mode": {
    "name": "ipython",
    "version": 3
   },
   "file_extension": ".py",
   "mimetype": "text/x-python",
   "name": "python",
   "nbconvert_exporter": "python",
   "pygments_lexer": "ipython3",
   "version": "3.6.6"
  },
  "toc": {
   "base_numbering": 1,
   "nav_menu": {},
   "number_sections": true,
   "sideBar": true,
   "skip_h1_title": false,
   "title_cell": "Tabla de Contenidos",
   "title_sidebar": "Contenidos",
   "toc_cell": true,
   "toc_position": {},
   "toc_section_display": true,
   "toc_window_display": false
  }
 },
 "nbformat": 4,
 "nbformat_minor": 2
}
