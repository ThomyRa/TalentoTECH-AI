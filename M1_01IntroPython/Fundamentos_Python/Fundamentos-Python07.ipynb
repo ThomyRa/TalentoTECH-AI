{
 "cells": [
  {
   "cell_type": "markdown",
   "id": "824c02dc",
   "metadata": {},
   "source": []
  }
 ],
 "metadata": {
  "language_info": {
   "name": "python"
  }
 },
 "nbformat": 4,
 "nbformat_minor": 5
}
