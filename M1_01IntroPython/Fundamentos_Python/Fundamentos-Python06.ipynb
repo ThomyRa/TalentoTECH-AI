{
 "cells": [
  {
   "cell_type": "markdown",
   "metadata": {
    "toc": true
   },
   "source": [
    "<h1>Manipulación de Cadenas de Caracteres<span class=\"tocSkip\"></span></h1>\n",
    "<div class=\"toc\"><ul class=\"toc-item\"><li><span><a href=\"#Introducción\" data-toc-modified-id=\"Introducción-1\"><span class=\"toc-item-num\">1&nbsp;&nbsp;</span>Introducción</a></span></li><li><span><a href=\"#Trabajando-con-cadenas\" data-toc-modified-id=\"Trabajando-con-cadenas-2\"><span class=\"toc-item-num\">2&nbsp;&nbsp;</span>Trabajando con cadenas</a></span><ul class=\"toc-item\"><li><span><a href=\"#Literales-de-cadenas\" data-toc-modified-id=\"Literales-de-cadenas-2.1\"><span class=\"toc-item-num\">2.1&nbsp;&nbsp;</span>Literales de cadenas</a></span><ul class=\"toc-item\"><li><span><a href=\"#Comillas-dobles\" data-toc-modified-id=\"Comillas-dobles-2.1.1\"><span class=\"toc-item-num\">2.1.1&nbsp;&nbsp;</span>Comillas dobles</a></span></li><li><span><a href=\"#Caracteres-de-Escape\" data-toc-modified-id=\"Caracteres-de-Escape-2.1.2\"><span class=\"toc-item-num\">2.1.2&nbsp;&nbsp;</span>Caracteres de Escape</a></span></li><li><span><a href=\"#Cadenas-raw\" data-toc-modified-id=\"Cadenas-raw-2.1.3\"><span class=\"toc-item-num\">2.1.3&nbsp;&nbsp;</span>Cadenas <em>raw</em></a></span></li><li><span><a href=\"#Cadenas-multi-línea-con-comillas-triples\" data-toc-modified-id=\"Cadenas-multi-línea-con-comillas-triples-2.1.4\"><span class=\"toc-item-num\">2.1.4&nbsp;&nbsp;</span>Cadenas multi-línea con comillas triples</a></span></li><li><span><a href=\"#Comentarios-Multi-Línea\" data-toc-modified-id=\"Comentarios-Multi-Línea-2.1.5\"><span class=\"toc-item-num\">2.1.5&nbsp;&nbsp;</span>Comentarios Multi-Línea</a></span></li></ul></li><li><span><a href=\"#Indexando-y-rebanando-cadenas\" data-toc-modified-id=\"Indexando-y-rebanando-cadenas-2.2\"><span class=\"toc-item-num\">2.2&nbsp;&nbsp;</span>Indexando y <em>rebanando</em> cadenas</a></span></li><li><span><a href=\"#El-operador-in-y-not-in-con-cadenas\" data-toc-modified-id=\"El-operador-in-y-not-in-con-cadenas-2.3\"><span class=\"toc-item-num\">2.3&nbsp;&nbsp;</span>El operador <code>in</code> y <code>not in</code> con cadenas</a></span></li></ul></li><li><span><a href=\"#Métodos-útiles-de-las-cadenas\" data-toc-modified-id=\"Métodos-útiles-de-las-cadenas-3\"><span class=\"toc-item-num\">3&nbsp;&nbsp;</span>Métodos útiles de las cadenas</a></span><ul class=\"toc-item\"><li><span><a href=\"#Los-métodos-upper(),-lower(),-isupper-e-islower().\" data-toc-modified-id=\"Los-métodos-upper(),-lower(),-isupper-e-islower().-3.1\"><span class=\"toc-item-num\">3.1&nbsp;&nbsp;</span>Los métodos <code>upper()</code>, <code>lower()</code>, <code>isupper</code> e <code>islower()</code>.</a></span></li><li><span><a href=\"#Los-métodos-isX-para-cadenas\" data-toc-modified-id=\"Los-métodos-isX-para-cadenas-3.2\"><span class=\"toc-item-num\">3.2&nbsp;&nbsp;</span>Los métodos isX para cadenas</a></span></li><li><span><a href=\"#Los-métodos-startswith()-y-endswith()-para-cadenas\" data-toc-modified-id=\"Los-métodos-startswith()-y-endswith()-para-cadenas-3.3\"><span class=\"toc-item-num\">3.3&nbsp;&nbsp;</span>Los métodos <code>startswith()</code> y <code>endswith()</code> para cadenas</a></span></li><li><span><a href=\"#Los-métodos-join()-y-split()-para-cadenas\" data-toc-modified-id=\"Los-métodos-join()-y-split()-para-cadenas-3.4\"><span class=\"toc-item-num\">3.4&nbsp;&nbsp;</span>Los métodos <code>join()</code> y <code>split()</code> para cadenas</a></span></li><li><span><a href=\"#Justificando-texto-con-rjust(),-ljust()-y-center()\" data-toc-modified-id=\"Justificando-texto-con-rjust(),-ljust()-y-center()-3.5\"><span class=\"toc-item-num\">3.5&nbsp;&nbsp;</span>Justificando texto con <code>rjust()</code>, <code>ljust()</code> y <code>center()</code></a></span></li><li><span><a href=\"#Removiendo-espacios-en-blanco-mediante-los-métodos-strip(),-rstrip()-y-lstrip()\" data-toc-modified-id=\"Removiendo-espacios-en-blanco-mediante-los-métodos-strip(),-rstrip()-y-lstrip()-3.6\"><span class=\"toc-item-num\">3.6&nbsp;&nbsp;</span>Removiendo espacios en blanco mediante los métodos <code>strip()</code>, <code>rstrip()</code> y <code>lstrip()</code></a></span></li><li><span><a href=\"#Copiar-y-pegar-cadenas-con-el-módulo--pyperclip\" data-toc-modified-id=\"Copiar-y-pegar-cadenas-con-el-módulo--pyperclip-3.7\"><span class=\"toc-item-num\">3.7&nbsp;&nbsp;</span>Copiar y pegar cadenas con el módulo  <code>pyperclip</code></a></span></li></ul></li><li><span><a href=\"#Proyecto:-Gestor-de-contraseñas\" data-toc-modified-id=\"Proyecto:-Gestor-de-contraseñas-4\"><span class=\"toc-item-num\">4&nbsp;&nbsp;</span>Proyecto: Gestor de contraseñas</a></span><ul class=\"toc-item\"><li><span><a href=\"#Paso-1:-Diseño-del-programa-y-estructuras-de-datos\" data-toc-modified-id=\"Paso-1:-Diseño-del-programa-y-estructuras-de-datos-4.1\"><span class=\"toc-item-num\">4.1&nbsp;&nbsp;</span>Paso 1: Diseño del programa y estructuras de datos</a></span></li><li><span><a href=\"#Paso2:-Manejar-los-argumentos-de-la-línea-de-comando\" data-toc-modified-id=\"Paso2:-Manejar-los-argumentos-de-la-línea-de-comando-4.2\"><span class=\"toc-item-num\">4.2&nbsp;&nbsp;</span>Paso2: Manejar los argumentos de la línea de comando</a></span></li><li><span><a href=\"#Paso-3:-Copiar-la-contraseña-correcta\" data-toc-modified-id=\"Paso-3:-Copiar-la-contraseña-correcta-4.3\"><span class=\"toc-item-num\">4.3&nbsp;&nbsp;</span>Paso 3: Copiar la contraseña correcta</a></span></li></ul></li><li><span><a href=\"#Proyecto:-Agregar-viñetas-a-una-lista\" data-toc-modified-id=\"Proyecto:-Agregar-viñetas-a-una-lista-5\"><span class=\"toc-item-num\">5&nbsp;&nbsp;</span>Proyecto: Agregar viñetas a una lista</a></span></li></ul></div>"
   ]
  },
  {
   "cell_type": "markdown",
   "metadata": {},
   "source": [
    "## Introducción"
   ]
  },
  {
   "cell_type": "markdown",
   "metadata": {},
   "source": [
    "El texto es uno de las formas de datos más comunes que nuestros programas tendrán que manejar. Nosotros ya sebemos cómo concatenar dos cadenas mediante el operador `+`, sin embargo, podemos hacer mucho más que eso. Podemos extraer cadenas parciales de otras cadenas, agregar o remover espacios, convertir letras en mayúsculas o minúsculas y revisar el formateado de las cadenas de caracteres. Incluso, podemos escribir código en Python y acceder al *clipboard* para copiar y pegar texto. En este capítulo aprenderemos esto y mucho más. Luego trabajaremos dos proyectos diferentes: Un gestor de contraseñas simple y un programa que automatiza la tarea aburrida de formatear piezas de texto."
   ]
  },
  {
   "cell_type": "markdown",
   "metadata": {},
   "source": [
    "## Trabajando con cadenas"
   ]
  },
  {
   "cell_type": "markdown",
   "metadata": {},
   "source": [
    "Veamos algunas formas en que Python nos permite escribir, acceder e imprimir cadenas en nuestros código."
   ]
  },
  {
   "cell_type": "markdown",
   "metadata": {},
   "source": [
    "### Literales de cadenas"
   ]
  },
  {
   "cell_type": "markdown",
   "metadata": {},
   "source": [
    "Escribir cadenas de caracteres en Python es muy fácil. Estas empiezan y terminan con comilla sencilla. Pero, ¿cómo usamos un apóstrofe dentro de una cadena? Escribir `'That is Alice's cat.'` no funcionará porque Python pensará que la cadena termina después de `Alice` y el resto (`s cat'`) es código de Python inválido. Afortunadamente, existen varias maneras de llevar a cabo esta tarea."
   ]
  },
  {
   "cell_type": "markdown",
   "metadata": {},
   "source": [
    "#### Comillas dobles"
   ]
  },
  {
   "cell_type": "markdown",
   "metadata": {},
   "source": [
    "Las cadenas pueden empezar y terminar con comillas dobles, de la misma manera que esto funciona para las comillas simples. Uno de los beneficios de usar comillas dobles es que, las cadenas pueden tener caracteres de comillas simples. Veamos un ejemplo:"
   ]
  },
  {
   "cell_type": "code",
   "execution_count": 1,
   "metadata": {},
   "outputs": [],
   "source": [
    "spam = \"That is Alice's cat.\""
   ]
  },
  {
   "cell_type": "markdown",
   "metadata": {},
   "source": [
    "Dado que la cadena anterior empezó con comillas dobles, Python sabe que las comillas simples son parte de la cadena y no marcan el principio o el final de la misma. Sin embargo, si necesitamos usar ambas dentro de una cadena, debemos usar caracteres de escape."
   ]
  },
  {
   "cell_type": "markdown",
   "metadata": {},
   "source": [
    "#### Caracteres de Escape"
   ]
  },
  {
   "cell_type": "markdown",
   "metadata": {},
   "source": [
    "Un *caracter de escape* nos permite usar caracteres que de otra forma sería imposible usar en una cadena. Un carácter de escape consiste en un *backslash* `\\` seguido del carácter que deseamos agregar a la cadena. A pesar de que está compuesto por dos caracteres, se hace referencia a ellos como un único carácter de escape. Por ejemplo, el carácter de escape para una comilla simple es `\\’`. Podemos usar esto dentro de una cadena que empiece con comillas simples."
   ]
  },
  {
   "cell_type": "code",
   "execution_count": 3,
   "metadata": {},
   "outputs": [],
   "source": [
    "spam = 'Say hi to Bob\\'s mother'"
   ]
  },
  {
   "cell_type": "code",
   "execution_count": 4,
   "metadata": {},
   "outputs": [
    {
     "data": {
      "text/plain": [
       "\"Say hi to Bob's mother\""
      ]
     },
     "execution_count": 4,
     "metadata": {},
     "output_type": "execute_result"
    }
   ],
   "source": [
    "spam"
   ]
  },
  {
   "cell_type": "markdown",
   "metadata": {},
   "source": [
    "La siguiente es la tabla para cada uno de los caracteres de escape."
   ]
  },
  {
   "cell_type": "markdown",
   "metadata": {},
   "source": [
    "<img src=\"https://i.imgur.com/Gir50g6.png\" width=\"400\">"
   ]
  },
  {
   "cell_type": "markdown",
   "metadata": {},
   "source": [
    "Ingrese la siguiente cadena en el shell interactivo:"
   ]
  },
  {
   "cell_type": "code",
   "execution_count": 5,
   "metadata": {},
   "outputs": [
    {
     "name": "stdout",
     "output_type": "stream",
     "text": [
      "Hello there!\n",
      "How are you?\n",
      "I'm doing fine.\n"
     ]
    }
   ],
   "source": [
    "print(\"Hello there!\\nHow are you?\\nI\\'m doing fine.\")"
   ]
  },
  {
   "cell_type": "markdown",
   "metadata": {},
   "source": [
    "#### Cadenas *raw*"
   ]
  },
  {
   "cell_type": "markdown",
   "metadata": {},
   "source": [
    "Para trabajar con cadenas *raw* debemos poner una `r`antes de las comillas de una cadena. Cuando hacemos esto, se ignora completamente todos los caracteres de escape e imprime cualquier *backslash* que aparezca en la cadena. Por ejemplo, escribamos la siguiente cadena en el shell interactivo:"
   ]
  },
  {
   "cell_type": "code",
   "execution_count": 6,
   "metadata": {},
   "outputs": [
    {
     "name": "stdout",
     "output_type": "stream",
     "text": [
      "That is Carol\\'s cat.$ñ2563\n"
     ]
    }
   ],
   "source": [
    "print(r'That is Carol\\'s cat.$ñ2563')"
   ]
  },
  {
   "cell_type": "markdown",
   "metadata": {},
   "source": [
    "Debido a que esta es una cadena *raw*, Python considera el *backslash* como parte de la cadena original y no como el inicio de una secuencia de escape. Las cadenas *raw* resultan de ayuda si estamos trabajando con cadenas que contengan muchos *backslashes*."
   ]
  },
  {
   "cell_type": "markdown",
   "metadata": {},
   "source": [
    "#### Cadenas multi-línea con comillas triples"
   ]
  },
  {
   "cell_type": "markdown",
   "metadata": {},
   "source": [
    "Mientras usamos la secuencia de escape `\\n` para agregar una nueva línea dentro de una cadena,  es frecuentemente más fácil usar cadenas múltiples. Una cadena múltiple en Python empieza, ya sea con, triple comillas sencillas o triple comillas dobles. Cualquier uso de comillas, tabulaciones o nuevas líneas dentro de las “comillas triples” son consideradas parte de la cadena. Las reglas de Python sobre la indentación o sangría de los bloques, no aplican a las líneas dentro de las cadenas multi-líneas.\n",
    "Veamos el siguiente ejemplo:"
   ]
  },
  {
   "cell_type": "code",
   "execution_count": 4,
   "metadata": {},
   "outputs": [
    {
     "name": "stdout",
     "output_type": "stream",
     "text": [
      "Dear Alice,\n",
      "\n",
      "Eve's cat has been arrested for catnapping, cat burglary, and extortion.\n",
      "\n",
      "Sincerely,\n",
      "Bob\n"
     ]
    }
   ],
   "source": [
    "print('''Dear Alice,\n",
    "\n",
    "Eve's cat has been arrested for catnapping, cat burglary, and extortion.\n",
    "\n",
    "Sincerely,\n",
    "Bob''')"
   ]
  },
  {
   "cell_type": "markdown",
   "metadata": {},
   "source": [
    "Nótese que la comilla simple en `Eve's`, no necesita secuencia de escape. USar los caracteres de escape es opcional en cadenas multi-línea. El siguiente llamado a `print()` imprimiría exactamente el mismo texto, sin usar cadenas multi-línea."
   ]
  },
  {
   "cell_type": "code",
   "execution_count": 11,
   "metadata": {},
   "outputs": [
    {
     "name": "stdout",
     "output_type": "stream",
     "text": [
      "Dear Alice,\n",
      "\n",
      "Eve's cat has been arrested for cat napping, cat burglary, and extortion.\n",
      "\n",
      "Sincerely,\n",
      "Bob\n"
     ]
    }
   ],
   "source": [
    "print('Dear Alice,\\n\\nEve\\'s cat has been arrested for cat napping, cat burglary, and extortion.\\n\\nSincerely,\\nBob')"
   ]
  },
  {
   "cell_type": "markdown",
   "metadata": {},
   "source": [
    "#### Comentarios Multi-Línea"
   ]
  },
  {
   "cell_type": "markdown",
   "metadata": {},
   "source": [
    "Mientras el caracter (`#`) marca el principio de un comentario para el resto de la línea, las cadenas multi-línea son usadas frecuentemente para comentarios de múltiples líneas. El siguiente es un ejemplo perfectamente válido de código en Python."
   ]
  },
  {
   "cell_type": "code",
   "execution_count": 6,
   "metadata": {},
   "outputs": [],
   "source": [
    "\"\"\"This is a test Python program.\n",
    "Written by Al Sweigart al@inventwithpython.com\n",
    "This program was designed for Python 3, not Python 2.\n",
    "\"\"\"\n",
    "\n",
    "def spam():\n",
    "    \"\"\"This is a multiline comment to help\n",
    "    explain what the spam() function does.\"\"\"\n",
    "    print('Hello!')"
   ]
  },
  {
   "cell_type": "code",
   "execution_count": 16,
   "metadata": {},
   "outputs": [
    {
     "name": "stdout",
     "output_type": "stream",
     "text": [
      "Hello!\n"
     ]
    }
   ],
   "source": [
    "spam()"
   ]
  },
  {
   "cell_type": "markdown",
   "metadata": {},
   "source": [
    "### Indexando y *rebanando* cadenas"
   ]
  },
  {
   "cell_type": "markdown",
   "metadata": {},
   "source": [
    "Las cadenas usan índices y rebanadas de la misma manera que las listas lo hacen, podemos pensar la cadena `'Hello World'` como una lista y cada caracter en la cadena como un ítem con su índice correspondiente."
   ]
  },
  {
   "cell_type": "code",
   "execution_count": null,
   "metadata": {},
   "outputs": [],
   "source": [
    "'   H   e   l   l   o       w   o   r   l   d    !   '\n",
    "    0   1   2   3   4   5   6   7   8   9   10   11"
   ]
  },
  {
   "cell_type": "markdown",
   "metadata": {},
   "source": [
    "El espacio y el signo de exclamación son incluídos en la cuenta de los caracteres. De esta manera, `'Hello Wolrd!'` tiene una longitud de 12 caracteres, desde la letra `H` con índice `0` hasta `!` con índice `11`. Veamos los siguientes ejemplos."
   ]
  },
  {
   "cell_type": "code",
   "execution_count": 8,
   "metadata": {},
   "outputs": [
    {
     "data": {
      "text/plain": [
       "'Hello Wolrd!'"
      ]
     },
     "execution_count": 8,
     "metadata": {},
     "output_type": "execute_result"
    }
   ],
   "source": [
    "spam = 'Hello Wolrd!'\n",
    "spam"
   ]
  },
  {
   "cell_type": "code",
   "execution_count": 9,
   "metadata": {},
   "outputs": [
    {
     "data": {
      "text/plain": [
       "'H'"
      ]
     },
     "execution_count": 9,
     "metadata": {},
     "output_type": "execute_result"
    }
   ],
   "source": [
    "spam[0]"
   ]
  },
  {
   "cell_type": "code",
   "execution_count": 10,
   "metadata": {},
   "outputs": [
    {
     "data": {
      "text/plain": [
       "'o'"
      ]
     },
     "execution_count": 10,
     "metadata": {},
     "output_type": "execute_result"
    }
   ],
   "source": [
    "spam[4]"
   ]
  },
  {
   "cell_type": "code",
   "execution_count": 11,
   "metadata": {},
   "outputs": [
    {
     "data": {
      "text/plain": [
       "'!'"
      ]
     },
     "execution_count": 11,
     "metadata": {},
     "output_type": "execute_result"
    }
   ],
   "source": [
    "spam[-1]"
   ]
  },
  {
   "cell_type": "code",
   "execution_count": 5,
   "metadata": {},
   "outputs": [
    {
     "data": {
      "text/plain": [
       "'Hello'"
      ]
     },
     "execution_count": 5,
     "metadata": {},
     "output_type": "execute_result"
    }
   ],
   "source": [
    "spam[0:5]"
   ]
  },
  {
   "cell_type": "code",
   "execution_count": 6,
   "metadata": {},
   "outputs": [
    {
     "data": {
      "text/plain": [
       "'Hello'"
      ]
     },
     "execution_count": 6,
     "metadata": {},
     "output_type": "execute_result"
    }
   ],
   "source": [
    "spam[:5]"
   ]
  },
  {
   "cell_type": "code",
   "execution_count": 7,
   "metadata": {},
   "outputs": [
    {
     "data": {
      "text/plain": [
       "'Wolrd!'"
      ]
     },
     "execution_count": 7,
     "metadata": {},
     "output_type": "execute_result"
    }
   ],
   "source": [
    "spam[6:]"
   ]
  },
  {
   "cell_type": "markdown",
   "metadata": {},
   "source": [
    "Si especificamos un índice, obtendremos el caracter en esa posición de la cadena. Si especificamos un rango desde un índice hasta otro, el índice inicial es incluído y el índice final, no. Por este motivo, si `spam` es `'Hello Wolrd!'`, entonces, `spam[0:5]` es `'Hello'`. La subcadena que obtenemos de  `spam[0:5]` incluirá todo desde `spam[0]` hasta `spam[4]` dejando por fuera el espacio con índice `5`."
   ]
  },
  {
   "cell_type": "markdown",
   "metadata": {},
   "source": [
    "Nótese que rebanar una cadena no modifica la cadena original. En ese sentido, podemos almacenar una rebanada una variable en otra variable separada. Veamos el siguiente ejemplo:"
   ]
  },
  {
   "cell_type": "code",
   "execution_count": 13,
   "metadata": {},
   "outputs": [
    {
     "data": {
      "text/plain": [
       "'Hello World!'"
      ]
     },
     "execution_count": 13,
     "metadata": {},
     "output_type": "execute_result"
    }
   ],
   "source": [
    "spam = 'Hello World!'\n",
    "fizz = spam[:]\n",
    "fizz"
   ]
  },
  {
   "cell_type": "markdown",
   "metadata": {},
   "source": [
    "Al rebanar y almacenar la subcadena resultante en otra variable, podemos tener ambas, la cadena completa y la útil subcadena para acceso rápido y fácil."
   ]
  },
  {
   "cell_type": "markdown",
   "metadata": {},
   "source": [
    "### El operador `in` y `not in` con cadenas"
   ]
  },
  {
   "cell_type": "markdown",
   "metadata": {},
   "source": [
    "El operador `in` y `not in` pueden ser usados con cadenas de la misma manera que lo usamos con las listas. Una expresión con dos cadenas unidas con `in` o `not in` se evaluará a un valor booleano `True` o `False`. Veamos el siguiente ejemplo."
   ]
  },
  {
   "cell_type": "code",
   "execution_count": 1,
   "metadata": {},
   "outputs": [
    {
     "data": {
      "text/plain": [
       "True"
      ]
     },
     "execution_count": 1,
     "metadata": {},
     "output_type": "execute_result"
    }
   ],
   "source": [
    "'Hello' in 'Hello World'"
   ]
  },
  {
   "cell_type": "code",
   "execution_count": 2,
   "metadata": {},
   "outputs": [
    {
     "data": {
      "text/plain": [
       "True"
      ]
     },
     "execution_count": 2,
     "metadata": {},
     "output_type": "execute_result"
    }
   ],
   "source": [
    "'Hello' in 'Hello'"
   ]
  },
  {
   "cell_type": "code",
   "execution_count": 3,
   "metadata": {},
   "outputs": [
    {
     "data": {
      "text/plain": [
       "False"
      ]
     },
     "execution_count": 3,
     "metadata": {},
     "output_type": "execute_result"
    }
   ],
   "source": [
    "'HELLO' in 'Hello World'"
   ]
  },
  {
   "cell_type": "code",
   "execution_count": 4,
   "metadata": {},
   "outputs": [
    {
     "data": {
      "text/plain": [
       "True"
      ]
     },
     "execution_count": 4,
     "metadata": {},
     "output_type": "execute_result"
    }
   ],
   "source": [
    "'' in 'spam'"
   ]
  },
  {
   "cell_type": "code",
   "execution_count": 14,
   "metadata": {},
   "outputs": [
    {
     "data": {
      "text/plain": [
       "False"
      ]
     },
     "execution_count": 14,
     "metadata": {},
     "output_type": "execute_result"
    }
   ],
   "source": [
    "'cats' not in 'cats and dogs'"
   ]
  },
  {
   "cell_type": "markdown",
   "metadata": {},
   "source": [
    "Estas expresiones prueban si la primera cadena (exactamente la misma cadena, mayúsculas y minúsculas) está contenida en la segunda."
   ]
  },
  {
   "cell_type": "markdown",
   "metadata": {},
   "source": [
    "## Métodos útiles de las cadenas"
   ]
  },
  {
   "cell_type": "markdown",
   "metadata": {},
   "source": [
    "Existen varios métodos propios de las cadenas que analizan, crean o transforman su valor. A continuación describiremos los métodos más usados."
   ]
  },
  {
   "cell_type": "markdown",
   "metadata": {},
   "source": [
    "### Los métodos `upper()`, `lower()`, `isupper` e `islower()`."
   ]
  },
  {
   "cell_type": "markdown",
   "metadata": {},
   "source": [
    "Los métodos `upper()` y `lower()` retornan una nueva cadena, donde todas las letras de la cadena original han sido convertidas a mayúsculas o minúsculas, respectivamente. Los caracteres no literales permanecen sin alterar. Veamos el siguiente ejemplo."
   ]
  },
  {
   "cell_type": "code",
   "execution_count": 15,
   "metadata": {},
   "outputs": [
    {
     "data": {
      "text/plain": [
       "'HELLO WORLD!'"
      ]
     },
     "execution_count": 15,
     "metadata": {},
     "output_type": "execute_result"
    }
   ],
   "source": [
    "spam = 'Hello world!'\n",
    "spam = spam.upper()\n",
    "spam"
   ]
  },
  {
   "cell_type": "code",
   "execution_count": 17,
   "metadata": {},
   "outputs": [
    {
     "name": "stdout",
     "output_type": "stream",
     "text": [
      "HELLO WORLD!\n"
     ]
    },
    {
     "data": {
      "text/plain": [
       "'hello world!'"
      ]
     },
     "execution_count": 17,
     "metadata": {},
     "output_type": "execute_result"
    }
   ],
   "source": [
    "print(spam.upper())\n",
    "spam = spam.lower()\n",
    "spam"
   ]
  },
  {
   "cell_type": "markdown",
   "metadata": {},
   "source": [
    "\n",
    "Nótese que los métodos no cambian la cadena en sí, en su lugar, retorna una nueva cadena. Si desea cambiar la cadena original, debe llamar `upper()` o `lower()` sobre la cadena original y luego, asignar la nueva cadena a la variable donde estaba almacenada inicialmente. Por este motivo usamos `spam = spam.upper()`. Los métodos `upper()` o `lower()` son útiles si deseamos realizar comparaciones entre mayúsculas y minúsculas en una cadena dada. Las cadenas  `'great'` y `'GReat'` no son iguales entre sí. Pero en el siguiente pequeño programa, no importa si el usuario ingresa `'Great'` o `'grEAT'` , debido a que inicialmente, la cena es convertida a minúsculas."
   ]
  },
  {
   "cell_type": "code",
   "execution_count": 19,
   "metadata": {},
   "outputs": [
    {
     "name": "stdout",
     "output_type": "stream",
     "text": [
      "How are you?\n",
      "gREat\n",
      "I feel great too!\n"
     ]
    }
   ],
   "source": [
    "print('How are you?')\n",
    "feeling = input()\n",
    "if feeling.lower() == 'great':\n",
    "    print('I feel great too!')\n",
    "else:\n",
    "    print('I hope the rest of your day is good.')"
   ]
  },
  {
   "cell_type": "markdown",
   "metadata": {},
   "source": [
    "Cuando corremos este código, la pregunta es mostrada y al ingresar cualquier variación de `'great'`, entregará el resultado `'I feel great too'`. Agregar código a nuestros programas que manejen variaciones o errores en el ingreso de datos por parte de los usuarios, hará a estos programas más fáciles de usar y menos probable que fallen."
   ]
  },
  {
   "cell_type": "markdown",
   "metadata": {},
   "source": [
    "Los métodos `isupper()` e `islower()` retornarán un valor booleano `True` si la cadena tiene al menos una letra y todas las letras de la cadena son mayúsculas o minúsculas, respectivamente. De lo contrario, el método retorna `False`. Veamos qué hace cada uno de los siguientes ejemplos"
   ]
  },
  {
   "cell_type": "code",
   "execution_count": 20,
   "metadata": {},
   "outputs": [
    {
     "data": {
      "text/plain": [
       "False"
      ]
     },
     "execution_count": 20,
     "metadata": {},
     "output_type": "execute_result"
    }
   ],
   "source": [
    "spam = 'Hello world!'\n",
    "spam.islower()"
   ]
  },
  {
   "cell_type": "code",
   "execution_count": 11,
   "metadata": {},
   "outputs": [
    {
     "data": {
      "text/plain": [
       "False"
      ]
     },
     "execution_count": 11,
     "metadata": {},
     "output_type": "execute_result"
    }
   ],
   "source": [
    "spam.isupper()"
   ]
  },
  {
   "cell_type": "code",
   "execution_count": 21,
   "metadata": {},
   "outputs": [
    {
     "data": {
      "text/plain": [
       "True"
      ]
     },
     "execution_count": 21,
     "metadata": {},
     "output_type": "execute_result"
    }
   ],
   "source": [
    "'HELLO'.isupper()"
   ]
  },
  {
   "cell_type": "code",
   "execution_count": 22,
   "metadata": {},
   "outputs": [
    {
     "data": {
      "text/plain": [
       "True"
      ]
     },
     "execution_count": 22,
     "metadata": {},
     "output_type": "execute_result"
    }
   ],
   "source": [
    "'abc12345'.islower()"
   ]
  },
  {
   "cell_type": "code",
   "execution_count": 14,
   "metadata": {},
   "outputs": [
    {
     "data": {
      "text/plain": [
       "False"
      ]
     },
     "execution_count": 14,
     "metadata": {},
     "output_type": "execute_result"
    }
   ],
   "source": [
    "'12345'.islower()"
   ]
  },
  {
   "cell_type": "code",
   "execution_count": 15,
   "metadata": {},
   "outputs": [
    {
     "data": {
      "text/plain": [
       "False"
      ]
     },
     "execution_count": 15,
     "metadata": {},
     "output_type": "execute_result"
    }
   ],
   "source": [
    "'12345'.isupper()"
   ]
  },
  {
   "cell_type": "markdown",
   "metadata": {},
   "source": [
    "Dado que los métodos de las cadenas `upper()` y `lower()` retornan cadenas, podemos llamar métodos sobre esos valores de cadena retornados. Las expresiones que hacen esto, lucirán como una secuencia de llamados de métodos. Veamos el siguiente ejemplo:"
   ]
  },
  {
   "cell_type": "code",
   "execution_count": 23,
   "metadata": {},
   "outputs": [
    {
     "data": {
      "text/plain": [
       "'HELLO'"
      ]
     },
     "execution_count": 23,
     "metadata": {},
     "output_type": "execute_result"
    }
   ],
   "source": [
    "'hello'.upper()"
   ]
  },
  {
   "cell_type": "code",
   "execution_count": 24,
   "metadata": {},
   "outputs": [
    {
     "data": {
      "text/plain": [
       "'hello'"
      ]
     },
     "execution_count": 24,
     "metadata": {},
     "output_type": "execute_result"
    }
   ],
   "source": [
    "'Hello'.upper().lower()"
   ]
  },
  {
   "cell_type": "code",
   "execution_count": 25,
   "metadata": {},
   "outputs": [
    {
     "data": {
      "text/plain": [
       "'HELLO'"
      ]
     },
     "execution_count": 25,
     "metadata": {},
     "output_type": "execute_result"
    }
   ],
   "source": [
    "'Hello'.upper().lower().upper()"
   ]
  },
  {
   "cell_type": "code",
   "execution_count": 26,
   "metadata": {},
   "outputs": [
    {
     "data": {
      "text/plain": [
       "'hello'"
      ]
     },
     "execution_count": 26,
     "metadata": {},
     "output_type": "execute_result"
    }
   ],
   "source": [
    "'Hello'.lower()"
   ]
  },
  {
   "cell_type": "code",
   "execution_count": 28,
   "metadata": {},
   "outputs": [
    {
     "data": {
      "text/plain": [
       "False"
      ]
     },
     "execution_count": 28,
     "metadata": {},
     "output_type": "execute_result"
    }
   ],
   "source": [
    "'Hello'.upper().islower()"
   ]
  },
  {
   "cell_type": "markdown",
   "metadata": {},
   "source": [
    "### Los métodos isX para cadenas"
   ]
  },
  {
   "cell_type": "markdown",
   "metadata": {},
   "source": [
    "Junto con `islower()` e `isupper()`, existen otros métodos que tienen nombres que empiezan con la palabra *is*. Estos métodos retornan un valor booleano que describe la naturaleza de la string. Veamos algunos de ellos:"
   ]
  },
  {
   "cell_type": "markdown",
   "metadata": {},
   "source": [
    "`isalpha()`: retorna `True` si la cadena consiste únicamente de letras y n o está vacía. "
   ]
  },
  {
   "cell_type": "markdown",
   "metadata": {},
   "source": [
    "`isalnum()`: retorna `True` si la cadena consiste únicamente de letras y números y no está vacía"
   ]
  },
  {
   "cell_type": "markdown",
   "metadata": {},
   "source": [
    "`isdecimal()`: retorna `True` si la cadena consiste únicamente de caracteres numéricos y no está vacía."
   ]
  },
  {
   "cell_type": "markdown",
   "metadata": {},
   "source": [
    "`isspace()`: retorna `True` si la cadena consiste únicamente de espacios, tabulaciones, nuevas líneas y no está vacía."
   ]
  },
  {
   "cell_type": "markdown",
   "metadata": {},
   "source": [
    "`istitle()`: retorna `True` si la cadena consiste únicamente de palabras que empiezan con mayúscula seguida de minúsculas."
   ]
  },
  {
   "cell_type": "markdown",
   "metadata": {},
   "source": [
    "Veamos los siguientes ejemplos:"
   ]
  },
  {
   "cell_type": "code",
   "execution_count": 29,
   "metadata": {},
   "outputs": [
    {
     "data": {
      "text/plain": [
       "True"
      ]
     },
     "execution_count": 29,
     "metadata": {},
     "output_type": "execute_result"
    }
   ],
   "source": [
    "'hello'.isalpha()"
   ]
  },
  {
   "cell_type": "code",
   "execution_count": 30,
   "metadata": {},
   "outputs": [
    {
     "data": {
      "text/plain": [
       "False"
      ]
     },
     "execution_count": 30,
     "metadata": {},
     "output_type": "execute_result"
    }
   ],
   "source": [
    "'hello123'.isalpha()"
   ]
  },
  {
   "cell_type": "code",
   "execution_count": 31,
   "metadata": {},
   "outputs": [
    {
     "data": {
      "text/plain": [
       "True"
      ]
     },
     "execution_count": 31,
     "metadata": {},
     "output_type": "execute_result"
    }
   ],
   "source": [
    "'hello123'.isalnum()"
   ]
  },
  {
   "cell_type": "code",
   "execution_count": 32,
   "metadata": {},
   "outputs": [
    {
     "data": {
      "text/plain": [
       "True"
      ]
     },
     "execution_count": 32,
     "metadata": {},
     "output_type": "execute_result"
    }
   ],
   "source": [
    "'123'.isdecimal()"
   ]
  },
  {
   "cell_type": "code",
   "execution_count": 34,
   "metadata": {},
   "outputs": [
    {
     "data": {
      "text/plain": [
       "True"
      ]
     },
     "execution_count": 34,
     "metadata": {},
     "output_type": "execute_result"
    }
   ],
   "source": [
    "'\\t\\n'.isspace()"
   ]
  },
  {
   "cell_type": "code",
   "execution_count": 13,
   "metadata": {},
   "outputs": [
    {
     "data": {
      "text/plain": [
       "True"
      ]
     },
     "execution_count": 13,
     "metadata": {},
     "output_type": "execute_result"
    }
   ],
   "source": [
    "'Este Es Un Titulo'.istitle()"
   ]
  },
  {
   "cell_type": "code",
   "execution_count": 35,
   "metadata": {},
   "outputs": [
    {
     "data": {
      "text/plain": [
       "True"
      ]
     },
     "execution_count": 35,
     "metadata": {},
     "output_type": "execute_result"
    }
   ],
   "source": [
    "'Este Es Un Titulo 123'.istitle()"
   ]
  },
  {
   "cell_type": "code",
   "execution_count": 36,
   "metadata": {},
   "outputs": [
    {
     "data": {
      "text/plain": [
       "False"
      ]
     },
     "execution_count": 36,
     "metadata": {},
     "output_type": "execute_result"
    }
   ],
   "source": [
    "'Este No Es un Titulo'.istitle()"
   ]
  },
  {
   "cell_type": "code",
   "execution_count": 37,
   "metadata": {},
   "outputs": [
    {
     "data": {
      "text/plain": [
       "False"
      ]
     },
     "execution_count": 37,
     "metadata": {},
     "output_type": "execute_result"
    }
   ],
   "source": [
    "'Este TAMPOCO Es Un Titulo'.istitle()"
   ]
  },
  {
   "cell_type": "markdown",
   "metadata": {},
   "source": [
    "Los métodos *isX* para cadenas son útiles cuando necesitamos validar datos que ingresan los usuarios. Por ejemplo el siguiente programa pregunta repetitivamente a los usuarios por su edad y contraseña hasta que suministren los datos válidos."
   ]
  },
  {
   "cell_type": "code",
   "execution_count": 40,
   "metadata": {},
   "outputs": [
    {
     "name": "stdout",
     "output_type": "stream",
     "text": [
      "Ingrese su edad:\n",
      "35\n",
      "Seleccione una nueva contraseña (únicamente letras y números)\n",
      "&/%sdf\n",
      "La contraseña únicamente puede contener letras y números.\n",
      "Seleccione una nueva contraseña (únicamente letras y números)\n",
      "qwert123\n",
      "Acceso permitido.\n"
     ]
    }
   ],
   "source": [
    "while True:\n",
    "    print('Ingrese su edad:')\n",
    "    age = input()\n",
    "    if age.isdecimal():\n",
    "        break\n",
    "    print('Por favor ingrese un valor numérico para su edad.')\n",
    "    \n",
    "while True:\n",
    "    print('Seleccione una nueva contraseña (únicamente letras y números)')\n",
    "    password = input()\n",
    "    if password.isalnum():\n",
    "        break\n",
    "    print('La contraseña únicamente puede contener letras y números.')\n",
    "    \n",
    "print('Acceso permitido.')"
   ]
  },
  {
   "cell_type": "markdown",
   "metadata": {},
   "source": [
    "En el primer ciclo `while` le preguntamos al usuario por su edad y almacenamos el valor ingresado en `age`. Si `age` es valor válido (numérico), terminamos el primer ciclo y continuamos con el siguiente ciclo que preguntará por la contraseña. De lo contrario, le informamos al usuario que debe ingresar un valor numérico y le preguntamos nuevamente para que ingrese un valor válido. En el segundo ciclo `while` preguntamos por la contraseña y almacenamos el valor ingresado en `password`, si el dato ingresado  es alfanumérico (letras y números) salimos inmediatamente del ciclo. De lo contrario, le decimos al usuario que necesita ingresar un valor válido y nuevamente le preguntamos por la contraseña."
   ]
  },
  {
   "cell_type": "markdown",
   "metadata": {},
   "source": [
    "Llamar `isdecimal()` e `isalnum()` sobre las variables, nos permite determinar qué tipo de valor hay almacenado en ella. Gracias a estos métodos, en el ejemplo anterior podemos rechazar entradas como `treinta y cinco` y aceptar `35` o rechazar `secr3t!` y aceptar `secret`."
   ]
  },
  {
   "cell_type": "markdown",
   "metadata": {},
   "source": [
    "\n",
    "### Los métodos `startswith()` y `endswith()` para cadenas"
   ]
  },
  {
   "cell_type": "markdown",
   "metadata": {},
   "source": [
    "Los métodos `startswith()` y `endswith()` retornan `True` si la cadena sobre la que se llamó empieza o termina (respectivamente) con la cadena pasada como argumento al método; de lo contrario retorna `False`. Veamos algunos ejemplo:"
   ]
  },
  {
   "cell_type": "code",
   "execution_count": 1,
   "metadata": {},
   "outputs": [
    {
     "data": {
      "text/plain": [
       "True"
      ]
     },
     "execution_count": 1,
     "metadata": {},
     "output_type": "execute_result"
    }
   ],
   "source": [
    "'Hello world!'.startswith('Hello')"
   ]
  },
  {
   "cell_type": "code",
   "execution_count": 2,
   "metadata": {},
   "outputs": [
    {
     "data": {
      "text/plain": [
       "True"
      ]
     },
     "execution_count": 2,
     "metadata": {},
     "output_type": "execute_result"
    }
   ],
   "source": [
    "'Hello world!'.endswith('world!')"
   ]
  },
  {
   "cell_type": "code",
   "execution_count": 3,
   "metadata": {},
   "outputs": [
    {
     "data": {
      "text/plain": [
       "False"
      ]
     },
     "execution_count": 3,
     "metadata": {},
     "output_type": "execute_result"
    }
   ],
   "source": [
    "'abc123'.startswith('abcdef')"
   ]
  },
  {
   "cell_type": "code",
   "execution_count": 4,
   "metadata": {},
   "outputs": [
    {
     "data": {
      "text/plain": [
       "False"
      ]
     },
     "execution_count": 4,
     "metadata": {},
     "output_type": "execute_result"
    }
   ],
   "source": [
    "'abc123'.endswith('12')"
   ]
  },
  {
   "cell_type": "code",
   "execution_count": 5,
   "metadata": {},
   "outputs": [
    {
     "data": {
      "text/plain": [
       "True"
      ]
     },
     "execution_count": 5,
     "metadata": {},
     "output_type": "execute_result"
    }
   ],
   "source": [
    "'Hello world!'.startswith('Hello world!')"
   ]
  },
  {
   "cell_type": "code",
   "execution_count": 6,
   "metadata": {},
   "outputs": [
    {
     "data": {
      "text/plain": [
       "True"
      ]
     },
     "execution_count": 6,
     "metadata": {},
     "output_type": "execute_result"
    }
   ],
   "source": [
    "'Hello world!'.endswith('Hello world!')"
   ]
  },
  {
   "cell_type": "markdown",
   "metadata": {},
   "source": [
    "Estos métodos son alternativas útiles al operador `==` si se necesita verificar sólo el principio o el final de una cadena, en lugar de toda la cadena."
   ]
  },
  {
   "cell_type": "markdown",
   "metadata": {},
   "source": [
    "### Los métodos `join()` y `split()` para cadenas"
   ]
  },
  {
   "cell_type": "markdown",
   "metadata": {},
   "source": [
    "El método `join()` es útil cuando se tiene una lista de cadenas que necesitan unirse en una sóla. El método `join()` es llamado sobre una cadena, recibe como argumentos una lista de cadenas y retorna una única cadena. La cadena retornada es la concatenación de cada una de las cadenas pasadas en la lista mediante la cadena sobre la que se llamó el método. Veamos el siguiente ejemplo:"
   ]
  },
  {
   "cell_type": "code",
   "execution_count": 7,
   "metadata": {},
   "outputs": [
    {
     "data": {
      "text/plain": [
       "'cats, rats, bats'"
      ]
     },
     "execution_count": 7,
     "metadata": {},
     "output_type": "execute_result"
    }
   ],
   "source": [
    "', '.join(['cats', 'rats', 'bats'])"
   ]
  },
  {
   "cell_type": "code",
   "execution_count": 30,
   "metadata": {},
   "outputs": [
    {
     "data": {
      "text/plain": [
       "'My name is Simon'"
      ]
     },
     "execution_count": 30,
     "metadata": {},
     "output_type": "execute_result"
    }
   ],
   "source": [
    "' '.join(['My', 'name', 'is', 'Simon'])"
   ]
  },
  {
   "cell_type": "code",
   "execution_count": 31,
   "metadata": {},
   "outputs": [
    {
     "data": {
      "text/plain": [
       "'MyABCnameABCisABCSimon'"
      ]
     },
     "execution_count": 31,
     "metadata": {},
     "output_type": "execute_result"
    }
   ],
   "source": [
    "'ABC'.join(['My', 'name', 'is', 'Simon'])"
   ]
  },
  {
   "cell_type": "markdown",
   "metadata": {},
   "source": [
    "Nótese que la cadena sobre la que se llama el método `join()` es insertada entre las cadenas de la lista del argumento. Por ejemplo, cuando `join(['cats', 'rats', 'bats'])` es llamado sobre la cadena `', '`, el valor retornado es `'cats, rats, bats'`."
   ]
  },
  {
   "cell_type": "markdown",
   "metadata": {},
   "source": [
    "Recordemos que `join()` es llamado sobre un valor cadena y se le pasa un valor  lista. (Es fácil, accidentalmente, usarlo de una manera contraria). El método `split()` hace lo opuesto, se llama sobre una cadena y retorna una lista de cadenas. Veamos el siguiente ejemplo:"
   ]
  },
  {
   "cell_type": "code",
   "execution_count": 1,
   "metadata": {},
   "outputs": [
    {
     "data": {
      "text/plain": [
       "['My', 'name', 'is', 'Simon']"
      ]
     },
     "execution_count": 1,
     "metadata": {},
     "output_type": "execute_result"
    }
   ],
   "source": [
    "'My name is Simon'.split()"
   ]
  },
  {
   "cell_type": "markdown",
   "metadata": {},
   "source": [
    "Por defecto, la cadena `'My name is Simon'` es dividida cuando un caracter de espacio, tabulación o de nueva línea es encontrado. Estos caracteres no son incluídos en la lista de cadenas resultante. Podemos pasar una cadena delimitadora al método `split()` para dividir sobre esta. Veamos el siguiente ejemplo:"
   ]
  },
  {
   "cell_type": "code",
   "execution_count": 9,
   "metadata": {},
   "outputs": [
    {
     "data": {
      "text/plain": [
       "['My', 'name', 'is', 'Simon']"
      ]
     },
     "execution_count": 9,
     "metadata": {},
     "output_type": "execute_result"
    }
   ],
   "source": [
    "'MyABCnameABCisABCSimon'.split('ABC')"
   ]
  },
  {
   "cell_type": "code",
   "execution_count": 4,
   "metadata": {},
   "outputs": [
    {
     "data": {
      "text/plain": [
       "['My na', 'e is Si', 'on']"
      ]
     },
     "execution_count": 4,
     "metadata": {},
     "output_type": "execute_result"
    }
   ],
   "source": [
    "'My name is Simon'.split('m')"
   ]
  },
  {
   "cell_type": "markdown",
   "metadata": {},
   "source": [
    "Un uso común de `split()` es dividir una cadena con múltiples líneas sobre el caracter de  nueva línea. Ingresemos el siguiente código en el shell interactivo. "
   ]
  },
  {
   "cell_type": "code",
   "execution_count": 5,
   "metadata": {},
   "outputs": [
    {
     "data": {
      "text/plain": [
       "['Dear Alice,',\n",
       " 'How have you been? I am fine.',\n",
       " 'There is a container in the fridge',\n",
       " 'that is labeled \"Milk Experiment\".',\n",
       " '',\n",
       " 'Please do not drink it.',\n",
       " 'Sincerely,',\n",
       " 'Bob']"
      ]
     },
     "execution_count": 5,
     "metadata": {},
     "output_type": "execute_result"
    }
   ],
   "source": [
    "spam = '''Dear Alice,\n",
    "How have you been? I am fine.\n",
    "There is a container in the fridge\n",
    "that is labeled \"Milk Experiment\".\n",
    "\n",
    "Please do not drink it.\n",
    "Sincerely,\n",
    "Bob'''\n",
    "\n",
    "spam.split('\\n')"
   ]
  },
  {
   "cell_type": "markdown",
   "metadata": {},
   "source": [
    "Pasar el argumento `'\\n'` a `split()` nos permite dividir la cadena multi-línea almacenada en `spam`, en cada salto de línea y retornar una lista de cadenas compuesta por cada línea de la cadena original."
   ]
  },
  {
   "cell_type": "markdown",
   "metadata": {},
   "source": [
    "### Justificando texto con `rjust()`, `ljust()` y `center()`"
   ]
  },
  {
   "cell_type": "markdown",
   "metadata": {},
   "source": [
    "Los métodos `rjust()` y `ljust()` retornan una cadena complementada con espacios en blanco sobre la cadena que se llamó con el objetivo de justificar el texto. El primer argumento de ambos métodos es un entero que corresponde a la longitud de la justificación. Veamos algunos ejemplos."
   ]
  },
  {
   "cell_type": "code",
   "execution_count": 6,
   "metadata": {},
   "outputs": [
    {
     "data": {
      "text/plain": [
       "'     Hello'"
      ]
     },
     "execution_count": 6,
     "metadata": {},
     "output_type": "execute_result"
    }
   ],
   "source": [
    "'Hello'.rjust(10)"
   ]
  },
  {
   "cell_type": "code",
   "execution_count": 7,
   "metadata": {},
   "outputs": [
    {
     "data": {
      "text/plain": [
       "'               Hello'"
      ]
     },
     "execution_count": 7,
     "metadata": {},
     "output_type": "execute_result"
    }
   ],
   "source": [
    "'Hello'.rjust(20)"
   ]
  },
  {
   "cell_type": "code",
   "execution_count": 8,
   "metadata": {},
   "outputs": [
    {
     "data": {
      "text/plain": [
       "'         Hello World'"
      ]
     },
     "execution_count": 8,
     "metadata": {},
     "output_type": "execute_result"
    }
   ],
   "source": [
    "'Hello World'.rjust(20)"
   ]
  },
  {
   "cell_type": "code",
   "execution_count": 9,
   "metadata": {},
   "outputs": [
    {
     "data": {
      "text/plain": [
       "'Hello     '"
      ]
     },
     "execution_count": 9,
     "metadata": {},
     "output_type": "execute_result"
    }
   ],
   "source": [
    "'Hello'.ljust(10)"
   ]
  },
  {
   "cell_type": "markdown",
   "metadata": {},
   "source": [
    "`'Hello'.rjust(10)` significa que queremos justificar a la derecha `'Hello'` en una cadena de longitud total 10. `'Hello'` es de 5 caracteres, así que se agregan cinco caracteres más hacia su izquierda, dándonos una cadena de 10 caracteres con `'Hello'` justificada a la derecha."
   ]
  },
  {
   "cell_type": "markdown",
   "metadata": {},
   "source": [
    "Un segundo argumento opcional para los métodos `rjust()` y `ljust()`, especifica un caracter de llenado diferente al caracter espacio."
   ]
  },
  {
   "cell_type": "code",
   "execution_count": 10,
   "metadata": {},
   "outputs": [
    {
     "data": {
      "text/plain": [
       "'---------------Hello'"
      ]
     },
     "execution_count": 10,
     "metadata": {},
     "output_type": "execute_result"
    }
   ],
   "source": [
    "'Hello'.rjust(20, '-')"
   ]
  },
  {
   "cell_type": "code",
   "execution_count": 11,
   "metadata": {},
   "outputs": [
    {
     "data": {
      "text/plain": [
       "'Hello...............'"
      ]
     },
     "execution_count": 11,
     "metadata": {},
     "output_type": "execute_result"
    }
   ],
   "source": [
    "'Hello'.ljust(20, '.')"
   ]
  },
  {
   "cell_type": "markdown",
   "metadata": {},
   "source": [
    "El método `center()` trabaja similarmente a `rjust()` y `ljust()` pero centra el texto en lugar de justificarlo a la derecha o a la izquierda."
   ]
  },
  {
   "cell_type": "code",
   "execution_count": 14,
   "metadata": {},
   "outputs": [
    {
     "data": {
      "text/plain": [
       "'       Hello        '"
      ]
     },
     "execution_count": 14,
     "metadata": {},
     "output_type": "execute_result"
    }
   ],
   "source": [
    "'Hello'.center(20)"
   ]
  },
  {
   "cell_type": "code",
   "execution_count": 15,
   "metadata": {},
   "outputs": [
    {
     "data": {
      "text/plain": [
       "'=======Hello========'"
      ]
     },
     "execution_count": 15,
     "metadata": {},
     "output_type": "execute_result"
    }
   ],
   "source": [
    "'Hello'.center(20, '=')"
   ]
  },
  {
   "cell_type": "markdown",
   "metadata": {},
   "source": [
    "Estos métodos son especialmente útiles cuando necesitamos imprimir datos tabulados con un adecuado uso del espacio. Veamos un ejemplo:"
   ]
  },
  {
   "cell_type": "code",
   "execution_count": 12,
   "metadata": {},
   "outputs": [
    {
     "name": "stdout",
     "output_type": "stream",
     "text": [
      "---PICNIC ITEMS--\n",
      "sandwiches..    4\n",
      "apples......   12\n",
      "cups........    4\n",
      "cookies..... 8000\n",
      "-------PICNIC ITEMS-------\n",
      "sandwiches..........     4\n",
      "apples..............    12\n",
      "cups................     4\n",
      "cookies.............  8000\n"
     ]
    }
   ],
   "source": [
    "def PrintPicnic(itemsDict, leftWidth, rightWidth):\n",
    "    print('PICNIC ITEMS'.center(leftWidth + rightWidth, '-'))\n",
    "    for k,v in itemsDict.items():\n",
    "        print(k.ljust(leftWidth, '.') + str(v).rjust(rightWidth))\n",
    "        \n",
    "picnicItems = {'sandwiches': 4, 'apples': 12, 'cups': 4, 'cookies': 8000}\n",
    "PrintPicnic(picnicItems, 12, 5)\n",
    "PrintPicnic(picnicItems, 20, 6)"
   ]
  },
  {
   "cell_type": "markdown",
   "metadata": {},
   "source": [
    "En este pequeño programa, definimos un método llamado `printPicnic()` que recibirá un diccionario con información sobre los articulos del picnic. Usa `center()`, `ljust()` y `rjust()` para mostrar la información a manera de tabla con una apariencia alienada.\n",
    "\n",
    "El diccionario que le pasamos a `printPicnic()` es `picnicItems`. En `picnicItems`, tenemos 4 sandwiches, 12 apples, 4 cups y 8000 cookies. Deseamos organizar esta información en dos columnas, siendo el nombre del item en la columna de la izquierda y la cantidad en la columna de la derecha. Para esto, decidimos qué tan amplia es la columna de la derecha y la izquierda. Junto con el diccionario, le pasamos estos datos a `printPicnic()`.\n",
    "`printPicnic()` recibe `picnicItems`, `leftWidth` y `rightWidth` que corresponden, respectivamente, al ancho de la columna de la izquierda y derecha. \n",
    "\n",
    "Adicionalmente, imprime el título `'PICNIC ITEMS'` centrado sobre la tabla. Luego itera a lo largo del diccionario imprimiendo cada pareja llave-valor en una línea. Siendo el valor de la llave justificada a la izquierda complementado con puntos, y el valor que denota la cantidad justificado a la derecha complementado con espacios.\n",
    "\n",
    "Después de definir `printPicnic()`, definimos el diccionario `picnicItems` y llamamos `printPicnic()` dos veces, pasándole dos valores de ancho diferentes para la columna de la izquierda y la derecha.\n",
    "\n",
    "Cuando corremos este programa, los items son mostrados dos veces. La primera vez, la columna de la izquierda tiene un ancho de 12 caracteres y la columna de la izquierda un ancho de 5 caracteres. En el segundo llamado, estas columnas tienen un ancho de 20 y 6 caracteres, respectivamente.\n",
    "\n",
    "Al usar `rjust()`, `ljust()` y `center()`, garantizamos que al momento de imprimir cadenas, estas se vean alineadas incluso si no conocemos el tamaño de las mismas."
   ]
  },
  {
   "cell_type": "markdown",
   "metadata": {},
   "source": [
    "### Removiendo espacios en blanco mediante los métodos `strip()`, `rstrip()` y `lstrip()`"
   ]
  },
  {
   "cell_type": "markdown",
   "metadata": {},
   "source": [
    "En ocasiones deseamos remover espacios en blanco, tabulaciones o caracteres de nueva línea a la izquierda, la derecha o a ambos lados de una cadena. El método `strip()` retornará una nueva cadena sin ningún caracter de espacio en blanco al principio o al final de la cadena sobre la que se llame. Los métodos `lstrip()` y `rstrip()` removerán caracteres de espacio en blanco a la izquierda y la derecha, respectivamente."
   ]
  },
  {
   "cell_type": "code",
   "execution_count": 1,
   "metadata": {},
   "outputs": [
    {
     "data": {
      "text/plain": [
       "'Hello World'"
      ]
     },
     "execution_count": 1,
     "metadata": {},
     "output_type": "execute_result"
    }
   ],
   "source": [
    "spam = '     Hello World    '\n",
    "spam.strip()"
   ]
  },
  {
   "cell_type": "code",
   "execution_count": 2,
   "metadata": {},
   "outputs": [
    {
     "data": {
      "text/plain": [
       "'Hello World    '"
      ]
     },
     "execution_count": 2,
     "metadata": {},
     "output_type": "execute_result"
    }
   ],
   "source": [
    "spam.lstrip()"
   ]
  },
  {
   "cell_type": "code",
   "execution_count": 3,
   "metadata": {},
   "outputs": [
    {
     "data": {
      "text/plain": [
       "'     Hello World'"
      ]
     },
     "execution_count": 3,
     "metadata": {},
     "output_type": "execute_result"
    }
   ],
   "source": [
    "spam.rstrip()"
   ]
  },
  {
   "cell_type": "markdown",
   "metadata": {},
   "source": [
    "Opcionalmente, se le puede pasar una cadena como argumento, la cual especifica qué caracteres deben remover al principio y al final de la cadena sobre la que se llamó el método."
   ]
  },
  {
   "cell_type": "code",
   "execution_count": 13,
   "metadata": {},
   "outputs": [
    {
     "data": {
      "text/plain": [
       "'BaconSpamEggs'"
      ]
     },
     "execution_count": 13,
     "metadata": {},
     "output_type": "execute_result"
    }
   ],
   "source": [
    "spam = 'SpamSpamBaconSpamEggsSpamSpam'\n",
    "spam.strip('mapS')"
   ]
  },
  {
   "cell_type": "markdown",
   "metadata": {},
   "source": [
    "Pasarle `'ampS'` como argumento a `strip()`hará que todas las ocurrencias de `a`, `m`, `p` y `S` en mayúscula, al principio o al final de la cadena almacenada en `spam`, sean removidas. El orden de los caracteres en la cadena pasada como argumento no tiene importancia: `strip('ampS')` hará lo mismo que `strip('mapS')` o `strip('Spam')`."
   ]
  },
  {
   "cell_type": "markdown",
   "metadata": {},
   "source": [
    "### Copiar y pegar cadenas con el módulo  `pyperclip`"
   ]
  },
  {
   "cell_type": "markdown",
   "metadata": {},
   "source": [
    "El módulo `pyperclip` tiene unas funciones `copy()` y `paste()` que pueden enviar y recibir texto al portapapeles del computador. Mandar la salida de un programa hará más fácil usarla para copiarla en un email, procesador de palabras o algún otro software."
   ]
  },
  {
   "cell_type": "markdown",
   "metadata": {},
   "source": [
    "`pyperclip` no se encuentra instalado por defecto en la lista de paquetes de Anaconda. Para instalarlo, usaremos el siguiente procedimiento. En la consola de la aplicación Anaconda, copiamos el siguiente código"
   ]
  },
  {
   "cell_type": "markdown",
   "metadata": {},
   "source": [
    "`conda install -c conda-forge pyperclip`"
   ]
  },
  {
   "cell_type": "code",
   "execution_count": 15,
   "metadata": {},
   "outputs": [
    {
     "name": "stdout",
     "output_type": "stream",
     "text": [
      "Requirement already satisfied: pyperclip in /home/thomy/anaconda3/lib/python3.7/site-packages (1.7.0)\r\n"
     ]
    }
   ],
   "source": [
    "!pip install pyperclip"
   ]
  },
  {
   "cell_type": "code",
   "execution_count": 20,
   "metadata": {},
   "outputs": [
    {
     "data": {
      "text/plain": [
       "'Hola mundo'"
      ]
     },
     "execution_count": 20,
     "metadata": {},
     "output_type": "execute_result"
    }
   ],
   "source": [
    "import pyperclip\n",
    "spam = 'Hola mundo'\n",
    "pyperclip.copy(spam)\n",
    "pyperclip.paste()"
   ]
  },
  {
   "cell_type": "markdown",
   "metadata": {},
   "source": [
    "Desde luego, si alguna aplicación por fuera de nuestro programa cambia el contenido del portapapeles, la función `paste()` retornará ese contenido. `Por ejemplo, si copio esta oración en el portapapeles, y luego llamo a la función `paste()`, lucirá así.`"
   ]
  },
  {
   "cell_type": "code",
   "execution_count": 22,
   "metadata": {},
   "outputs": [
    {
     "data": {
      "text/plain": [
       "'Desde luego, si alguna aplicación por fuera de nuestro programa cambia el contenido del portapapeles, la función paste() retornará ese contenido. Por ejemplo, si copio esta oración en el portapapeles, y luego llamo a la funciónpaste(), lucirá así.'"
      ]
     },
     "execution_count": 22,
     "metadata": {},
     "output_type": "execute_result"
    }
   ],
   "source": [
    "pyperclip.paste()"
   ]
  },
  {
   "cell_type": "markdown",
   "metadata": {},
   "source": [
    "## Proyecto: Gestor de contraseñas"
   ]
  },
  {
   "cell_type": "markdown",
   "metadata": {},
   "source": [
    "Es probable que tengamos cuentas en diferentes sitios web. Es un mal hábito usar la misma contraseña para cada uno de ellos debido a que, si alguno de estos sitios tiene una violación de seguridad, los hackers obtendrán la contraseña de todos las demás cuentas. Una buena práctica es usar un gestor de contraseñas, en nuestro computador que use una única contraseña. Así podemos copiar cualquier contraseña de una determinada cuenta y usarla en el sitio web. El gestor de contraseñas que crearemos en este proyecto no es seguro, pero ofrece una demostración básica de cómo estos programas funcionan."
   ]
  },
  {
   "cell_type": "markdown",
   "metadata": {},
   "source": [
    "### Paso 1: Diseño del programa y estructuras de datos"
   ]
  },
  {
   "cell_type": "markdown",
   "metadata": {},
   "source": [
    "Deseamos poder correr el programa con un argumento mediante línea de comando, el argumento sería el nombre de la cuenta, por ejemplo *email* o *blog*. La contraseña de esa cuenta se copiará en el portapapeles de tal forma que el usuario pueda tener contraseñas largas y complejas sin necesidad de memorizarlas."
   ]
  },
  {
   "cell_type": "markdown",
   "metadata": {},
   "source": [
    "Abramos un editor de código y guardemos el el archivo como `pw.py`. Debemos empezar el programa con una línea `#! Python 3`, en la línea siguiente también deberíamos escribir un breve comentario sobre la utilidad de nuestro programa. Dado que deseamos asociar cada cuenta con su contraseña, podemos almacenar estos datos como cadenas en un  diccionario. El diccionario será la estructura de datos que organiza la información de cuenta y contraseña. Hasta ahora el programa lucirá de la siguiente manara:"
   ]
  },
  {
   "cell_type": "code",
   "execution_count": null,
   "metadata": {},
   "outputs": [],
   "source": [
    "#! python3\n",
    "# Un gestor de contraseña inseguro\n",
    "\n",
    "PASSWORDS = {'email': 'F7minlBDDuvMJuxESSKHFhTxFtjVB6',\n",
    "             'blog': 'VmALvQyKAxiVH5G8v01if1MLZF3sdt',\n",
    "             'luggage': '12345'}"
   ]
  },
  {
   "cell_type": "markdown",
   "metadata": {},
   "source": [
    "### Paso2: Manejar los argumentos de la línea de comando"
   ]
  },
  {
   "cell_type": "markdown",
   "metadata": {},
   "source": [
    "Los argumentos de la línea de comando se almacenan en la variable `sys.argv`. El primer item en la lista de `sys.argv` debería ser siempre una cadena que contiene el nombre del programa (`pw.py`), y el segundo item , debería ser el primer argumento de la línea de comando. Para nuestro programa, este argumento debería ser el nombre de la cuenta para la cual necesitamos la contraseña. Dado que el argumento de la línea de comando es obligatorio, mostraremos un mensaje al usuario en caso de que olvide agregarlo (es decir, si `sys.argv` tiene menos de dos valores en él.). Veamos cómo queda:"
   ]
  },
  {
   "cell_type": "code",
   "execution_count": null,
   "metadata": {},
   "outputs": [],
   "source": [
    "#! python3\n",
    "# Un gestor de contraseña inseguro\n",
    "\n",
    "PASSWORDS = {'email': 'F7minlBDDuvMJuxESSKHFhTxFtjVB6',\n",
    "             'blog': 'VmALvQyKAxiVH5G8v01if1MLZF3sdt',\n",
    "             'luggage': '12345'}\n",
    "\n",
    "import sys\n",
    "if len(sys.argv) < 2:\n",
    "    print('Modo de uso: python pw.py [account] - copia la contraseña de la cuenta')\n",
    "    sys.exit()\n",
    "    \n",
    "account = sys.argv[1]    # El primer argumento de la línea de comando es la cuenta.    "
   ]
  },
  {
   "cell_type": "markdown",
   "metadata": {},
   "source": [
    "### Paso 3: Copiar la contraseña correcta"
   ]
  },
  {
   "cell_type": "markdown",
   "metadata": {},
   "source": [
    "Ahora que el nombre de la cuenta está almacenado como una cadena en la variable `account`, necesitamos determinar si ésta existe en el diccionario `PASSWORDS` como llave. Si existe, copiamos la contraseña en el portapapeles usando `pyperclip.copy()`. (Dado que vamos a usar el módulo `pyperclip`, debemos importarlo). Nótese que, de hecho, no se necesita la variable `account`; podríamos haber usado `sys.argv[1]` en cualquier parte donde `account` sea usada en el programa. Pero usar una variable llamada account hace más legible y entendible el código que algo tan críptico como `sys.argv[1]`. Ahora el programa luce de la siguiente manera:"
   ]
  },
  {
   "cell_type": "code",
   "execution_count": null,
   "metadata": {},
   "outputs": [],
   "source": [
    "#! /usr/bin/python3\n",
    "# Un gestor de contraseña inseguro\n",
    "\n",
    "PASSWORDS = {'email': 'F7minlBDDuvMJuxESSKHFhTxFtjVB6',\n",
    "             'blog': 'VmALvQyKAxiVH5G8v01if1MLZF3sdt',\n",
    "             'luggage': '12345'}\n",
    "\n",
    "import sys, pyperclip\n",
    "\n",
    "if len(sys.argv) < 2:\n",
    "    print('Modo de uso: python pw.py [account] - copia la contraseña de la cuenta')\n",
    "    sys.exit()\n",
    "    \n",
    "account = sys.argv[1]    # El primer argumento de la línea de comando es la cuenta.\n",
    "\n",
    "if account in PASSWORDS:\n",
    "    pyperclip.copy(PASSWORDS[account])\n",
    "    print('La contraseña para ' + account + ' fue copiada en el portapapeles.')\n",
    "else:\n",
    "    print('No existe una cuenta llamada ' + account)"
   ]
  },
  {
   "cell_type": "markdown",
   "metadata": {},
   "source": [
    "Este nuevo código busca en el diccionario `PASSWORDS` el nombre de la cuenta. Si el nombre de la cuenta es una llave en el diccionario, obtenemos el valor correspondiente a esa llave, lo copiamos en el portapapeles e imprimimos el mensaje que hemos copiado el código. De lo contrario, imprimimos un mensaje diciendo que no hay una cuenta con ese nombre."
   ]
  },
  {
   "cell_type": "markdown",
   "metadata": {},
   "source": [
    "Ese es el script completo. Ahora tenemos una fácil y rápida manera de copiar la contraseña de una cuenta al portapapeles. Cada vez que deseemos agregar una nueva cuenta al programa, debemos actualizar el diccionario `PASSWORDS` con esa nueva entrada."
   ]
  },
  {
   "cell_type": "markdown",
   "metadata": {},
   "source": [
    "Desde luego que no queremos guardar todas las contraseñas en un único lugar donde cualquiera podría copiarlas. No obstante, podemos modificar este programa para, rápidamente, copiar texto en el portapapeles. Por ejemplo, si tenemos que enviar varios correos con diferentes párrafos en común. Podíamos poner cada párrafo como un valor en el diccionario `PASSWORDS` (tal vez en este punto deseemos renombrar el diccionario), y de esta manera tendríamos una manera de rápida de seleccionar y copiar una de esas piezas estandard de texto al portapapeles."
   ]
  },
  {
   "cell_type": "markdown",
   "metadata": {},
   "source": [
    "Sobre Windows, podemos crear un archivo batch que corra este programa con la ventana de ejecutar Win + R. Escibamos lo siguiente en un editor de texto y guardémoslo como pw.bat en la carpeta  *C:\\Windows*"
   ]
  },
  {
   "cell_type": "code",
   "execution_count": null,
   "metadata": {},
   "outputs": [],
   "source": [
    "@py.exe C:\\Python3.7\\pw.py\n",
    "@pause"
   ]
  },
  {
   "cell_type": "markdown",
   "metadata": {},
   "source": [
    "Con la creación de este archivo batch, correr el gestor de contraseñas sobre Windows es cuestión de presionar Win + R y copiar `pw <nombre de la cuenta>`."
   ]
  }
 ],
 "metadata": {
  "kernelspec": {
   "display_name": "Python 3",
   "language": "python",
   "name": "python3"
  },
  "language_info": {
   "codemirror_mode": {
    "name": "ipython",
    "version": 3
   },
   "file_extension": ".py",
   "mimetype": "text/x-python",
   "name": "python",
   "nbconvert_exporter": "python",
   "pygments_lexer": "ipython3",
   "version": "3.7.4"
  },
  "toc": {
   "base_numbering": 1,
   "nav_menu": {},
   "number_sections": true,
   "sideBar": true,
   "skip_h1_title": false,
   "title_cell": "Manipulando Cadenas de Caracteres",
   "title_sidebar": "Contenidos",
   "toc_cell": true,
   "toc_position": {
    "height": "calc(100% - 180px)",
    "left": "10px",
    "top": "150px",
    "width": "254px"
   },
   "toc_section_display": true,
   "toc_window_display": true
  }
 },
 "nbformat": 4,
 "nbformat_minor": 2
}
