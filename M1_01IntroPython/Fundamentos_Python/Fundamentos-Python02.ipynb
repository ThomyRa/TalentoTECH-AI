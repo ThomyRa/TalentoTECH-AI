{
 "cells": [
  {
   "cell_type": "markdown",
   "metadata": {
    "toc": true
   },
   "source": [
    "<h1>Control de Flujo<span class=\"tocSkip\"></span></h1>\n",
    "<div class=\"toc\"><ul class=\"toc-item\"><li><span><a href=\"#Valores-Boleanos\" data-toc-modified-id=\"Valores-Boleanos-1\"><span class=\"toc-item-num\">1&nbsp;&nbsp;</span>Valores Boleanos</a></span></li><li><span><a href=\"#Operadores-de-Comparación\" data-toc-modified-id=\"Operadores-de-Comparación-2\"><span class=\"toc-item-num\">2&nbsp;&nbsp;</span>Operadores de Comparación</a></span></li><li><span><a href=\"#Operadores-Boleanos\" data-toc-modified-id=\"Operadores-Boleanos-3\"><span class=\"toc-item-num\">3&nbsp;&nbsp;</span>Operadores Boleanos</a></span><ul class=\"toc-item\"><li><span><a href=\"#Operadores-binarios-Booleanos\" data-toc-modified-id=\"Operadores-binarios-Booleanos-3.1\"><span class=\"toc-item-num\">3.1&nbsp;&nbsp;</span>Operadores binarios Booleanos</a></span></li><li><span><a href=\"#El-operador-not\" data-toc-modified-id=\"El-operador-not-3.2\"><span class=\"toc-item-num\">3.2&nbsp;&nbsp;</span>El operador <code>not</code></a></span></li><li><span><a href=\"#Mezclando-operadores-Booleanos-y-operadores-de-comparación\" data-toc-modified-id=\"Mezclando-operadores-Booleanos-y-operadores-de-comparación-3.3\"><span class=\"toc-item-num\">3.3&nbsp;&nbsp;</span>Mezclando operadores Booleanos y operadores de comparación</a></span></li></ul></li><li><span><a href=\"#Elementos-de-control-de-flujo\" data-toc-modified-id=\"Elementos-de-control-de-flujo-4\"><span class=\"toc-item-num\">4&nbsp;&nbsp;</span>Elementos de control de flujo</a></span><ul class=\"toc-item\"><li><span><a href=\"#Condiciones\" data-toc-modified-id=\"Condiciones-4.1\"><span class=\"toc-item-num\">4.1&nbsp;&nbsp;</span>Condiciones</a></span></li><li><span><a href=\"#Bloques-de-código\" data-toc-modified-id=\"Bloques-de-código-4.2\"><span class=\"toc-item-num\">4.2&nbsp;&nbsp;</span>Bloques de código</a></span></li></ul></li><li><span><a href=\"#Ejecución-del-Programa\" data-toc-modified-id=\"Ejecución-del-Programa-5\"><span class=\"toc-item-num\">5&nbsp;&nbsp;</span>Ejecución del Programa</a></span></li><li><span><a href=\"#Estamentos-de-control-de-flujo\" data-toc-modified-id=\"Estamentos-de-control-de-flujo-6\"><span class=\"toc-item-num\">6&nbsp;&nbsp;</span>Estamentos de control de flujo</a></span><ul class=\"toc-item\"><li><span><a href=\"#Estamentos-if\" data-toc-modified-id=\"Estamentos-if-6.1\"><span class=\"toc-item-num\">6.1&nbsp;&nbsp;</span>Estamentos <code>if</code></a></span></li><li><span><a href=\"#Estamentos-else\" data-toc-modified-id=\"Estamentos-else-6.2\"><span class=\"toc-item-num\">6.2&nbsp;&nbsp;</span>Estamentos <code>else</code></a></span></li><li><span><a href=\"#Estementos-elif\" data-toc-modified-id=\"Estementos-elif-6.3\"><span class=\"toc-item-num\">6.3&nbsp;&nbsp;</span>Estementos <code>elif</code></a></span></li><li><span><a href=\"#Estamentos-de-repetición-while\" data-toc-modified-id=\"Estamentos-de-repetición-while-6.4\"><span class=\"toc-item-num\">6.4&nbsp;&nbsp;</span>Estamentos de repetición <code>while</code></a></span></li><li><span><a href=\"#Estamentos-break\" data-toc-modified-id=\"Estamentos-break-6.5\"><span class=\"toc-item-num\">6.5&nbsp;&nbsp;</span>Estamentos <code>break</code></a></span></li><li><span><a href=\"#Estamentos-continue\" data-toc-modified-id=\"Estamentos-continue-6.6\"><span class=\"toc-item-num\">6.6&nbsp;&nbsp;</span>Estamentos <code>continue</code></a></span></li><li><span><a href=\"#Ciclo-for-y-la-función-range()\" data-toc-modified-id=\"Ciclo-for-y-la-función-range()-6.7\"><span class=\"toc-item-num\">6.7&nbsp;&nbsp;</span>Ciclo <code>for</code> y la función <code>range()</code></a></span></li><li><span><a href=\"#Un-ciclo-while-equivalente\" data-toc-modified-id=\"Un-ciclo-while-equivalente-6.8\"><span class=\"toc-item-num\">6.8&nbsp;&nbsp;</span>Un ciclo <code>while</code> equivalente</a></span></li><li><span><a href=\"#Los-argumentos-de-inicio,-parada-y-el-paso-de-la-función-range()\" data-toc-modified-id=\"Los-argumentos-de-inicio,-parada-y-el-paso-de-la-función-range()-6.9\"><span class=\"toc-item-num\">6.9&nbsp;&nbsp;</span>Los argumentos de inicio, parada y el paso de la función <code>range()</code></a></span></li><li><span><a href=\"#Importando-Módulos\" data-toc-modified-id=\"Importando-Módulos-6.10\"><span class=\"toc-item-num\">6.10&nbsp;&nbsp;</span>Importando Módulos</a></span></li><li><span><a href=\"#Estamentos-from-import\" data-toc-modified-id=\"Estamentos-from-import-6.11\"><span class=\"toc-item-num\">6.11&nbsp;&nbsp;</span>Estamentos <code>from</code> <code>import</code></a></span></li></ul></li><li><span><a href=\"#Terminar-un-programa-prematuramente-usando-sys.exit()\" data-toc-modified-id=\"Terminar-un-programa-prematuramente-usando-sys.exit()-7\"><span class=\"toc-item-num\">7&nbsp;&nbsp;</span>Terminar un programa prematuramente usando <code>sys.exit()</code></a></span></li></ul></div>"
   ]
  },
  {
   "cell_type": "markdown",
   "metadata": {},
   "source": [
    "# Control de Flujo"
   ]
  },
  {
   "cell_type": "markdown",
   "metadata": {},
   "source": [
    "Hasta ahora ya conocemos varias instrucciones básicas y que un programa es una serie de instrucciones, pero la verdadera fortaleza en la programación no radica en simplemente *correr* o ejecutar instrucción tras instrucción mecánicamente. Basados en cómo se evalúan las expresiones, el programa puede decidir si se salta instrucciones, las repite o selecciona una de un grupo determinado. Los **estamentos de control de flujo** pueden decidir qué instrucciones ejecuta Python bajo qué condiciones."
   ]
  },
  {
   "cell_type": "markdown",
   "metadata": {},
   "source": [
    "Estos estamentos de control de flujo, están relacionados con los símbolos de un diagrama de flujo, en este módulo del curso se suministrarán los diagramas de flujo del código aquí analizado. La siguiente figura muestra el diagrama de flujo de qué hacer si está lloviendo. Siga el camino marcado por las flechas desde el principio hasta el final."
   ]
  },
  {
   "cell_type": "markdown",
   "metadata": {},
   "source": [
    "<img src=\"https://i.imgur.com/rxFi0oO.png\" width=\"500\">"
   ]
  },
  {
   "cell_type": "markdown",
   "metadata": {},
   "source": [
    "En un diagrama de flujo, usualmente, hay más de un camino para recorrerlo desde el principio hasta el final. Los diagramas de flujo representan estas divisiones en los caminos usando rombos, mientras que los otros pasos se representan con rectángulos; el principio y el final, se presentan mediante rectángulos con bordes curvos. Antes de iniciar con los estamentos de control de flujo, primero debemos saber cómo representar las opciones del *si* y el *no* de cara entender, cómo se representan estas decisiones en Python. Con ese propósito exploremos los valores Boleanos, los operadores de comparación y los operadores Boleanos."
   ]
  },
  {
   "cell_type": "markdown",
   "metadata": {},
   "source": [
    "## Valores Boleanos"
   ]
  },
  {
   "cell_type": "markdown",
   "metadata": {},
   "source": [
    "Mientras los tipos de datos enteros, de punto flotante y las cadenas, pueden tomar un número infinito de posibles valores, el tipo de dato **Boleano** sólo tiene dos valores: `True` y `False`. Cuando escribimos los valores `True` y `False` a diferencia de las cadenas, se hace sin comillas, empezando siempre con la *T* y la *F* en mayúscula y el resto de la palabra en letras minúsculas. Ingrese las siguientes instrucciones en el shell interactivo."
   ]
  },
  {
   "cell_type": "code",
   "execution_count": 1,
   "metadata": {},
   "outputs": [
    {
     "data": {
      "text/plain": [
       "True"
      ]
     },
     "execution_count": 1,
     "metadata": {},
     "output_type": "execute_result"
    }
   ],
   "source": [
    "# Celda 1\n",
    "spam = True\n",
    "spam"
   ]
  },
  {
   "cell_type": "code",
   "execution_count": 2,
   "metadata": {},
   "outputs": [
    {
     "ename": "NameError",
     "evalue": "name 'true' is not defined",
     "output_type": "error",
     "traceback": [
      "\u001b[0;31m---------------------------------------------------------------------------\u001b[0m",
      "\u001b[0;31mNameError\u001b[0m                                 Traceback (most recent call last)",
      "\u001b[0;32m<ipython-input-2-a081b6c31332>\u001b[0m in \u001b[0;36m<module>\u001b[0;34m()\u001b[0m\n\u001b[1;32m      1\u001b[0m \u001b[0;31m# Celda 2\u001b[0m\u001b[0;34m\u001b[0m\u001b[0;34m\u001b[0m\u001b[0m\n\u001b[0;32m----> 2\u001b[0;31m \u001b[0mtrue\u001b[0m\u001b[0;34m\u001b[0m\u001b[0m\n\u001b[0m",
      "\u001b[0;31mNameError\u001b[0m: name 'true' is not defined"
     ]
    }
   ],
   "source": [
    "# Celda 2\n",
    "true"
   ]
  },
  {
   "cell_type": "code",
   "execution_count": null,
   "metadata": {},
   "outputs": [],
   "source": [
    "# Celda 3\n",
    "True = 2  2"
   ]
  },
  {
   "cell_type": "markdown",
   "metadata": {},
   "source": [
    "Como cualquier otro valor, los valores Boleanos son usados en expresiones y pueden ser almacenados en variables (Celda 1). Si no se usa apropiadamente las mayúsculas y las minúsculas (Celda 2) o se tratan de usar `True` o `False` como nombres de variables(Celda 3), Python mostrará un mensaje de error."
   ]
  },
  {
   "cell_type": "markdown",
   "metadata": {},
   "source": [
    "## Operadores de Comparación"
   ]
  },
  {
   "cell_type": "markdown",
   "metadata": {},
   "source": [
    "Los **operadores de comparación**, como su nombre lo indica, compara dos valores y se evalúan a un único valor Boleano."
   ]
  },
  {
   "cell_type": "markdown",
   "metadata": {},
   "source": [
    "<img src=\"https://i.imgur.com/2HK8o1V.png\" width=\"300\">\n"
   ]
  },
  {
   "cell_type": "markdown",
   "metadata": {},
   "source": [
    "Estos operadores se evalúan a `True` o `False` dependiendo de los valores que se les dé. Probemos algunos apoeradores, empecemos con `==` y `!=`"
   ]
  },
  {
   "cell_type": "code",
   "execution_count": null,
   "metadata": {},
   "outputs": [],
   "source": [
    "42 == 42"
   ]
  },
  {
   "cell_type": "code",
   "execution_count": null,
   "metadata": {},
   "outputs": [],
   "source": [
    "42 == 49"
   ]
  },
  {
   "cell_type": "code",
   "execution_count": null,
   "metadata": {},
   "outputs": [],
   "source": [
    "2 != 3"
   ]
  },
  {
   "cell_type": "code",
   "execution_count": null,
   "metadata": {},
   "outputs": [],
   "source": [
    "2 != 2"
   ]
  },
  {
   "cell_type": "markdown",
   "metadata": {},
   "source": [
    "Como era de esperarse, el operador Booleano `==` (igual que), retorna un `True` cuando los valores en ambos lados son iguales. El operador Booleano `!=` (no igual que) retorna un `True` cuando los valores en ambos lados son diferentes. Los operadores de comparación `==` y `!=` son utilizados para valores de cualquier tipo de dato."
   ]
  },
  {
   "cell_type": "code",
   "execution_count": null,
   "metadata": {},
   "outputs": [],
   "source": [
    "'hello' == 'hello'"
   ]
  },
  {
   "cell_type": "code",
   "execution_count": null,
   "metadata": {},
   "outputs": [],
   "source": [
    "'hello' == 'Hello'"
   ]
  },
  {
   "cell_type": "code",
   "execution_count": null,
   "metadata": {},
   "outputs": [],
   "source": [
    "'dog' != 'cat'"
   ]
  },
  {
   "cell_type": "code",
   "execution_count": null,
   "metadata": {},
   "outputs": [],
   "source": [
    "True == True"
   ]
  },
  {
   "cell_type": "code",
   "execution_count": null,
   "metadata": {},
   "outputs": [],
   "source": [
    "True != False"
   ]
  },
  {
   "cell_type": "code",
   "execution_count": null,
   "metadata": {},
   "outputs": [],
   "source": [
    "42 == 42.0"
   ]
  },
  {
   "cell_type": "code",
   "execution_count": null,
   "metadata": {},
   "outputs": [],
   "source": [
    "42 == '42'"
   ]
  },
  {
   "cell_type": "markdown",
   "metadata": {},
   "source": [
    "Nótese que un número entero o un número de punto flotante, nunca será igual a una cadena de caracteres. La expresión `42 == ‘42’` retorna un `False` dado que Pyhton considera que el entero `42` es diferente a la cadena `‘42’`.  Por otro lado, los operadores `>`, `<`, `>=` y`<=` funcionan adecuada y únicamente con valores enteros o de punto flotante."
   ]
  },
  {
   "cell_type": "code",
   "execution_count": null,
   "metadata": {},
   "outputs": [],
   "source": [
    "42 < 100"
   ]
  },
  {
   "cell_type": "code",
   "execution_count": null,
   "metadata": {},
   "outputs": [],
   "source": [
    "42 > 100"
   ]
  },
  {
   "cell_type": "code",
   "execution_count": null,
   "metadata": {},
   "outputs": [],
   "source": [
    "# Celda 1\n",
    "eggcount = 42\n",
    "eggcount <= 42"
   ]
  },
  {
   "cell_type": "code",
   "execution_count": null,
   "metadata": {},
   "outputs": [],
   "source": [
    "myAge = 29\n",
    "myAge >= 10"
   ]
  },
  {
   "cell_type": "markdown",
   "metadata": {},
   "source": [
    "Durante este curso vamos a usar frecuentemente los operadores de comparación con el objetivo de comparar los valores almacenados en una variable con otro valor como en las expresiones `eggcount <= 42` y `myAge >= 10`. Veremos más ejemplos a medida que nos adentramos más en los estamentos de control de flujo."
   ]
  },
  {
   "cell_type": "markdown",
   "metadata": {},
   "source": [
    "## Operadores Boleanos"
   ]
  },
  {
   "cell_type": "markdown",
   "metadata": {},
   "source": [
    "Los tres operadores Booleanos `and`, `or` y `not` son usados para comparar valores Booleanos. De la misma manera como los operadores de comparación se evalúan a un único valor, los operadores Booleanos, también retornarán un valor Booleano."
   ]
  },
  {
   "cell_type": "markdown",
   "metadata": {},
   "source": [
    "### Operadores binarios Booleanos"
   ]
  },
  {
   "cell_type": "markdown",
   "metadata": {},
   "source": [
    "Los operadores `and` y`or` siempre toman dos valores Booleanos o dos expresiones, por eso se conocen como operadores binarios. El operador `and` retorna un `True` cuando *ambos* valores son `True`, de lo contrario, retorna un `False`. Ingrese algunas expresiones en el shell interactivo para ver esto en funcionamiento."
   ]
  },
  {
   "cell_type": "code",
   "execution_count": 3,
   "metadata": {},
   "outputs": [
    {
     "data": {
      "text/plain": [
       "True"
      ]
     },
     "execution_count": 3,
     "metadata": {},
     "output_type": "execute_result"
    }
   ],
   "source": [
    "True and True"
   ]
  },
  {
   "cell_type": "code",
   "execution_count": 4,
   "metadata": {},
   "outputs": [
    {
     "data": {
      "text/plain": [
       "False"
      ]
     },
     "execution_count": 4,
     "metadata": {},
     "output_type": "execute_result"
    }
   ],
   "source": [
    "True and False"
   ]
  },
  {
   "cell_type": "markdown",
   "metadata": {},
   "source": [
    "La *tabla de la verdad* del operador `and` muestra todos sus posibles resultados. "
   ]
  },
  {
   "cell_type": "markdown",
   "metadata": {},
   "source": [
    "<img src=\"https://i.imgur.com/DfEe3WC.png\" width=\"350\">"
   ]
  },
  {
   "cell_type": "markdown",
   "metadata": {},
   "source": [
    "Por otro lado, el operador `or` retorna un `True` si uno de los dos valores Booleanos es `True`. Si ambos valores son `False`, éste retorna un `False`. "
   ]
  },
  {
   "cell_type": "code",
   "execution_count": 6,
   "metadata": {},
   "outputs": [
    {
     "data": {
      "text/plain": [
       "True"
      ]
     },
     "execution_count": 6,
     "metadata": {},
     "output_type": "execute_result"
    }
   ],
   "source": [
    "False or True"
   ]
  },
  {
   "cell_type": "code",
   "execution_count": 7,
   "metadata": {},
   "outputs": [
    {
     "data": {
      "text/plain": [
       "False"
      ]
     },
     "execution_count": 7,
     "metadata": {},
     "output_type": "execute_result"
    }
   ],
   "source": [
    "False or False"
   ]
  },
  {
   "cell_type": "markdown",
   "metadata": {},
   "source": [
    "Podemos ver todos los posibles resultados del operador `or` en la siguiente tabla de verdad."
   ]
  },
  {
   "cell_type": "markdown",
   "metadata": {},
   "source": [
    "<img src=\"https://i.imgur.com/kNdgrkz.png\" width=\"350\">"
   ]
  },
  {
   "cell_type": "markdown",
   "metadata": {},
   "source": [
    "### El operador `not`"
   ]
  },
  {
   "cell_type": "markdown",
   "metadata": {},
   "source": [
    "A diferencia de los operadores `and` y `or`, el operador `not` se usa únicamente con un sólo valor o expresión. El operador `not`, simplemente retorna el valor opuesto o *negado*n del valor ingresado."
   ]
  },
  {
   "cell_type": "code",
   "execution_count": 8,
   "metadata": {},
   "outputs": [
    {
     "data": {
      "text/plain": [
       "False"
      ]
     },
     "execution_count": 8,
     "metadata": {},
     "output_type": "execute_result"
    }
   ],
   "source": [
    "not True"
   ]
  },
  {
   "cell_type": "code",
   "execution_count": 11,
   "metadata": {},
   "outputs": [
    {
     "data": {
      "text/plain": [
       "True"
      ]
     },
     "execution_count": 11,
     "metadata": {},
     "output_type": "execute_result"
    }
   ],
   "source": [
    "not not not not True"
   ]
  },
  {
   "cell_type": "markdown",
   "metadata": {},
   "source": [
    "De la misma manera en que usamos doble negación en nuestro hablar, de esa forma, se puede usar el operador `not`, aunque no haya una verdadera razón para usar la doble negación en nuestros programas. A continuación mostramos la tabla de la verdad del operador `not`."
   ]
  },
  {
   "cell_type": "markdown",
   "metadata": {},
   "source": [
    "<img src=\"https://i.imgur.com/18cGQL6.png\" width=\"350\">"
   ]
  },
  {
   "cell_type": "markdown",
   "metadata": {},
   "source": [
    "### Mezclando operadores Booleanos y operadores de comparación"
   ]
  },
  {
   "cell_type": "markdown",
   "metadata": {},
   "source": [
    "Dado que los operadores de comparación retornan valores Booleanos, estos se pueden usar en expresiones con operadores Booleanos. Recordemos que `and`, `or` y `not` son llamados operadores Booleanos porque operan en los valores Booleanos `True` y `False`. Aunque expresiones como `4 < 5` no son valores Booleanos, estas retornan un valor Booleano. Intentemos ingresar en el shell interactivo algunas expresiones Booleanas que usen operadores de comparación."
   ]
  },
  {
   "cell_type": "code",
   "execution_count": 13,
   "metadata": {},
   "outputs": [
    {
     "data": {
      "text/plain": [
       "True"
      ]
     },
     "execution_count": 13,
     "metadata": {},
     "output_type": "execute_result"
    }
   ],
   "source": [
    "(4 < 5) and (5 < 6)"
   ]
  },
  {
   "cell_type": "code",
   "execution_count": 14,
   "metadata": {},
   "outputs": [
    {
     "data": {
      "text/plain": [
       "False"
      ]
     },
     "execution_count": 14,
     "metadata": {},
     "output_type": "execute_result"
    }
   ],
   "source": [
    "(4 < 5) and (9 < 6)"
   ]
  },
  {
   "cell_type": "code",
   "execution_count": 15,
   "metadata": {},
   "outputs": [
    {
     "data": {
      "text/plain": [
       "True"
      ]
     },
     "execution_count": 15,
     "metadata": {},
     "output_type": "execute_result"
    }
   ],
   "source": [
    "(1 == 2) or (2 == 2)"
   ]
  },
  {
   "cell_type": "markdown",
   "metadata": {},
   "source": [
    "El computador evaluará la expresión de la izquierda primero y luego la expresión de la derecha. Cuando conozca el valor Booleano de cada una, evaluará la expresión completa y retorna un único valor Booleano. La siguiente figura muestra el proceso llevado a cabo para obtener el resultado."
   ]
  },
  {
   "cell_type": "markdown",
   "metadata": {},
   "source": [
    "<img src=\"https://i.imgur.com/A8kC2SB.png\" width=\"200\">"
   ]
  },
  {
   "cell_type": "markdown",
   "metadata": {},
   "source": [
    "Los operadores Booleanos también tienen un orden de la misma manera que los operadores matemáticos. Después de cada operación matemática y comparación, Python evaluará el operador `not` primero, luego el operador `and` y por último el operador `or`."
   ]
  },
  {
   "cell_type": "code",
   "execution_count": 1,
   "metadata": {},
   "outputs": [
    {
     "data": {
      "text/plain": [
       "True"
      ]
     },
     "execution_count": 1,
     "metadata": {},
     "output_type": "execute_result"
    }
   ],
   "source": [
    "2 + 2 == 4 and not 2 + 2 == 5 and 2 * 2 == 2 + 2"
   ]
  },
  {
   "cell_type": "markdown",
   "metadata": {},
   "source": [
    "## Elementos de control de flujo"
   ]
  },
  {
   "cell_type": "markdown",
   "metadata": {},
   "source": [
    "Los estamentos de control de flujo, a menudo, empiezan con la *condición* y continúa con un bloque de código. Antes de empezar con los estamentos propios de Python para el control de flujo, veremos qué son la condición y el bloque de código."
   ]
  },
  {
   "cell_type": "markdown",
   "metadata": {},
   "source": [
    "### Condiciones"
   ]
  },
  {
   "cell_type": "markdown",
   "metadata": {},
   "source": [
    "Las expresiones Booleanas que hemos visto hasta ahora, bien podrían considerarse condiciones, las cuales son expresiones en sí mismas. Las ***condiciones*** sólo son el nombre específico para los estamentos del control de flujo. Las condiciones siempre retornarán un valor Booleano `True` o `False`. Un estamento de control de flujo, decide qué hacer de acuerdo si es `True` o `False` y casi todos los estamentos de control de flujo usan una condición."
   ]
  },
  {
   "cell_type": "markdown",
   "metadata": {},
   "source": [
    "### Bloques de código"
   ]
  },
  {
   "cell_type": "markdown",
   "metadata": {},
   "source": [
    "Las líneas de código en Python pueden ser agrupadas en ***bloques*** uno se puede dar cuenta cuándo empieza y cuándo termina un bloque de código por la indentación de las líneas. Existen tres reglas para los bloques."
   ]
  },
  {
   "cell_type": "markdown",
   "metadata": {},
   "source": [
    "1. Los bloques empiezan cuando se incrementa la indentación.\n",
    "2. Los bloques pueden contener otros bloques.\n",
    "3. Los bloques terminan cuando la indentación decrece a cero o a otra indentación que contiene un bloque."
   ]
  },
  {
   "cell_type": "markdown",
   "metadata": {},
   "source": [
    "Los bloques son fáciles de entender si observamos su indentación, veamos un ejemplo en el siguiente fragmento de código."
   ]
  },
  {
   "cell_type": "code",
   "execution_count": null,
   "metadata": {},
   "outputs": [],
   "source": [
    "if name == 'Mary':\n",
    "    print('Hello Mary')\n",
    "    if password == 'swordfish':\n",
    "        print('Access granted.')\n",
    "    else:\n",
    "        print('Wrong password.')"
   ]
  },
  {
   "cell_type": "markdown",
   "metadata": {},
   "source": [
    "El primer bloque de código empieza en la línea `print(‘Hello Mary’)` y contiene todas las líneas a continuación de esta. Dentro de este bloque hay otro bloque que contiene únicamente una línea: `print(‘Access Granted.’)`. El tercer bloque también únicamente contiene una línea: `print(‘Wrong password.’)`"
   ]
  },
  {
   "cell_type": "markdown",
   "metadata": {},
   "source": [
    "## Ejecución del Programa"
   ]
  },
  {
   "cell_type": "markdown",
   "metadata": {},
   "source": [
    "En los programas anteriores, Python empezaba a ejecutar el programa partiendo desde el principio (la parte superior) y línea por línea ejecutaba hacia abajo cada una de las instrucciones. Con la introducción de los estamentos de control, la ejecución del programa puede ser “desordenada”, en el sentido de que, saltaríamos de bloque a bloque de código dependiendo de cómo se evalúen las expresiones."
   ]
  },
  {
   "cell_type": "markdown",
   "metadata": {},
   "source": [
    "## Estamentos de control de flujo"
   ]
  },
  {
   "cell_type": "markdown",
   "metadata": {},
   "source": [
    "Los estamentos de control de flujo, representan los rombos o diamantes que veíamos en la figura de diagrama de flujo y constituyen en sí mismos, las decisiones que toma nuestro programa."
   ]
  },
  {
   "cell_type": "markdown",
   "metadata": {},
   "source": [
    "### Estamentos `if`"
   ]
  },
  {
   "cell_type": "markdown",
   "metadata": {},
   "source": [
    "El tipo más común de control de flujo es el estamento `if`. Éste ejecutará el bloque de código que contenga siempre y cuando la condición del estamento sea `True`. El bloque de código es evitado si la condición es `False`. En lenguaje cotidiano, la instrucción `if` se puede leer: *Si esta condición es verdadera, ejecute el siguiente bloque de código*. En Python los estamentos `if` están compuestos de:"
   ]
  },
  {
   "cell_type": "markdown",
   "metadata": {},
   "source": [
    "* La palabra clave `if`\n",
    "* Una condición (Expresión que se evalúa y retorna `True` o `False`)\n",
    "* Dos puntos `:`\n",
    "* Empezar la siguiente línea indentada un bloque de código."
   ]
  },
  {
   "cell_type": "markdown",
   "metadata": {},
   "source": [
    "Por ejemplo, veamos un fragmento de código que verifica si el nombre de una persona es `'Alice'`. (Suponga que a la variable `name` le fue asignado un valor previamente)"
   ]
  },
  {
   "cell_type": "code",
   "execution_count": null,
   "metadata": {},
   "outputs": [],
   "source": [
    "if name == 'Alice':\n",
    "    print('Hola, Alice.')"
   ]
  },
  {
   "cell_type": "markdown",
   "metadata": {},
   "source": [
    "Todos los estamentos de control de flujo terminan con `:` y son seguidos de un bloque de código. El bloque de código del estamento `if`, en este caso es `print(‘Hola, Alice.’)`"
   ]
  },
  {
   "cell_type": "markdown",
   "metadata": {},
   "source": [
    "<img src=\"https://i.imgur.com/akq8cbX.png\" width=\"410\">"
   ]
  },
  {
   "cell_type": "markdown",
   "metadata": {},
   "source": [
    "### Estamentos `else`"
   ]
  },
  {
   "cell_type": "markdown",
   "metadata": {},
   "source": [
    "Un bloque de código puede estar seguido por un estamento `else`. El bloque de código del estamento `else` se ejecuta únicamente cuando la condiciones es `False`. En lenguaje cotidiano el estamento `else` puede leerse de la siguiente manera: *Si esta condición es cierta, ejecute este bloque de código, de lo contrario, ejecute este otro bloque de código*. Un estamento `else` está compuesto por:"
   ]
  },
  {
   "cell_type": "markdown",
   "metadata": {},
   "source": [
    "* La palabra clave `else`\n",
    "* Dos puntos `:`\n",
    "* Empezar la siguiente línea indentada un bloque de código."
   ]
  },
  {
   "cell_type": "markdown",
   "metadata": {},
   "source": [
    "Volviendo al ejemplo de `Alice`, veamos un fragmento de código que nos ofrece otra opción cuando  el nombre de la persona no es `Alice`."
   ]
  },
  {
   "cell_type": "code",
   "execution_count": null,
   "metadata": {},
   "outputs": [],
   "source": [
    "if name == 'Alice':\n",
    "    print('Hola, Alice.')\n",
    "else:\n",
    "    print('Hola, persona desconocida.')"
   ]
  },
  {
   "cell_type": "markdown",
   "metadata": {},
   "source": [
    "<img src=\"https://i.imgur.com/PE80Jph.png\" width=\"500\">"
   ]
  },
  {
   "cell_type": "markdown",
   "metadata": {},
   "source": [
    "### Estementos `elif`"
   ]
  },
  {
   "cell_type": "markdown",
   "metadata": {},
   "source": [
    "Mientras un sólo bloque de código se ejecuta mediante los estamentos `if` y `else`, uno como programador, en ocasiones, desea que se ejecute un bloque de código de varias posibles opciones. El estamento `elif` es considerado como un *else if* y se lee *de lo contrario si*. El estamento `elif` siempre sigue a un estamento `if` u otro `elif`. Tiene como propósito suministrar otra condición que es comprobada sólo si la condición previa es `False`. Un estamento `elif` está compuesto por:"
   ]
  },
  {
   "cell_type": "markdown",
   "metadata": {},
   "source": [
    "* La palabra clave `elif`\n",
    "* Una condición dada por una expresión que retorna un `True` o `False`\n",
    "* Dos puntos `:`\n",
    "* La línea siguiente debe empezar indentada un bloque de código."
   ]
  },
  {
   "cell_type": "markdown",
   "metadata": {},
   "source": [
    "Agregemos un `elif` a nuestro fragmento de bloque previo para comprobar el nombre de una persona y su edad."
   ]
  },
  {
   "cell_type": "code",
   "execution_count": null,
   "metadata": {},
   "outputs": [],
   "source": [
    "if name == 'Alice':\n",
    "    print('Hola, Alice.')\n",
    "elif age < 12:\n",
    "    print('No eres Alice, niño.')"
   ]
  },
  {
   "cell_type": "markdown",
   "metadata": {},
   "source": [
    "<img src=\"https://i.imgur.com/niA7fUe.png\" width=\"500\">"
   ]
  },
  {
   "cell_type": "markdown",
   "metadata": {},
   "source": [
    "El bloque de texto del `elif` se ejecutará si `name == Alice` es `False` y si `age < 12` es `False` también. Sin embargo si ambas condiciones resultan ser `False`, todos los bloque de códigos serán saltados. Cuando hay una cadena de estamentos `elif` sólo uno o ninguno serán ejecutados. Cuando una de las condiciones de estos estamentos resulta ser `True`, el resto de los bloques de los estamentos `elif` serán evitados. Veamos el siguiente ejemplo."
   ]
  },
  {
   "cell_type": "code",
   "execution_count": null,
   "metadata": {},
   "outputs": [],
   "source": [
    "if name == 'Alice':\n",
    "    print('Hola, Alice.')\n",
    "elif age < 12:\n",
    "    print('No eres Alice, niño.')\n",
    "elif age > 2000:\n",
    "    print('A diferencia tuya, Alice no es un no-muerto, vampiro inmortal.')\n",
    "elif age > 100:\n",
    "    print('No eres Alice, abuela.')"
   ]
  },
  {
   "cell_type": "markdown",
   "metadata": {},
   "source": [
    "<img src=\"https://i.imgur.com/5K7lme2.png\" width=\"500\">"
   ]
  },
  {
   "cell_type": "markdown",
   "metadata": {},
   "source": [
    "Opcionalmente, se puede tener un estamento `else` después de una cadena de estamentos `elif`. En este caso, se garantiza que uno y sólo un bloque de código se ejecutará. Si las condiciones de cada `if` y `elif` son `False`, entonces se ejecutará el bloque de código del estamento `else`. Recreemos el programa de Alice para considerar todos los estamentos vistos hasta ahora."
   ]
  },
  {
   "cell_type": "code",
   "execution_count": null,
   "metadata": {},
   "outputs": [],
   "source": [
    "if name == 'Alice':\n",
    "    print('Hola, Alice,')\n",
    "elif age < 12:\n",
    "    print('No eres Alice, niño.')\n",
    "else:\n",
    "    print('No eres Alice y tampoco eres un niño.')"
   ]
  },
  {
   "cell_type": "markdown",
   "metadata": {},
   "source": [
    "<img src=\"https://i.imgur.com/hNn5gsM.png\" width=\"500\">"
   ]
  },
  {
   "cell_type": "markdown",
   "metadata": {},
   "source": [
    "### Estamentos de repetición `while`"
   ]
  },
  {
   "cell_type": "markdown",
   "metadata": {},
   "source": [
    "Podemos crear bloques de código que se ejecuten una y otra vez de acuerdo a nuestras necesidades, mediante el estamento `while`. El bloque de código dentro del estamento `while` se ejecutará si y sólo si, la condición es `True`. El estamento `while` está compuesto por:"
   ]
  },
  {
   "cell_type": "markdown",
   "metadata": {},
   "source": [
    "* La palabra clave `while`\n",
    "* Una condición que al evaluarse retorna `True` o `False`\n",
    "* Dos pountos `:`\n",
    "* La línea siguiente debe empezar indentada un bloque de código."
   ]
  },
  {
   "cell_type": "markdown",
   "metadata": {},
   "source": [
    "Se puede apreciar que el estamento `while` es similar al estamento `if` pero se comportan diferente. Al terminar de ejecutar el bloque del código del estamento `if` el programa continuará su ejecución en la línea siguiente. Sin embargo, cuando se trata del estamento de repetición`while`, al terminar la ejecución del bloque de código, el programa saltará inmediatamente al principio del estamento `while`. Veamos un ejemplo de estamentos `if` y `while` que usan las mismas condiciones y realizan las mismas acciones partiendo de esa condición."
   ]
  },
  {
   "cell_type": "code",
   "execution_count": null,
   "metadata": {},
   "outputs": [],
   "source": [
    "# Ejemplo del estamento if\n",
    "\n",
    "spam = 0\n",
    "if spam < 5:\n",
    "    print('Hola Mundo!')\n",
    "    spam = spam + 1"
   ]
  },
  {
   "cell_type": "markdown",
   "metadata": {},
   "source": [
    "<img src=\"https://i.imgur.com/iBoLMZD.png\" width=\"500\">"
   ]
  },
  {
   "cell_type": "code",
   "execution_count": null,
   "metadata": {},
   "outputs": [],
   "source": [
    "# Ejemplo del estamento while\n",
    "\n",
    "spam = 0\n",
    "while spam < 5:\n",
    "    print('Hola Mundo!')\n",
    "    spam = spam + 1"
   ]
  },
  {
   "cell_type": "markdown",
   "metadata": {},
   "source": [
    "<img src=\"https://i.imgur.com/yk6il4m.png\" width=\"500\">"
   ]
  },
  {
   "cell_type": "markdown",
   "metadata": {},
   "source": [
    "Ambos estamentos son similares, en el caso del `if`, el programa imprimirá `Hola Mundo!` en caso de que la condición sea `True`. Sin embargo, para el estamento `while`, en caso de que la condición sea `True`, este imprimirá `Hola Mundo!` cinco veces. Esto se puede observar en los diagramas de flujo mostrados para cada ejemplo."
   ]
  },
  {
   "cell_type": "markdown",
   "metadata": {},
   "source": [
    "Para el caso del estamento `while` se imprime cinco veces `Hola Mundo!` ya que la variable `spam` se va incrementando en cada iteración, en el momento que dicha variable sea mayor a `5`, el ciclo de repetición terminará dado que al principio de cada iteración es evaluada la condición y saltará a la línea siguiente despueś del final del bloque de código."
   ]
  },
  {
   "cell_type": "markdown",
   "metadata": {},
   "source": [
    "A continuación veremos un ejemplo de un programa que nos preguntará indefinidamente nuestro nombre."
   ]
  },
  {
   "cell_type": "code",
   "execution_count": 2,
   "metadata": {},
   "outputs": [
    {
     "name": "stdout",
     "output_type": "stream",
     "text": [
      "Porfavor ingrese su nombre.\n",
      "Thomas\n",
      "Porfavor ingrese su nombre.\n",
      "Jose\n",
      "Porfavor ingrese su nombre.\n",
      "your name\n",
      "Gracias!\n"
     ]
    }
   ],
   "source": [
    "name = ''\n",
    "while name != 'your name':\n",
    "    print('Porfavor ingrese su nombre.')\n",
    "    name = input()\n",
    "print('Gracias!')"
   ]
  },
  {
   "cell_type": "markdown",
   "metadata": {},
   "source": [
    "En el código anterior, lo primero que se hace es asignarle a la variable `name` un valor de cadena de caracteres vacío. Esto con el propósito de que la condición `name == ‘your name’` al evaluarse, retorne `True` y el programa entre al bloque de código del ciclo de repetición. Dentro de este bloque de código, el programa le pide al usuario que ingrese su nombre y lo asigna a la variable `name`. Como esta es la última línea del bloque de código, el programa saltará al principio del ciclo y evaluará nuevamente la condición, si el valor almacenado en `name` no es `your name`, la condición al evaluarse retornará un `True` y el programa entrará nuevamente al ciclo y repetirá el bloque de código preguntándonos nuestro nombre. Sin embargo, si el usuario ingresa la cadena de texto ‘your name’, la condición del ciclo será `false`dado que `name != ‘your name’` y el programa se saltará el bloque del ciclo y continuará en la línea siguiente al final del bloque de código."
   ]
  },
  {
   "cell_type": "markdown",
   "metadata": {},
   "source": [
    "<img src=\"https://i.imgur.com/QZFDvoN.png\" width=\"500\">"
   ]
  },
  {
   "cell_type": "markdown",
   "metadata": {},
   "source": [
    "### Estamentos `break`"
   ]
  },
  {
   "cell_type": "markdown",
   "metadata": {},
   "source": [
    "Existe una atajo para terminar prematuramente la ejecución de un ciclo de repetición en caso de necesitarse. Si la ejecución de un programa llega a un estamento `break`, éste inmediatamente se saldrá del ciclo de repetición. Veamos un ejemplo que realiza las mismas acciones del programa anterior pero usa el estamento `break` para salir del ciclo."
   ]
  },
  {
   "cell_type": "code",
   "execution_count": 3,
   "metadata": {},
   "outputs": [
    {
     "name": "stdout",
     "output_type": "stream",
     "text": [
      "Porfavor ingrese su nombre.\n",
      "Thomas\n",
      "Porfavor ingrese su nombre.\n",
      "Jose\n",
      "Porfavor ingrese su nombre.\n",
      "your name\n",
      "Gracias!\n"
     ]
    }
   ],
   "source": [
    "while True:\n",
    "    print('Porfavor ingrese su nombre.')\n",
    "    name = input()\n",
    "    if name == 'your name':\n",
    "        break\n",
    "print('Gracias!')"
   ]
  },
  {
   "cell_type": "markdown",
   "metadata": {},
   "source": [
    "La primera línea de código crea un ciclo infinito dado que la condición que evalúa el ciclo `while` siempre es `True`. La ejecución del programa entra al ciclo infinito y sólo se saldrá si se ejecuta un estamento `break`. De la misma manera que el ejemplo anterior, el programa pregunta por el nombre de la persona. Sin embargo, mientras la ejecución se realiza un estamento `if` al interior del ciclo `while` es ejecutado para determinar si el nombre ingresado es igual a `your name`, si al evaluar esta condición retorna `True`, se ejecuta el estamento `break` y el ciclo termina e imprime `Gracias!`. Por otro lado, si la condición del estamento `if` es `False`, la ejecución del programa salta al principio del ciclo para repetir nuevamente todo el proceso."
   ]
  },
  {
   "cell_type": "markdown",
   "metadata": {},
   "source": [
    "<img src=\"https://i.imgur.com/KiM4zxU.jpg\" width=\"600\">"
   ]
  },
  {
   "cell_type": "markdown",
   "metadata": {},
   "source": [
    "### Estamentos `continue`"
   ]
  },
  {
   "cell_type": "markdown",
   "metadata": {},
   "source": [
    "Al igual que los estamentos `break`, los estamentos `continue` se ejecutan dentro de los ciclos de repetición. Cuando la ejecución de un programa llega a un estamento `continue`, el programa salta inmediatamente al principio del ciclo y re-evalúa la condición. (Recuerden que esto es lo mismo que pasa cuando la ejecución del programa llega al final del ciclo.)"
   ]
  },
  {
   "cell_type": "markdown",
   "metadata": {},
   "source": [
    "Veamos un ejemplo del uso del estamento `continue` en un programa que pregunte por el nombre y password de una persona."
   ]
  },
  {
   "cell_type": "code",
   "execution_count": 1,
   "metadata": {},
   "outputs": [
    {
     "name": "stdout",
     "output_type": "stream",
     "text": [
      "Quien eres?\n",
      "Joe\n",
      "Hola, Joe. Cual es el password? (Es el nombre de un pez)\n",
      "swordfish\n",
      "Acceso permitido.\n"
     ]
    }
   ],
   "source": [
    "while True:\n",
    "    print('Quien eres?')\n",
    "    name = input()\n",
    "    if name != 'Joe':\n",
    "        continue\n",
    "    print('Hola, Joe. Cual es el password? (Es el nombre de un pez)')\n",
    "    password = input()\n",
    "    if password == 'swordfish':\n",
    "        break\n",
    "print('Acceso permitido.')"
   ]
  },
  {
   "cell_type": "markdown",
   "metadata": {},
   "source": [
    "Si el usuario ingresa cualquier otro nombre que no sea `Joe`, el estamento `continue` forzará un salto al principio del ciclo, cuando el programa re-evalúe la condición, dado que esta siempre será `True`, el programa entrará al ciclo. Una vez se garantiza que la persona es `Joe` mediante el estamento `if`, se pregunta por el password. Si el password es ingresado correctamente, se imprime `Acceso permitido.` De lo contrario, continúa la ejecución del programa hasta el final del ciclo que salta nuevamente al principio del mismo."
   ]
  },
  {
   "cell_type": "markdown",
   "metadata": {},
   "source": [
    " <img src=\"https://i.imgur.com/isoFgeu.jpg\" width=\"600\">"
   ]
  },
  {
   "cell_type": "markdown",
   "metadata": {},
   "source": [
    "### Ciclo `for` y la función `range()`"
   ]
  },
  {
   "cell_type": "markdown",
   "metadata": {},
   "source": [
    "El ciclo `while` se repite mientras la condición sea `True`. Sin embargo, ¿Qué tal si nosotros queremos ejecutar un bloque de código un número determinado de veces? Podemos hacer esto gracias al estamento del ciclo `for` y a la función `range()`. El ciclo `for` luce de la siguiente manera: `for i in range():` y está compuesto por:"
   ]
  },
  {
   "cell_type": "markdown",
   "metadata": {},
   "source": [
    "* La palabra clave `for`\n",
    "* El nombre de variable\n",
    "* La palabra clave `in`\n",
    "* El llamado a la función `range()` con hasta 3 enteros pasados como parámetros.\n",
    "* Dos puntos `:`\n",
    "* La línea siguiente debe empezar indentada un bloque de código."
   ]
  },
  {
   "cell_type": "markdown",
   "metadata": {},
   "source": [
    "Veamos un ejemplo del ciclo `for` en acción"
   ]
  },
  {
   "cell_type": "code",
   "execution_count": 3,
   "metadata": {},
   "outputs": [
    {
     "name": "stdout",
     "output_type": "stream",
     "text": [
      "Mi nombre es:\n",
      "Jimmy Cinco Veces (0)\n",
      "Jimmy Cinco Veces (1)\n",
      "Jimmy Cinco Veces (2)\n",
      "Jimmy Cinco Veces (3)\n",
      "Jimmy Cinco Veces (4)\n"
     ]
    }
   ],
   "source": [
    "print('Mi nombre es:')\n",
    "for i in range(5):\n",
    "    print('Jimmy Cinco Veces (' + str(i) + ')')"
   ]
  },
  {
   "cell_type": "markdown",
   "metadata": {},
   "source": [
    "El bloque de código dentro  del ciclo `for` se ejecuta cinco veces. La primera vez que se ejecuta, el valor de la variable `i` es cero. La función `print()` imprimirá `Jimmy Cinco Veces (0)`. Luego de que Python termina una iteración de todo el código dentro del ciclo `for`, la ejecución del programa vuelve al principio del ciclo y la variable `i` se incrementa en uno. Este es el motivo por el cual `range(5)` resulta en la iteración del ciclo cinco veces, donde en cada iteración el valor de `i` es asignado a `0`, luego a  `1`, luego a `2`, luego a `3` y finalmente a `4`. La variable `i` se incrementará hasta, pero sin incluir el número entero ingresado como parámetro entre paréntesis de la función `range()`."
   ]
  },
  {
   "cell_type": "markdown",
   "metadata": {},
   "source": [
    "<img src=\"https://i.imgur.com/33B0wmd.png\" width=\"500\">"
   ]
  },
  {
   "cell_type": "markdown",
   "metadata": {},
   "source": [
    "Otro ejemplo del ciclo `for` puede ser la historia sucedida al matemático Karl Friedrich Gauss. Cuando Gauss era un chico, el profesor de la escuela quería ponerle un arduo trabajo para mantenerlo ocupado. El profesor le dijo que sumara todos los números del `0` al `100`. Al joven Gauss se le ocurrió una muy inteligente manera de responder a esta pregunta en segundos. Pero nosotros podemos crear un programa en Python para realizar estos cálculos mediante un ciclo `for`."
   ]
  },
  {
   "cell_type": "code",
   "execution_count": 2,
   "metadata": {},
   "outputs": [
    {
     "name": "stdout",
     "output_type": "stream",
     "text": [
      "5050\n"
     ]
    }
   ],
   "source": [
    "total = 0\n",
    "for num in range(101):\n",
    "    total = total + num\n",
    "print(total)"
   ]
  },
  {
   "cell_type": "markdown",
   "metadata": {},
   "source": [
    "El resultado debe ser 5050. Cuando el programa inicia, se le asigna el valor de `0` a la variable `total`. Luego el ciclo `for` ejecuta la instrucción `total = total + num` 100 veces. Para el momento en que el ciclo ha terminado de iterar, todos los números enteros entre `0` y `100` han sido sumado al valor de `total`. En este punto la variable `total` se imprime en pantalla. Incluso en los computadores más lentos, este proceso toma unos cuantos segundos."
   ]
  },
  {
   "cell_type": "markdown",
   "metadata": {},
   "source": [
    "### Un ciclo `while` equivalente"
   ]
  },
  {
   "cell_type": "code",
   "execution_count": 5,
   "metadata": {},
   "outputs": [
    {
     "name": "stdout",
     "output_type": "stream",
     "text": [
      "Mi nombre es:\n",
      "Jimmy Cinco Veces (0)\n",
      "Jimmy Cinco Veces (1)\n",
      "Jimmy Cinco Veces (2)\n",
      "Jimmy Cinco Veces (3)\n",
      "Jimmy Cinco Veces (4)\n"
     ]
    }
   ],
   "source": [
    "print('Mi nombre es:')\n",
    "i = 0\n",
    "while i < 5:\n",
    "    print('Jimmy Cinco Veces (' + str(i) + ')')\n",
    "    i = i +1"
   ]
  },
  {
   "cell_type": "markdown",
   "metadata": {},
   "source": [
    "### Los argumentos de inicio, parada y el paso de la función `range()`"
   ]
  },
  {
   "cell_type": "markdown",
   "metadata": {},
   "source": [
    "Algunas funciones pueden ser llamadas con múltiples argumentos separados por coma `,` y `range()` es una de ellas. Esto nos permite cambiar el entero pasado como argumento a la función para que sigan cualquier secuencia de enteros, incluyendo el número de inicio diferente de cero."
   ]
  },
  {
   "cell_type": "code",
   "execution_count": 6,
   "metadata": {},
   "outputs": [
    {
     "name": "stdout",
     "output_type": "stream",
     "text": [
      "12\n",
      "13\n",
      "14\n",
      "15\n"
     ]
    }
   ],
   "source": [
    "for i in range(12, 16):\n",
    "    print(i)"
   ]
  },
  {
   "cell_type": "markdown",
   "metadata": {},
   "source": [
    "La función `range()` también puede ser llamada con tres argumentos. Los primeros dos argumentos son los números de inicio y de parada, el tercer argumento es el *paso* del ciclo. El paso es la cantidad en la que se incrementa la variable en cada iteración."
   ]
  },
  {
   "cell_type": "code",
   "execution_count": 7,
   "metadata": {},
   "outputs": [
    {
     "name": "stdout",
     "output_type": "stream",
     "text": [
      "0\n",
      "2\n",
      "4\n",
      "6\n",
      "8\n"
     ]
    }
   ],
   "source": [
    "for i in range(0, 10, 2):\n",
    "    print(i)"
   ]
  },
  {
   "cell_type": "markdown",
   "metadata": {},
   "source": [
    "La función `range()` es flexible en la secuencia de números que ésta produce para los ciclo `for`. Por ejemplo, se puede incluso usar números negativos para el argumento del paso, si se quiere una cuenta regresiva."
   ]
  },
  {
   "cell_type": "code",
   "execution_count": 8,
   "metadata": {},
   "outputs": [
    {
     "name": "stdout",
     "output_type": "stream",
     "text": [
      "5\n",
      "4\n",
      "3\n",
      "2\n",
      "1\n",
      "0\n"
     ]
    }
   ],
   "source": [
    "for i in range(5, -1, -1):\n",
    "    print(i)"
   ]
  },
  {
   "cell_type": "markdown",
   "metadata": {},
   "source": [
    "### Importando Módulos"
   ]
  },
  {
   "cell_type": "markdown",
   "metadata": {},
   "source": [
    "Todos los programas en Python pueden importar un conjunto de funciones llamadas *built-in functions* (o funciones incorporadas); ejemplos de éstas pueden ser las funciones `print()`, `input()`, y `len()`, funciones que hemos visto antes. Python también tiene un conjunto de módulos que se conocen como la *Librería estándar*. Cada módulo es un programa de Python que contiene un grupo de funciones relacionadas que pueden ser embebidas en nuestros programas. Por ejemplo el módulo `math` contiene funciones relacionadas con operaciones y funciones matemáticas, el módulo `random`, contiene funciones relacionadas con la generación de números aleatorios y así sucesivamente."
   ]
  },
  {
   "cell_type": "markdown",
   "metadata": {},
   "source": [
    "Antes de empezar a usar las funciones en un módulo, primero se debe importar el módulo con un estamento `import`, este estamento está compuesto por:"
   ]
  },
  {
   "cell_type": "markdown",
   "metadata": {},
   "source": [
    "* La palabra clave `import`\n",
    "* El nombre del módulo\n",
    "* Opcionalmente, más nombres de módulos siempre y cuando, estos estén separados por comas"
   ]
  },
  {
   "cell_type": "markdown",
   "metadata": {},
   "source": [
    "Una vez importamos un módulo, podemos usar todas las funciones que éste contiene. A continuación veamos un ejemplo del módulo `random()`, el cual nos dará acceso a la función `random.randint()`."
   ]
  },
  {
   "cell_type": "code",
   "execution_count": 1,
   "metadata": {},
   "outputs": [
    {
     "name": "stdout",
     "output_type": "stream",
     "text": [
      "8\n",
      "4\n",
      "9\n",
      "4\n",
      "9\n"
     ]
    }
   ],
   "source": [
    "import random\n",
    "for i in range(5):\n",
    "    print(random.randint(1, 10))"
   ]
  },
  {
   "cell_type": "markdown",
   "metadata": {},
   "source": [
    "El llamado a la función `random.randint()`, retorna un entero entre los dos número ingresados como parámetros. Dado que `randint()` pertenece al módulo `random`, primero se debe escribir el nombre del módulo con el objetivo de decirle a Python que busque esta función dentro del módulo `random`. A continuación veamos más ejemplos de importación de módulos."
   ]
  },
  {
   "cell_type": "code",
   "execution_count": null,
   "metadata": {},
   "outputs": [],
   "source": [
    "import random, sys, os, math"
   ]
  },
  {
   "cell_type": "markdown",
   "metadata": {},
   "source": [
    "### Estamentos `from` `import`"
   ]
  },
  {
   "cell_type": "markdown",
   "metadata": {},
   "source": [
    "Una alternativa al estamento `import` es agregar la palabra clave `from` seguida del nombre del módulo, la palabra clave `import` seguida de un asterisco `*`. Ejemplo `from random import *`. Usando esta alternativa, los llamados a las funciones en `random`, no necesitan escribir su nombre al principio. Sin embargo, usar el nombre completo permite una mejor legibilidad del código, así que es mejor usar la forma completa."
   ]
  },
  {
   "cell_type": "markdown",
   "metadata": {},
   "source": [
    "## Terminar un programa prematuramente usando `sys.exit()`"
   ]
  },
  {
   "cell_type": "markdown",
   "metadata": {},
   "source": [
    "El último concepto de control de flujo que veremos es cómo terminar un programa. Esto siempre sucede cuando la ejecución de un programa alcanza el final de las instrucciones. Sin embargo, podemos hacer que el programa termine o se salga mediante el llamado de la función `sys.exit()`. Dado que esta función se encuentra en el módulo `sys`, se debe importar antes de usarla. Veamos el siguiente ejemplo."
   ]
  },
  {
   "cell_type": "code",
   "execution_count": 2,
   "metadata": {},
   "outputs": [
    {
     "name": "stdout",
     "output_type": "stream",
     "text": [
      "Type exit to exit.\n",
      "exit\n"
     ]
    },
    {
     "ename": "SystemExit",
     "evalue": "",
     "output_type": "error",
     "traceback": [
      "An exception has occurred, use %tb to see the full traceback.\n",
      "\u001b[0;31mSystemExit\u001b[0m\n"
     ]
    },
    {
     "name": "stderr",
     "output_type": "stream",
     "text": [
      "/home/thomy/anaconda3/lib/python3.6/site-packages/IPython/core/interactiveshell.py:2971: UserWarning: To exit: use 'exit', 'quit', or Ctrl-D.\n",
      "  warn(\"To exit: use 'exit', 'quit', or Ctrl-D.\", stacklevel=1)\n"
     ]
    }
   ],
   "source": [
    "import sys\n",
    "\n",
    "while True:\n",
    "    print('Type exit to exit.')\n",
    "    response = input()\n",
    "    if response == 'exit':\n",
    "        sys.exit()\n",
    "    print('You typed ' + response + '.')"
   ]
  }
 ],
 "metadata": {
  "kernelspec": {
   "display_name": "Python 3",
   "language": "python",
   "name": "python3"
  },
  "language_info": {
   "codemirror_mode": {
    "name": "ipython",
    "version": 3
   },
   "file_extension": ".py",
   "mimetype": "text/x-python",
   "name": "python",
   "nbconvert_exporter": "python",
   "pygments_lexer": "ipython3",
   "version": "3.6.6"
  },
  "toc": {
   "base_numbering": "1",
   "nav_menu": {},
   "number_sections": true,
   "sideBar": true,
   "skip_h1_title": true,
   "title_cell": "Control de Flujo",
   "title_sidebar": "Contenidos",
   "toc_cell": true,
   "toc_position": {},
   "toc_section_display": true,
   "toc_window_display": true
  }
 },
 "nbformat": 4,
 "nbformat_minor": 2
}
