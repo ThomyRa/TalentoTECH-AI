{
 "cells": [
  {
   "cell_type": "markdown",
   "metadata": {
    "toc": true
   },
   "source": [
    "<h1>Diccionarios y estructuras de datos.<span class=\"tocSkip\"></span></h1>\n",
    "<div class=\"toc\"><ul class=\"toc-item\"><li><span><a href=\"#Introducción\" data-toc-modified-id=\"Introducción-1\"><span class=\"toc-item-num\">1&nbsp;&nbsp;</span>Introducción</a></span></li><li><span><a href=\"#El-tipo-de-dato-diccionario-(dict)\" data-toc-modified-id=\"El-tipo-de-dato-diccionario-(dict)-2\"><span class=\"toc-item-num\">2&nbsp;&nbsp;</span>El tipo de dato diccionario (<code>dict</code>)</a></span><ul class=\"toc-item\"><li><span><a href=\"#Diccionarios-versus-Listas\" data-toc-modified-id=\"Diccionarios-versus-Listas-2.1\"><span class=\"toc-item-num\">2.1&nbsp;&nbsp;</span>Diccionarios versus Listas</a></span></li><li><span><a href=\"#Los-métodos-keys(),-values()-e-items()\" data-toc-modified-id=\"Los-métodos-keys(),-values()-e-items()-2.2\"><span class=\"toc-item-num\">2.2&nbsp;&nbsp;</span>Los métodos <code>keys()</code>, <code>values()</code> e <code>items()</code></a></span></li><li><span><a href=\"#Revisar-si-una-llave-o-un-valor-existen-en-un-diccionario\" data-toc-modified-id=\"Revisar-si-una-llave-o-un-valor-existen-en-un-diccionario-2.3\"><span class=\"toc-item-num\">2.3&nbsp;&nbsp;</span>Revisar si una llave o un valor existen en un diccionario</a></span></li><li><span><a href=\"#El-método-get()\" data-toc-modified-id=\"El-método-get()-2.4\"><span class=\"toc-item-num\">2.4&nbsp;&nbsp;</span>El método <code>get()</code></a></span></li><li><span><a href=\"#El-método-setdefault()\" data-toc-modified-id=\"El-método-setdefault()-2.5\"><span class=\"toc-item-num\">2.5&nbsp;&nbsp;</span>El método <code>setdefault()</code></a></span></li></ul></li><li><span><a href=\"#Imprimiendo-Estéticamente\" data-toc-modified-id=\"Imprimiendo-Estéticamente-3\"><span class=\"toc-item-num\">3&nbsp;&nbsp;</span>Imprimiendo Estéticamente</a></span></li><li><span><a href=\"#Usando-estructuras-de-datos-para-modelar-los-datos-de-la-vida-real\" data-toc-modified-id=\"Usando-estructuras-de-datos-para-modelar-los-datos-de-la-vida-real-4\"><span class=\"toc-item-num\">4&nbsp;&nbsp;</span>Usando estructuras de datos para modelar los datos de la vida real</a></span><ul class=\"toc-item\"><li><span><a href=\"#Un-tablero-de-&quot;triqui&quot;\" data-toc-modified-id=\"Un-tablero-de-&quot;triqui&quot;-4.1\"><span class=\"toc-item-num\">4.1&nbsp;&nbsp;</span>Un tablero de \"triqui\"</a></span></li><li><span><a href=\"#Diccionarios-y-Listas-anidadas\" data-toc-modified-id=\"Diccionarios-y-Listas-anidadas-4.2\"><span class=\"toc-item-num\">4.2&nbsp;&nbsp;</span>Diccionarios y Listas anidadas</a></span></li></ul></li></ul></div>"
   ]
  },
  {
   "cell_type": "markdown",
   "metadata": {},
   "source": [
    "## Introducción"
   ]
  },
  {
   "cell_type": "markdown",
   "metadata": {},
   "source": [
    "En este capítulo veremos el tipo de dato diccionario, el cual suministra una manera flexible de acceder y organizar los datos. Luego, combinando los diccionarios y nuestro conocimiento de las listas obtenido hasta ahora, aprenderemos como crear estructuras de datos para modelar un tablero de *triqui*."
   ]
  },
  {
   "cell_type": "markdown",
   "metadata": {},
   "source": [
    "## El tipo de dato diccionario (`dict`)"
   ]
  },
  {
   "cell_type": "markdown",
   "metadata": {},
   "source": [
    "Como las listas, los diccionarios se pueden entender como una colección de datos, pero en lugar de usar índices, los diccionarios pueden usar otros tipos de datos diferentes y no sólo enteros. Los índices de los diccionarios se denominan *llaves* (*keys*). Una llave con su valor asociado se denomina *pareja llave-valor* (key-value pair). En código, un diccionario es escrito con `{}`. Ingresemos el siguiente diccionario en el shell interactivo."
   ]
  },
  {
   "cell_type": "code",
   "execution_count": 2,
   "metadata": {},
   "outputs": [],
   "source": [
    "myCat = {'size': 'fat', 'color': 'gray', 'disposition': 'loud'}"
   ]
  },
  {
   "cell_type": "markdown",
   "metadata": {},
   "source": [
    "Esto asigna un diccionario a la variable `myCat`. Las llaves de este diccionario son `'size'`, `'color'` y `'disposition'`. Los valores para estas llaves son `'fat'`, `'gray'` y `'loud'`, respectivamente. Podemos acceder a estos valor a través de sus llaves:"
   ]
  },
  {
   "cell_type": "code",
   "execution_count": 3,
   "metadata": {},
   "outputs": [
    {
     "data": {
      "text/plain": [
       "'fat'"
      ]
     },
     "execution_count": 3,
     "metadata": {},
     "output_type": "execute_result"
    }
   ],
   "source": [
    "myCat['size']"
   ]
  },
  {
   "cell_type": "code",
   "execution_count": 4,
   "metadata": {},
   "outputs": [
    {
     "data": {
      "text/plain": [
       "'My cat has gray fur.'"
      ]
     },
     "execution_count": 4,
     "metadata": {},
     "output_type": "execute_result"
    }
   ],
   "source": [
    "'My cat has ' + myCat['color'] + ' fur.'"
   ]
  },
  {
   "cell_type": "markdown",
   "metadata": {},
   "source": [
    "Los diccionarios también pueden usar enteros como índices , pero estos no necesariamente empiezan en cero y pueden ser cualquier número."
   ]
  },
  {
   "cell_type": "code",
   "execution_count": 6,
   "metadata": {},
   "outputs": [
    {
     "data": {
      "text/plain": [
       "'Luggage Combination'"
      ]
     },
     "execution_count": 6,
     "metadata": {},
     "output_type": "execute_result"
    }
   ],
   "source": [
    "spam = {12345: 'Luggage Combination', 42: 'The answer.'}\n",
    "spam[12345]"
   ]
  },
  {
   "cell_type": "markdown",
   "metadata": {},
   "source": [
    "### Diccionarios versus Listas"
   ]
  },
  {
   "cell_type": "markdown",
   "metadata": {},
   "source": [
    "A diferencia de las listas, los elementos en los diccionarios no tienen un orden determinado. El primer elemento de una lista llamada `spam` sería `spam[0]`. Pero no existe “primer” elemento en un diccionario. Mientras el orden de las listas importan para determinar si dos listas son iguales, en los diccionarios,  el orden de la pareja llave-valor no importa."
   ]
  },
  {
   "cell_type": "code",
   "execution_count": 7,
   "metadata": {},
   "outputs": [
    {
     "data": {
      "text/plain": [
       "False"
      ]
     },
     "execution_count": 7,
     "metadata": {},
     "output_type": "execute_result"
    }
   ],
   "source": [
    "spam = ['cats', 'dogs', 'moose']\n",
    "bacon = ['dogs', 'moose', 'cats']\n",
    "spam == bacon"
   ]
  },
  {
   "cell_type": "code",
   "execution_count": 8,
   "metadata": {},
   "outputs": [
    {
     "data": {
      "text/plain": [
       "True"
      ]
     },
     "execution_count": 8,
     "metadata": {},
     "output_type": "execute_result"
    }
   ],
   "source": [
    "eggs = {'name': 'Zophie', 'species': 'cat', 'age': '8'}\n",
    "ham = {'species': 'cat', 'age': '8', 'name': 'Zophie'}\n",
    "eggs == ham"
   ]
  },
  {
   "cell_type": "markdown",
   "metadata": {},
   "source": [
    "Como los diccionarios no tienen orden, éstos no se pueden “rebanar” como las listas. Tratar de acceder a una llave que no existe en un diccionario, arrojará un error `KeyError` similar al error de las listas `IndexError` por fuera del rango. Ingrese el siguiente fragmento de código en el shell interactivo y veamos el error resultante debido a que no existe la llave `'color'`."
   ]
  },
  {
   "cell_type": "code",
   "execution_count": 9,
   "metadata": {},
   "outputs": [
    {
     "ename": "KeyError",
     "evalue": "'color'",
     "output_type": "error",
     "traceback": [
      "\u001b[0;31m---------------------------------------------------------------------------\u001b[0m",
      "\u001b[0;31mKeyError\u001b[0m                                  Traceback (most recent call last)",
      "\u001b[0;32m<ipython-input-9-f32da3a57750>\u001b[0m in \u001b[0;36m<module>\u001b[0;34m()\u001b[0m\n\u001b[1;32m      1\u001b[0m \u001b[0mspam\u001b[0m \u001b[0;34m=\u001b[0m \u001b[0;34m{\u001b[0m\u001b[0;34m'name'\u001b[0m\u001b[0;34m:\u001b[0m \u001b[0;34m'Zophie'\u001b[0m\u001b[0;34m,\u001b[0m \u001b[0;34m'age'\u001b[0m\u001b[0;34m:\u001b[0m \u001b[0;36m7\u001b[0m\u001b[0;34m}\u001b[0m\u001b[0;34m\u001b[0m\u001b[0m\n\u001b[0;32m----> 2\u001b[0;31m \u001b[0mspam\u001b[0m\u001b[0;34m[\u001b[0m\u001b[0;34m'color'\u001b[0m\u001b[0;34m]\u001b[0m\u001b[0;34m\u001b[0m\u001b[0m\n\u001b[0m",
      "\u001b[0;31mKeyError\u001b[0m: 'color'"
     ]
    }
   ],
   "source": [
    "spam = {'name': 'Zophie', 'age': 7}\n",
    "spam['color']"
   ]
  },
  {
   "cell_type": "markdown",
   "metadata": {},
   "source": [
    "El hecho de que los diccionarios no tengan orden y podamos tener valores arbitrarios para las llaves, nos permite organizar nuestros datos en maneras poderosas. Si por ejemplo, queremos que nuestros programas almacenen los datos de los cumpleaños de nuestros amigos, podemos usar diccionarios con los nombres como las llaves y la fecha de cumpleaños como los valores"
   ]
  },
  {
   "cell_type": "code",
   "execution_count": 16,
   "metadata": {},
   "outputs": [
    {
     "name": "stdout",
     "output_type": "stream",
     "text": [
      "Ingrese un nombre: (Deje en blanco para salir y presione enter)\n",
      "Thomas\n",
      "No tengo la fecha de cumpleaños de: Thomas\n",
      "Cuándo es su cumpleaños?\n",
      "Oct 3\n",
      "La base de datos de cumpleaños fue actualizada\n",
      "Ingrese un nombre: (Deje en blanco para salir y presione enter)\n",
      "Thomas\n",
      "En Oct 3 es el cumpleaños de Thomas\n",
      "Ingrese un nombre: (Deje en blanco para salir y presione enter)\n",
      "\n"
     ]
    }
   ],
   "source": [
    "birthdays = {'Alice': 'Apr 1', 'Bob': 'Dec 12', 'Carol': 'Mar 4'}\n",
    "\n",
    "while True:\n",
    "    print('Ingrese un nombre: (Deje en blanco para salir y presione enter)')\n",
    "    name = input()\n",
    "    if name == '':\n",
    "        break\n",
    "    \n",
    "    if name in birthdays:\n",
    "        print('En ' + birthdays[name] + ' es el cumpleaños de ' + name)\n",
    "    else:\n",
    "        print('No tengo la fecha de cumpleaños de: ' + name)\n",
    "        print('Cuándo es su cumpleaños?')\n",
    "        bday = input()\n",
    "        birthdays[name] = bday\n",
    "        print('La base de datos de cumpleaños fue actualizada')"
   ]
  },
  {
   "cell_type": "markdown",
   "metadata": {},
   "source": [
    "Creamos, inicialmente, un diccionario y lo almacenamos en `birthdays`. Luego, mediante la palabra clave `in` averiguamos si el nombre ingresado existe como llave en el diccionario (así como hacíamos con las listas). Si el nombre se encuentra en el diccionario, accedemos a su valor asociado usando `[]`; si no existe, podemos agregarlo usando la misma sintaxis combinada con el operador de asignación. Desde luego, toda la información almacenada será olvidada al momento de terminar el programa. Más adelante veremos cómo guardar archivos en el disco duro."
   ]
  },
  {
   "cell_type": "markdown",
   "metadata": {},
   "source": [
    "### Los métodos `keys()`, `values()` e `items()`"
   ]
  },
  {
   "cell_type": "markdown",
   "metadata": {},
   "source": [
    "Existen tres métodos para el tipo de dato diccionario, éstos retornan valores similares a las listas y pueden devolver: llaves, valores o ambos (llaves y valores). Los valores retornados por estos métodos no son listas verdaderas, no pueden ser modificados y no pueden usar el método `append()`. Pero estos tipos de datos, (`dict_keys`, `dict_values` y `dict_items`) pueden ser usados en ciclos `for`. Veamos cómo funcionan estos métodos."
   ]
  },
  {
   "cell_type": "code",
   "execution_count": 1,
   "metadata": {},
   "outputs": [
    {
     "name": "stdout",
     "output_type": "stream",
     "text": [
      "red\n",
      "42\n"
     ]
    }
   ],
   "source": [
    "spam = {'color': 'red', 'age': 42}\n",
    "for v in spam.values():\n",
    "    print(v)"
   ]
  },
  {
   "cell_type": "markdown",
   "metadata": {},
   "source": [
    "Aquí un ciclo `for` itera sobre cada valor del diccionario `spam`. Adicionalmente, los ciclos `for` pueden iterar sobre las llaves o ambos (llaves y valores)"
   ]
  },
  {
   "cell_type": "code",
   "execution_count": 2,
   "metadata": {},
   "outputs": [
    {
     "name": "stdout",
     "output_type": "stream",
     "text": [
      "color\n",
      "age\n"
     ]
    }
   ],
   "source": [
    "for k in spam.keys():\n",
    "    print(k)"
   ]
  },
  {
   "cell_type": "code",
   "execution_count": 3,
   "metadata": {},
   "outputs": [
    {
     "name": "stdout",
     "output_type": "stream",
     "text": [
      "('color', 'red')\n",
      "('age', 42)\n"
     ]
    }
   ],
   "source": [
    "for i in spam.items():\n",
    "    print(i)"
   ]
  },
  {
   "cell_type": "markdown",
   "metadata": {},
   "source": [
    "Nótese que los valores que devuelve el método `items()` (`dict_values`) son tuplas que están formadas por la pareja llave-valor. Si queremos una lista de estos valores retornados, debemos pasarla como argumento a la función `list()`"
   ]
  },
  {
   "cell_type": "code",
   "execution_count": 4,
   "metadata": {},
   "outputs": [
    {
     "data": {
      "text/plain": [
       "dict_keys(['color', 'age'])"
      ]
     },
     "execution_count": 4,
     "metadata": {},
     "output_type": "execute_result"
    }
   ],
   "source": [
    "spam = {'color': 'red', 'age': 42}\n",
    "spam.keys()"
   ]
  },
  {
   "cell_type": "code",
   "execution_count": 11,
   "metadata": {},
   "outputs": [
    {
     "data": {
      "text/plain": [
       "['name', 'age']"
      ]
     },
     "execution_count": 11,
     "metadata": {},
     "output_type": "execute_result"
    }
   ],
   "source": [
    "lista = list(spam.keys())\n",
    "lista"
   ]
  },
  {
   "cell_type": "markdown",
   "metadata": {},
   "source": [
    "La línea `list(spam.keys())` toma los valores `dict_keys()` retornados por `keys()` y los pasa a la `list()`, la cual, luego, retorna el valor de lista `['color', 'age']`. También podemos usar el truco de asignación múltiple en un ciclo `for` para asignar, por separado, las variables llaves y valores."
   ]
  },
  {
   "cell_type": "code",
   "execution_count": 6,
   "metadata": {},
   "outputs": [
    {
     "name": "stdout",
     "output_type": "stream",
     "text": [
      "Key: color Value: red\n",
      "Key: age Value: 42\n"
     ]
    }
   ],
   "source": [
    "spam = {'color': 'red', 'age': 42}\n",
    "for k, v in spam.items():\n",
    "    print('Key: ' + k + ' Value: ' + str(v))"
   ]
  },
  {
   "cell_type": "markdown",
   "metadata": {},
   "source": [
    "### Revisar si una llave o un valor existen en un diccionario"
   ]
  },
  {
   "cell_type": "markdown",
   "metadata": {},
   "source": [
    "Recordando lo que vimos en capítulos anteriores, pudimos usar los operadores `in` y `not in` para revisar si un valor existía en una lista. También podemos usar estos operadores para averiguar si ciertas llaves o valores existen en un diccionario."
   ]
  },
  {
   "cell_type": "code",
   "execution_count": 12,
   "metadata": {},
   "outputs": [
    {
     "data": {
      "text/plain": [
       "True"
      ]
     },
     "execution_count": 12,
     "metadata": {},
     "output_type": "execute_result"
    }
   ],
   "source": [
    "spam = {'name': 'Zophie', 'age': 7}\n",
    "'name' in spam.keys()"
   ]
  },
  {
   "cell_type": "code",
   "execution_count": 9,
   "metadata": {},
   "outputs": [
    {
     "data": {
      "text/plain": [
       "True"
      ]
     },
     "execution_count": 9,
     "metadata": {},
     "output_type": "execute_result"
    }
   ],
   "source": [
    "'Zophie' in spam.values()"
   ]
  },
  {
   "cell_type": "code",
   "execution_count": 10,
   "metadata": {},
   "outputs": [
    {
     "data": {
      "text/plain": [
       "False"
      ]
     },
     "execution_count": 10,
     "metadata": {},
     "output_type": "execute_result"
    }
   ],
   "source": [
    "'color' in spam.keys()"
   ]
  },
  {
   "cell_type": "code",
   "execution_count": 11,
   "metadata": {},
   "outputs": [
    {
     "data": {
      "text/plain": [
       "True"
      ]
     },
     "execution_count": 11,
     "metadata": {},
     "output_type": "execute_result"
    }
   ],
   "source": [
    "'color' not in spam.keys()"
   ]
  },
  {
   "cell_type": "code",
   "execution_count": 12,
   "metadata": {},
   "outputs": [
    {
     "data": {
      "text/plain": [
       "False"
      ]
     },
     "execution_count": 12,
     "metadata": {},
     "output_type": "execute_result"
    }
   ],
   "source": [
    "'color' in spam"
   ]
  },
  {
   "cell_type": "markdown",
   "metadata": {},
   "source": [
    "Nótese que en los ejemplos anteriores `'color' in spam` es, esencialmente, una versión más corta de `'color' in spam.keys()`. Con esto podemos saber si un valor determinado está (o no) dentro de las llaves de un diccionario. También podemos usar las palabras claves `in` y `not in` con el valor de diccionario en sí."
   ]
  },
  {
   "cell_type": "markdown",
   "metadata": {},
   "source": [
    "### El método `get()`"
   ]
  },
  {
   "cell_type": "markdown",
   "metadata": {},
   "source": [
    "Es tedioso revisar si una llave existe o no en un diccionario antes de acceder al valor vinculado a esa llave. Afortunadamente, los diccionarios tienen el método `get()` que recibe dos argumentos: la llave del valor a recuperar y un valor de retorno para devolver si esa llave no existe."
   ]
  },
  {
   "cell_type": "code",
   "execution_count": 1,
   "metadata": {},
   "outputs": [
    {
     "data": {
      "text/plain": [
       "'I am bringing 2 cups.'"
      ]
     },
     "execution_count": 1,
     "metadata": {},
     "output_type": "execute_result"
    }
   ],
   "source": [
    "picnicItems = {'apples': 5, 'cups': 2}\n",
    "'I am bringing ' + str(picnicItems.get('cups', 0)) + ' cups.'"
   ]
  },
  {
   "cell_type": "code",
   "execution_count": 2,
   "metadata": {},
   "outputs": [
    {
     "data": {
      "text/plain": [
       "'I am bringing 0 eggs.'"
      ]
     },
     "execution_count": 2,
     "metadata": {},
     "output_type": "execute_result"
    }
   ],
   "source": [
    "'I am bringing ' + str(picnicItems.get('eggs', 0)) + ' eggs.'"
   ]
  },
  {
   "cell_type": "markdown",
   "metadata": {},
   "source": [
    "Dado que no existe la llave `eggs` en el diccionario `picnicItems` , el valor retornado por defecto por el método `get() `es `0`. Sin éste método, obtendríamos el siguiente mensaje de error."
   ]
  },
  {
   "cell_type": "code",
   "execution_count": 3,
   "metadata": {},
   "outputs": [
    {
     "ename": "KeyError",
     "evalue": "'eggs'",
     "output_type": "error",
     "traceback": [
      "\u001b[0;31m---------------------------------------------------------------------------\u001b[0m",
      "\u001b[0;31mKeyError\u001b[0m                                  Traceback (most recent call last)",
      "\u001b[0;32m<ipython-input-3-3af781e508a9>\u001b[0m in \u001b[0;36m<module>\u001b[0;34m()\u001b[0m\n\u001b[1;32m      1\u001b[0m \u001b[0mpicnicItems\u001b[0m \u001b[0;34m=\u001b[0m \u001b[0;34m{\u001b[0m\u001b[0;34m'apples'\u001b[0m\u001b[0;34m:\u001b[0m \u001b[0;36m5\u001b[0m\u001b[0;34m,\u001b[0m \u001b[0;34m'cups'\u001b[0m\u001b[0;34m:\u001b[0m \u001b[0;36m2\u001b[0m\u001b[0;34m}\u001b[0m\u001b[0;34m\u001b[0m\u001b[0m\n\u001b[0;32m----> 2\u001b[0;31m \u001b[0;34m'I am bringing '\u001b[0m \u001b[0;34m+\u001b[0m \u001b[0mstr\u001b[0m\u001b[0;34m(\u001b[0m\u001b[0mpicnicItems\u001b[0m\u001b[0;34m[\u001b[0m\u001b[0;34m'eggs'\u001b[0m\u001b[0;34m]\u001b[0m\u001b[0;34m)\u001b[0m \u001b[0;34m+\u001b[0m \u001b[0;34m' eggs.'\u001b[0m\u001b[0;34m\u001b[0m\u001b[0m\n\u001b[0m",
      "\u001b[0;31mKeyError\u001b[0m: 'eggs'"
     ]
    }
   ],
   "source": [
    "picnicItems = {'apples': 5, 'cups': 2}\n",
    "'I am bringing ' + str(picnicItems['eggs']) + ' eggs.'"
   ]
  },
  {
   "cell_type": "markdown",
   "metadata": {},
   "source": [
    "### El método `setdefault()`"
   ]
  },
  {
   "cell_type": "markdown",
   "metadata": {},
   "source": [
    "Usualmente en un diccionario debemos asignar un valor para una cierta llave únicamente si ésta no tiene asociado un valor. El código luciría así."
   ]
  },
  {
   "cell_type": "code",
   "execution_count": null,
   "metadata": {},
   "outputs": [],
   "source": [
    "spam = {'name': 'Pooka', 'age': 5}\n",
    "if 'color' not in spam:\n",
    "    spam['color'] = 'black'"
   ]
  },
  {
   "cell_type": "markdown",
   "metadata": {},
   "source": [
    "El método `setdefault()` ofrece una manera de realizar este procedimiento en una línea de código. El primer parámetro pasado como argumento es la llave a verificar y el segundo parámetro es el valor a asignar a esa llave si ésta no existe. Si la llave en efecto existe, el método `setdefault()` retornará su valor asociado."
   ]
  },
  {
   "cell_type": "code",
   "execution_count": 7,
   "metadata": {},
   "outputs": [
    {
     "data": {
      "text/plain": [
       "'black'"
      ]
     },
     "execution_count": 7,
     "metadata": {},
     "output_type": "execute_result"
    }
   ],
   "source": [
    "spam = {'name': 'Pooka', 'age': 5}\n",
    "spam.setdefault('color', 'black')"
   ]
  },
  {
   "cell_type": "code",
   "execution_count": 8,
   "metadata": {},
   "outputs": [
    {
     "data": {
      "text/plain": [
       "{'name': 'Pooka', 'age': 5, 'color': 'black'}"
      ]
     },
     "execution_count": 8,
     "metadata": {},
     "output_type": "execute_result"
    }
   ],
   "source": [
    "spam"
   ]
  },
  {
   "cell_type": "markdown",
   "metadata": {},
   "source": [
    "La primera vez que `setdefault()` es llamada, el diccionario en `spam` cambia a `{'color': 'black', 'age': 5, 'name': 'Pooka'}`. El método retorna el valor `'black'` porque este es ahora el nuevo valor para la llave `'color'`.  Cuando `spam.setdefault('color', 'white')` es llamado posteriormente, el valor para esta llave no es modificado, ya que existe una entrada a esta llave `'color'` con el valor `'black'`. El método `setdefault()` es un buen atajo para asegurarse que la llave existe .  Veamos un programa que cuenta la cantidad de ocurrencias de cada letra en una cadena . "
   ]
  },
  {
   "cell_type": "code",
   "execution_count": 9,
   "metadata": {},
   "outputs": [
    {
     "name": "stdout",
     "output_type": "stream",
     "text": [
      "{'I': 1, 't': 6, ' ': 13, 'w': 2, 'a': 4, 's': 3, 'b': 1, 'r': 5, 'i': 6, 'g': 2, 'h': 3, 'c': 3, 'o': 2, 'l': 3, 'd': 3, 'y': 1, 'n': 4, 'A': 1, 'p': 1, ',': 1, 'e': 5, 'k': 2, '.': 1}\n"
     ]
    }
   ],
   "source": [
    "message = 'It was a bright cold day in April, and the clocks were striking thirteen.'\n",
    "count = {}\n",
    "for character in message:\n",
    "    count.setdefault(character, 0)\n",
    "    count[character] = count[character] + 1\n",
    "print(count)"
   ]
  },
  {
   "cell_type": "markdown",
   "metadata": {},
   "source": [
    "El programa itera sobre cada caracter en la cadena de la variable `message` contando cuantas veces qué tan frecuente, la cada caracter aparece. El método `setdefault()` se asegura que la llave se encuentre en el diccionario `count` (con un valor por defecto de `0`), de esta manera, el programa no devolverá un mensaje de error de `KeyError` cuando `count[character] = count[character] + 1` es ejecutado."
   ]
  },
  {
   "cell_type": "markdown",
   "metadata": {},
   "source": [
    "## Imprimiendo Estéticamente"
   ]
  },
  {
   "cell_type": "markdown",
   "metadata": {},
   "source": [
    "Si importamos el módulo `pprint` en nuestros programas, tendremos acceso a las funciones `pprint()` y `pformat()` que nos permitirán imprimir en pantalla de manera estética. Esto es muy útil cuando deseamos ver de manera clara los items de nuestros diccionarios.  Modifiquemos el programa anterior usando la función `pprint()`."
   ]
  },
  {
   "cell_type": "code",
   "execution_count": 10,
   "metadata": {},
   "outputs": [
    {
     "name": "stdout",
     "output_type": "stream",
     "text": [
      "{' ': 13,\n",
      " ',': 1,\n",
      " '.': 1,\n",
      " 'A': 1,\n",
      " 'I': 1,\n",
      " 'a': 4,\n",
      " 'b': 1,\n",
      " 'c': 3,\n",
      " 'd': 3,\n",
      " 'e': 5,\n",
      " 'g': 2,\n",
      " 'h': 3,\n",
      " 'i': 6,\n",
      " 'k': 2,\n",
      " 'l': 3,\n",
      " 'n': 4,\n",
      " 'o': 2,\n",
      " 'p': 1,\n",
      " 'r': 5,\n",
      " 's': 3,\n",
      " 't': 6,\n",
      " 'w': 2,\n",
      " 'y': 1}\n"
     ]
    }
   ],
   "source": [
    "import pprint\n",
    "\n",
    "message = 'It was a bright cold day in April, and the clocks were striking thirteen.'\n",
    "count = {}\n",
    "for character in message:\n",
    "    count.setdefault(character, 0)\n",
    "    count[character] = count[character] + 1\n",
    "    \n",
    "pprint.pprint(count)"
   ]
  },
  {
   "cell_type": "markdown",
   "metadata": {},
   "source": [
    "La función `pprint.pprint()` es especialmente útil cuándo el diccionario en sí contiene listas anidadas o diccionarios. Si deseamos obtener el texto como cadena de manera estética en lugar de mostrarlo en la pantalla, debemos llamar la función `pprint.pformat()`. Las siguientes líneas son equivalente entre sí."
   ]
  },
  {
   "cell_type": "code",
   "execution_count": null,
   "metadata": {},
   "outputs": [],
   "source": [
    "pprint.pprint(someDictionaryValue)\n",
    "print(pprint.pformat(someDictionaryValue))"
   ]
  },
  {
   "cell_type": "markdown",
   "metadata": {},
   "source": [
    "## Usando estructuras de datos para modelar los datos de la vida real"
   ]
  },
  {
   "cell_type": "markdown",
   "metadata": {},
   "source": [
    "Incluso antes del internet era posible  jugar ajedrez con alguien al otro lado del mundo. Cada jugador podía organizar un tablero de ajedrez en su casa y tomando turnos enviar vía correo convencional para describir sus movimientos. Para hacer esto, los jugadores necesitaban una manera no ambigua de describir el estado del tablero y sus movimientos."
   ]
  },
  {
   "cell_type": "markdown",
   "metadata": {},
   "source": [
    "En la notación *algebraica del ajedrez* los espacios del tablero se identifican por una coordenada compuesta por una letra y un número."
   ]
  },
  {
   "cell_type": "markdown",
   "metadata": {},
   "source": [
    "<img src=\"https://i.imgur.com/D3lha0D.jpg\" width=\"300\">"
   ]
  },
  {
   "cell_type": "markdown",
   "metadata": {},
   "source": [
    "Las piezas del ajedrez se identifican por las letras *K* para el Rey, *Q* para la reina, *B* para el alfil, *N* para el caballo. Describir un movimiento, usa la letra de la pieza y la coordenada de su destino. Un par de estos movimientos describe que sucede en un turno. Por ejemplo siendo las piezas blancas quienes mueven primero, usando esta notación: *Nf3 Nc6*, tenemos que el caballo blanco mueve a la posición *f3* y el caballo negro mueve a la posición *c6* en el segundo turno."
   ]
  },
  {
   "cell_type": "markdown",
   "metadata": {},
   "source": [
    "Las piezas del ajedrez se identifican por las letras *K* para el Rey, *Q* para la reina, *B* para el alfil, *N* para el caballo. Describir un movimiento, usa la letra de la pieza y la coordenada de su destino. Un par de estos movimientos describe que sucede en un turno. Por ejemplo siendo las piezas blancas quienes mueven primero, usando esta notación: *Nf3 Nc6*, tenemos que el caballo blanco mueve a la posición *f3* y el caballo negro mueve a la posición *c6* en el segundo turno. Existe algo más en la notación algebraica para describir el estado de un juego de ajedrez, el punto es que se puede usar esta notación sin ambiguedad sin necesidad de estar presentes en una partida de ajedrez. Incluso, se puede jugar sin la necesidad de un tablero de ajedrez, siempre y cuando se tenga buena memoria. Los computadores tienen una excelente memoria, un computador moderno puede almacenar fácilmente billones de cadenas de caracteres. Así es como los computadores juegan ajedrez sin necesidad de tener el tablero físico. Éstos modelan la información para representar un juego de ajedrez. Y nosotros podemos escribir código que funcione con este modelo. Aquí es cuando las listas y los diccionarios se vuelven útiles cosas de la vida real."
   ]
  },
  {
   "cell_type": "markdown",
   "metadata": {},
   "source": [
    "### Un tablero de \"triqui\""
   ]
  },
  {
   "cell_type": "markdown",
   "metadata": {},
   "source": [
    "Un tablero de “triqui”, luce como un gran símbolo de numeral, este tiene 9 espacios, y estos a su vez, pueden contener una *X*, una *O* o un espacio en blanco. Para representar un tablero de triqui con un diccionario, se le puede asignar a cada casilla del tablero una llave en cadenas de caracter como se muestra en la siguiente figura."
   ]
  },
  {
   "cell_type": "markdown",
   "metadata": {},
   "source": [
    "<img src=\"https://i.imgur.com/ETL7aOY.png\" width=\"300\">"
   ]
  },
  {
   "cell_type": "markdown",
   "metadata": {},
   "source": [
    "Podemos usar caracteres para representar que hay en cada casilla del tablero. `'X'`, `'O'` o `' '` (un caracter de espacio).  Además, vamos a necesitar almacenar nueve cadenas. Podemos usar un diccionario de valores, la llave con el valor de cadena `'top-R'`, nos representa la casilla de esquina superior derecha, la llave con el valor `'low-L'` nos representa la casilla inferior izquierda, y así sucesivamente. Este diccionario, es una estructura de datos que representa un tablero de “triqui” . Almacenemos este tablero a manera de diccionario en una variable llamada `theBoard`."
   ]
  },
  {
   "cell_type": "code",
   "execution_count": null,
   "metadata": {},
   "outputs": [],
   "source": [
    "theBoard = {'top-L': ' ', 'top-M': ' ', 'top-R': ' ',\n",
    "            'mid-L': ' ', 'mid-M': ' ', 'mid-R': ' ',\n",
    "            'low-L': ' ', 'low-M': ' ', 'low-R': ' '}"
   ]
  },
  {
   "cell_type": "markdown",
   "metadata": {},
   "source": [
    "Este diccionario almacenado en la variable `theBoard` se representa por la siguiente figura."
   ]
  },
  {
   "cell_type": "markdown",
   "metadata": {},
   "source": [
    "<img src=\"https://i.imgur.com/qwFlTBL.png\" width=\"300\">"
   ]
  },
  {
   "cell_type": "markdown",
   "metadata": {},
   "source": [
    "Dado que el valor para cada llave en `theBoard` es un único espacio en blanco, este diccionario representa un tablero de “triqui” vacío. Si el jugador **X** empieza y escoge el espacio de la mitad, podemos representar el tablero con el siguiente diccionario:"
   ]
  },
  {
   "cell_type": "code",
   "execution_count": null,
   "metadata": {},
   "outputs": [],
   "source": [
    "theBoard = {'top-L': ' ', 'top-M': ' ', 'top-R': ' ',\n",
    "            'mid-L': ' ', 'mid-M': 'X', 'mid-R': ' ',\n",
    "            'low-L': ' ', 'low-M': ' ', 'low-R': ' '}"
   ]
  },
  {
   "cell_type": "markdown",
   "metadata": {},
   "source": [
    "Este diccionario ahora representa el siguiente tablero."
   ]
  },
  {
   "cell_type": "markdown",
   "metadata": {},
   "source": [
    "<img src=\"https://i.imgur.com/CqKA0pT.png\" width=\"300\">"
   ]
  },
  {
   "cell_type": "markdown",
   "metadata": {},
   "source": [
    "Un tablero donde el jugador O ha ganado poniendo Os a lo largo de la fila superior luciría de la siguiente manera."
   ]
  },
  {
   "cell_type": "code",
   "execution_count": null,
   "metadata": {},
   "outputs": [],
   "source": [
    "theBoard = {'top-L': 'O', 'top-M': 'O', 'top-R': 'O',\n",
    "            'mid-L': 'X', 'mid-M': 'X', 'mid-R': ' ',\n",
    "            'low-L': ' ', 'low-M': ' ', 'low-R': 'X'}"
   ]
  },
  {
   "cell_type": "markdown",
   "metadata": {},
   "source": [
    "<img src=\"https://i.imgur.com/2K3HjI9.png\" width=\"300\">"
   ]
  },
  {
   "cell_type": "markdown",
   "metadata": {},
   "source": [
    "Desde luego que los jugadores sólo verían lo que se les muestra en pantalla, no el contenido de las variables. En este orden de ideas, creemos una función que imprima en pantalla el diccionario del tablero. Al momento de correr este fragmento de código tendremos en pantalla un tablero de \"triqui\" vacío ."
   ]
  },
  {
   "cell_type": "code",
   "execution_count": 8,
   "metadata": {},
   "outputs": [
    {
     "name": "stdout",
     "output_type": "stream",
     "text": [
      "   |   | \n",
      "---+---+---\n",
      "   |   | \n",
      "---+---+---\n",
      "   |   | \n"
     ]
    }
   ],
   "source": [
    "theBoard = {'top-L': ' ', 'top-M': ' ', 'top-R': ' ',\n",
    "            'mid-L': ' ', 'mid-M': ' ', 'mid-R': ' ',\n",
    "            'low-L': ' ', 'low-M': ' ', 'low-R': ' '}\n",
    "\n",
    "def printBoard(board):\n",
    "    print(board['top-L'] + '  |' + board['top-M'] + '  |' + board['top-R'])\n",
    "    print('---+---+---')\n",
    "    print(board['mid-L'] + '  |' + board['mid-M'] + '  |' + board['mid-R'])\n",
    "    print('---+---+---')\n",
    "    print(board['low-L'] + '  |' + board['low-M'] + '  |' + board['low-R'])\n",
    "printBoard(theBoard)"
   ]
  },
  {
   "cell_type": "markdown",
   "metadata": {},
   "source": [
    "La función `printBoard()` puede manejar cualquier estructura de dato para nuestro “triqui” que le pasemos. Probemos el siguiente código:"
   ]
  },
  {
   "cell_type": "code",
   "execution_count": 13,
   "metadata": {},
   "outputs": [
    {
     "name": "stdout",
     "output_type": "stream",
     "text": [
      "O  |O  |O\n",
      "---+---+---\n",
      "X  |X  | \n",
      "---+---+---\n",
      "   |   |X\n"
     ]
    }
   ],
   "source": [
    "theBoard = {'top-L': 'O', 'top-M': 'O', 'top-R': 'O', \n",
    "            'mid-L': 'X', 'mid-M':'X', 'mid-R': ' ', \n",
    "            'low-L': ' ', 'low-M': ' ', 'low-R': 'X'}\n",
    "def printBoard(board):\n",
    "    print(board['top-L'] + '  |' + board['top-M'] + '  |' + board['top-R'])\n",
    "    print('---+---+---')\n",
    "    print(board['mid-L'] + '  |' + board['mid-M'] + '  |' + board['mid-R'])\n",
    "    print('---+---+---')\n",
    "    print(board['low-L'] + '  |' + board['low-M'] + '  |' + board['low-R'])\n",
    "printBoard(theBoard)"
   ]
  },
  {
   "cell_type": "markdown",
   "metadata": {},
   "source": [
    "Acabamos de crear un tablero de “triqui” a través de una estructura de datos. Escribimos código en `printBoard()` para interpretar dicha estructura de datos y como resultado, ahora tenemos un programa que modela un juego de triqui y su tablero. Pudimos usar y organizar la estructura de datos de manera diferente, en lugar de escribir `'top-L'`, pudimos escribir `'Top-Left'`, pero en tanto en código funcione, con nuestra estructura de datos, tendremos un programa que funciona apropiadamente. Por ejemplo, la función `printBoard()`, espera que la estructura de datos para el juego de “triqui” sea un diccionario con nueve llaves para cada uno de las casillas del tablero. Si el diccionario que le pasamos, carece de la casilla del medio, por ejemplo `'mid-L'`, nuestro programa no funcionará."
   ]
  },
  {
   "cell_type": "code",
   "execution_count": 15,
   "metadata": {},
   "outputs": [
    {
     "name": "stdout",
     "output_type": "stream",
     "text": [
      "O  |O  |O\n",
      "---+---+---\n"
     ]
    },
    {
     "ename": "KeyError",
     "evalue": "'mid-L'",
     "output_type": "error",
     "traceback": [
      "\u001b[0;31m---------------------------------------------------------------------------\u001b[0m",
      "\u001b[0;31mKeyError\u001b[0m                                  Traceback (most recent call last)",
      "\u001b[0;32m<ipython-input-15-ba0cc85cc79e>\u001b[0m in \u001b[0;36m<module>\u001b[0;34m()\u001b[0m\n\u001b[1;32m      8\u001b[0m     \u001b[0mprint\u001b[0m\u001b[0;34m(\u001b[0m\u001b[0;34m'---+---+---'\u001b[0m\u001b[0;34m)\u001b[0m\u001b[0;34m\u001b[0m\u001b[0m\n\u001b[1;32m      9\u001b[0m     \u001b[0mprint\u001b[0m\u001b[0;34m(\u001b[0m\u001b[0mboard\u001b[0m\u001b[0;34m[\u001b[0m\u001b[0;34m'low-L'\u001b[0m\u001b[0;34m]\u001b[0m \u001b[0;34m+\u001b[0m \u001b[0;34m'  |'\u001b[0m \u001b[0;34m+\u001b[0m \u001b[0mboard\u001b[0m\u001b[0;34m[\u001b[0m\u001b[0;34m'low-M'\u001b[0m\u001b[0;34m]\u001b[0m \u001b[0;34m+\u001b[0m \u001b[0;34m'  |'\u001b[0m \u001b[0;34m+\u001b[0m \u001b[0mboard\u001b[0m\u001b[0;34m[\u001b[0m\u001b[0;34m'low-R'\u001b[0m\u001b[0;34m]\u001b[0m\u001b[0;34m)\u001b[0m\u001b[0;34m\u001b[0m\u001b[0m\n\u001b[0;32m---> 10\u001b[0;31m \u001b[0mprintBoard\u001b[0m\u001b[0;34m(\u001b[0m\u001b[0mtheBoard\u001b[0m\u001b[0;34m)\u001b[0m\u001b[0;34m\u001b[0m\u001b[0m\n\u001b[0m",
      "\u001b[0;32m<ipython-input-15-ba0cc85cc79e>\u001b[0m in \u001b[0;36mprintBoard\u001b[0;34m(board)\u001b[0m\n\u001b[1;32m      5\u001b[0m     \u001b[0mprint\u001b[0m\u001b[0;34m(\u001b[0m\u001b[0mboard\u001b[0m\u001b[0;34m[\u001b[0m\u001b[0;34m'top-L'\u001b[0m\u001b[0;34m]\u001b[0m \u001b[0;34m+\u001b[0m \u001b[0;34m'  |'\u001b[0m \u001b[0;34m+\u001b[0m \u001b[0mboard\u001b[0m\u001b[0;34m[\u001b[0m\u001b[0;34m'top-M'\u001b[0m\u001b[0;34m]\u001b[0m \u001b[0;34m+\u001b[0m \u001b[0;34m'  |'\u001b[0m \u001b[0;34m+\u001b[0m \u001b[0mboard\u001b[0m\u001b[0;34m[\u001b[0m\u001b[0;34m'top-R'\u001b[0m\u001b[0;34m]\u001b[0m\u001b[0;34m)\u001b[0m\u001b[0;34m\u001b[0m\u001b[0m\n\u001b[1;32m      6\u001b[0m     \u001b[0mprint\u001b[0m\u001b[0;34m(\u001b[0m\u001b[0;34m'---+---+---'\u001b[0m\u001b[0;34m)\u001b[0m\u001b[0;34m\u001b[0m\u001b[0m\n\u001b[0;32m----> 7\u001b[0;31m     \u001b[0mprint\u001b[0m\u001b[0;34m(\u001b[0m\u001b[0mboard\u001b[0m\u001b[0;34m[\u001b[0m\u001b[0;34m'mid-L'\u001b[0m\u001b[0;34m]\u001b[0m \u001b[0;34m+\u001b[0m \u001b[0;34m'  |'\u001b[0m \u001b[0;34m+\u001b[0m \u001b[0mboard\u001b[0m\u001b[0;34m[\u001b[0m\u001b[0;34m'mid-M'\u001b[0m\u001b[0;34m]\u001b[0m \u001b[0;34m+\u001b[0m \u001b[0;34m'  |'\u001b[0m \u001b[0;34m+\u001b[0m \u001b[0mboard\u001b[0m\u001b[0;34m[\u001b[0m\u001b[0;34m'mid-R'\u001b[0m\u001b[0;34m]\u001b[0m\u001b[0;34m)\u001b[0m\u001b[0;34m\u001b[0m\u001b[0m\n\u001b[0m\u001b[1;32m      8\u001b[0m     \u001b[0mprint\u001b[0m\u001b[0;34m(\u001b[0m\u001b[0;34m'---+---+---'\u001b[0m\u001b[0;34m)\u001b[0m\u001b[0;34m\u001b[0m\u001b[0m\n\u001b[1;32m      9\u001b[0m     \u001b[0mprint\u001b[0m\u001b[0;34m(\u001b[0m\u001b[0mboard\u001b[0m\u001b[0;34m[\u001b[0m\u001b[0;34m'low-L'\u001b[0m\u001b[0;34m]\u001b[0m \u001b[0;34m+\u001b[0m \u001b[0;34m'  |'\u001b[0m \u001b[0;34m+\u001b[0m \u001b[0mboard\u001b[0m\u001b[0;34m[\u001b[0m\u001b[0;34m'low-M'\u001b[0m\u001b[0;34m]\u001b[0m \u001b[0;34m+\u001b[0m \u001b[0;34m'  |'\u001b[0m \u001b[0;34m+\u001b[0m \u001b[0mboard\u001b[0m\u001b[0;34m[\u001b[0m\u001b[0;34m'low-R'\u001b[0m\u001b[0;34m]\u001b[0m\u001b[0;34m)\u001b[0m\u001b[0;34m\u001b[0m\u001b[0m\n",
      "\u001b[0;31mKeyError\u001b[0m: 'mid-L'"
     ]
    }
   ],
   "source": [
    "theBoard = {'top-L': 'O', 'top-M': 'O', 'top-R': 'O', \n",
    "             'mid-M':'X', 'mid-R': ' ', \n",
    "            'low-L': ' ', 'low-M': ' ', 'low-R': 'X'}\n",
    "def printBoard(board):\n",
    "    print(board['top-L'] + '  |' + board['top-M'] + '  |' + board['top-R'])\n",
    "    print('---+---+---')\n",
    "    print(board['mid-L'] + '  |' + board['mid-M'] + '  |' + board['mid-R'])\n",
    "    print('---+---+---')\n",
    "    print(board['low-L'] + '  |' + board['low-M'] + '  |' + board['low-R'])\n",
    "printBoard(theBoard)"
   ]
  },
  {
   "cell_type": "markdown",
   "metadata": {},
   "source": [
    "Ahora agreguemos el fragmento de código que permite a los jugadores, ingresar sus movimientos"
   ]
  },
  {
   "cell_type": "code",
   "execution_count": 21,
   "metadata": {},
   "outputs": [
    {
     "name": "stdout",
     "output_type": "stream",
     "text": [
      "   |   | \n",
      "---+---+---\n",
      "   |   | \n",
      "---+---+---\n",
      "   |   | \n",
      "Turn for X. Move on which space?\n",
      "mid-M\n",
      "   |   | \n",
      "---+---+---\n",
      "   |X  | \n",
      "---+---+---\n",
      "   |   | \n",
      "Turn for O. Move on which space?\n",
      "low-L\n",
      "   |   | \n",
      "---+---+---\n",
      "   |X  | \n",
      "---+---+---\n",
      "O  |   | \n",
      "Turn for X. Move on which space?\n",
      "top-R\n",
      "   |   |X\n",
      "---+---+---\n",
      "   |X  | \n",
      "---+---+---\n",
      "O  |   | \n",
      "Turn for O. Move on which space?\n",
      "top-L\n",
      "O  |   |X\n",
      "---+---+---\n",
      "   |X  | \n",
      "---+---+---\n",
      "O  |   | \n",
      "Turn for X. Move on which space?\n",
      "mid-M\n",
      "O  |   |X\n",
      "---+---+---\n",
      "   |X  | \n",
      "---+---+---\n",
      "O  |   | \n",
      "Turn for O. Move on which space?\n",
      "top-L\n",
      "O  |   |X\n",
      "---+---+---\n",
      "   |X  | \n",
      "---+---+---\n",
      "O  |   | \n",
      "Turn for X. Move on which space?\n",
      "mid-L\n",
      "O  |   |X\n",
      "---+---+---\n",
      "X  |X  | \n",
      "---+---+---\n",
      "O  |   | \n",
      "Turn for O. Move on which space?\n",
      "mid-R\n",
      "O  |   |X\n",
      "---+---+---\n",
      "X  |X  |O\n",
      "---+---+---\n",
      "O  |   | \n",
      "Turn for X. Move on which space?\n",
      "low-R\n",
      "O  |   |X\n",
      "---+---+---\n",
      "X  |X  |O\n",
      "---+---+---\n",
      "O  |   |X\n"
     ]
    }
   ],
   "source": [
    "theBoard = {'top-L': ' ', 'top-M': ' ', 'top-R': ' ',\n",
    "            'mid-L': ' ', 'mid-M': ' ', 'mid-R': ' ',\n",
    "            'low-L': ' ', 'low-M': ' ', 'low-R': ' '}\n",
    "\n",
    "def printBoard(board):\n",
    "    print(board['top-L'] + '  |' + board['top-M'] + '  |' + board['top-R'])\n",
    "    print('---+---+---')\n",
    "    print(board['mid-L'] + '  |' + board['mid-M'] + '  |' + board['mid-R'])\n",
    "    print('---+---+---')\n",
    "    print(board['low-L'] + '  |' + board['low-M'] + '  |' + board['low-R'])\n",
    "\n",
    "\n",
    "turn = 'X'\n",
    "for i in range(9):\n",
    "    printBoard(theBoard)\n",
    "    print('Turn for ' + turn + '. Move on which space?')\n",
    "    move = input()\n",
    "    theBoard[move] = turn\n",
    "    if turn == 'X':\n",
    "        turn = 'O'\n",
    "    else:\n",
    "        turn = 'X'\n",
    "    \n",
    "printBoard(theBoard)"
   ]
  },
  {
   "cell_type": "markdown",
   "metadata": {},
   "source": [
    "Este no es un juego completo de “triqui”, adicionalmente, tampoco verifica qué jugador es el ganador, pero es suficiente para ejemplificar cómo funcionan las estructuras de datos en nuestros programas."
   ]
  },
  {
   "cell_type": "markdown",
   "metadata": {},
   "source": [
    "Si desea el código completo para un juego de triqui y mucho material más, lo puede descargar en: https://nostarch.com/automatestuff/"
   ]
  },
  {
   "cell_type": "markdown",
   "metadata": {},
   "source": [
    "### Diccionarios y Listas anidadas"
   ]
  },
  {
   "cell_type": "markdown",
   "metadata": {},
   "source": [
    "Modelar un juego de “triqui” fue algo simple, el tablero necesitó únicamente un diccionario con nuevas parejas llave-valor. A medida que modelamos cosas más complicadas, nos podemos encontrar con que se necesitan diccionarios y listas que contengan otros diccionarios y listas. Las listas son útiles porque contienen series ordenadas y los diccionarios son útiles porque contienen valores asociados a cada una de sus llaves. Por ejemplo, aquí vemos un programa que usa un diccionario que contiene otro diccionario con el objetivo de  ver quien trae qué a un picnic. La función `totalBrought()` puede leer esta estructura de datos y calcular el número total de un item traído por todos los invitados."
   ]
  },
  {
   "cell_type": "code",
   "execution_count": 22,
   "metadata": {},
   "outputs": [
    {
     "name": "stdout",
     "output_type": "stream",
     "text": [
      "Number of things being brought:\n",
      " - Apples 7\n",
      " - Cups 3\n",
      " - Cakes 0\n",
      " - Ham Sandwiches 3\n",
      " - Apple Pies 1\n"
     ]
    }
   ],
   "source": [
    "allGuests = {'Alice': {'apples': 5, 'pretzels': 12}, \n",
    "             'Bob': {'ham sandwiches': 3, 'apples': 2},\n",
    "             'Carol': {'cups': 3, 'apple pies': 1}}\n",
    "\n",
    "def totalBrought(guests, item):\n",
    "    numBrought = 0\n",
    "    for k, v in guests.items():\n",
    "        numBrought = numBrought + v.get(item, 0)\n",
    "    return numBrought\n",
    "\n",
    "print('Number of things being brought:')\n",
    "print(' - Apples ' + str(totalBrought(allGuests, 'apples')))\n",
    "print(' - Cups ' + str(totalBrought(allGuests, 'cups')))\n",
    "print(' - Cakes ' + str(totalBrought(allGuests, 'cakes')))\n",
    "print(' - Ham Sandwiches ' + str(totalBrought(allGuests, 'ham sandwiches')))\n",
    "print(' - Apple Pies ' + str(totalBrought(allGuests, 'apple pies')))"
   ]
  },
  {
   "cell_type": "markdown",
   "metadata": {},
   "source": [
    "Dentro de la función `totalBrought()`, el ciclo `for` itera sobre las parejas llave-valor en `guests`. Dentro del ciclo, la cadena de caracteres del nombre de la persona, representada por las llaves, se representan con la letra `k` y el diccionario de los items del picnic que han sido traídos, se asigna a la letra `v`. Si el parámetro del item existe en forma de llave en este diccionario, su valor (la cantidad), es agregada a `numBrought`. Si no existe en forma de llave, el método `get()` retorna `0` para ser agregado a `numBrought`."
   ]
  },
  {
   "cell_type": "markdown",
   "metadata": {},
   "source": [
    "Esto puede parecer una tarea simple que no necesita el uso de un diccionario para modelarla. Pero el entender que la misma función `totalBrought()` puede fácilmente manejar un diccionario con miles de personas y cada uno de ellos puede traer miles de elementos, puede ayudarnos a ahorrar mucho trabajo. Fácilmente, esta estructura de datos puede emplearse para llevar inventarios de oficina de empresas, entre otras cosas. Podemos modelar muchas cosas con las estructuras de datos en la forma que deseemos siempre y cuando el resto del código en nuestro programa funcione correctamente con ese modelo. En estos momentos que estamos aprendiendo a programar, no nos preocupemos por la manera “adecuada” de modelar los datos. A medida que empecemos a modelar más datos, obtendremos más experiencia en la implementación de modelos más eficientes. "
   ]
  }
 ],
 "metadata": {
  "kernelspec": {
   "display_name": "Python 3",
   "language": "python",
   "name": "python3"
  },
  "language_info": {
   "codemirror_mode": {
    "name": "ipython",
    "version": 3
   },
   "file_extension": ".py",
   "mimetype": "text/x-python",
   "name": "python",
   "nbconvert_exporter": "python",
   "pygments_lexer": "ipython3",
   "version": "3.6.6"
  },
  "toc": {
   "base_numbering": 1,
   "nav_menu": {},
   "number_sections": true,
   "sideBar": true,
   "skip_h1_title": false,
   "title_cell": "Diccionarios y estructuras de datos.",
   "title_sidebar": "Contenidos",
   "toc_cell": true,
   "toc_position": {},
   "toc_section_display": true,
   "toc_window_display": true
  }
 },
 "nbformat": 4,
 "nbformat_minor": 2
}
